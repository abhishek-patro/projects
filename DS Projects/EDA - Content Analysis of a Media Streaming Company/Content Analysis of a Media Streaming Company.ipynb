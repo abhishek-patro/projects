{
 "cells": [
  {
   "cell_type": "code",
   "execution_count": 81,
   "id": "fac8c2ac",
   "metadata": {
    "id": "fac8c2ac"
   },
   "outputs": [],
   "source": [
    "import pandas as pd\n",
    "import numpy as np\n",
    "import matplotlib.pyplot as plt\n",
    "import seaborn as sns\n",
    "import plotly.express as px\n",
    "from plotly.subplots import make_subplots\n",
    "\n",
    "import random\n",
    "\n",
    "import warnings\n",
    "warnings.filterwarnings(\"ignore\")\n",
    "\n",
    "sns.set_style(\"darkgrid\")"
   ]
  },
  {
   "cell_type": "code",
   "execution_count": 82,
   "id": "05d0057b",
   "metadata": {
    "id": "05d0057b"
   },
   "outputs": [],
   "source": [
    "df = pd.read_csv(\"data exploration.csv\")"
   ]
  },
  {
   "cell_type": "markdown",
   "id": "3ee976fe",
   "metadata": {
    "id": "3ee976fe"
   },
   "source": [
    "# Problem Statement\n"
   ]
  },
  {
   "cell_type": "markdown",
   "id": "98254c3d",
   "metadata": {
    "id": "98254c3d"
   },
   "source": [
    "Which type of shows/movies to produce: Understanding the preferences and trends of viewers to create content that attracts more subscribers and retains existing ones."
   ]
  },
  {
   "cell_type": "markdown",
   "id": "f154625f",
   "metadata": {},
   "source": [
    "# Initial Data Exploration"
   ]
  },
  {
   "cell_type": "code",
   "execution_count": 83,
   "id": "e761f36d",
   "metadata": {
    "colab": {
     "base_uri": "https://localhost:8080/",
     "height": 0
    },
    "id": "e761f36d",
    "outputId": "0a6b76fa-b5eb-4d63-880b-54ac4c0a947a"
   },
   "outputs": [
    {
     "data": {
      "text/plain": [
       "(202010, 16)"
      ]
     },
     "execution_count": 83,
     "metadata": {},
     "output_type": "execute_result"
    }
   ],
   "source": [
    "df.shape"
   ]
  },
  {
   "cell_type": "code",
   "execution_count": 84,
   "id": "dee3273e",
   "metadata": {
    "colab": {
     "base_uri": "https://localhost:8080/",
     "height": 0
    },
    "id": "dee3273e",
    "outputId": "4b7a3d85-8629-4c90-d3fb-40ebe43bcde7"
   },
   "outputs": [
    {
     "name": "stdout",
     "output_type": "stream",
     "text": [
      "<class 'pandas.core.frame.DataFrame'>\n",
      "RangeIndex: 202010 entries, 0 to 202009\n",
      "Data columns (total 16 columns):\n",
      " #   Column        Non-Null Count   Dtype  \n",
      "---  ------        --------------   -----  \n",
      " 0   Unnamed: 0    202010 non-null  int64  \n",
      " 1   show_id       202010 non-null  object \n",
      " 2   type          202010 non-null  object \n",
      " 3   title         202010 non-null  object \n",
      " 4   release_year  202010 non-null  int64  \n",
      " 5   rating        201943 non-null  object \n",
      " 6   duration      202007 non-null  float64\n",
      " 7   description   202010 non-null  object \n",
      " 8   cast          199861 non-null  object \n",
      " 9   country       190007 non-null  object \n",
      " 10  listed_in     202010 non-null  object \n",
      " 11  director      151367 non-null  object \n",
      " 12  dayname       201852 non-null  object \n",
      " 13  day           201852 non-null  float64\n",
      " 14  month         201852 non-null  object \n",
      " 15  year          201852 non-null  float64\n",
      "dtypes: float64(3), int64(2), object(11)\n",
      "memory usage: 24.7+ MB\n"
     ]
    }
   ],
   "source": [
    "df.info()"
   ]
  },
  {
   "cell_type": "code",
   "execution_count": 85,
   "id": "f05c3626",
   "metadata": {
    "colab": {
     "base_uri": "https://localhost:8080/",
     "height": 702
    },
    "id": "f05c3626",
    "outputId": "aeed8957-4c2c-4610-e422-b50573596237"
   },
   "outputs": [
    {
     "data": {
      "text/html": [
       "<div>\n",
       "<style scoped>\n",
       "    .dataframe tbody tr th:only-of-type {\n",
       "        vertical-align: middle;\n",
       "    }\n",
       "\n",
       "    .dataframe tbody tr th {\n",
       "        vertical-align: top;\n",
       "    }\n",
       "\n",
       "    .dataframe thead th {\n",
       "        text-align: right;\n",
       "    }\n",
       "</style>\n",
       "<table border=\"1\" class=\"dataframe\">\n",
       "  <thead>\n",
       "    <tr style=\"text-align: right;\">\n",
       "      <th></th>\n",
       "      <th>Unnamed: 0</th>\n",
       "      <th>show_id</th>\n",
       "      <th>type</th>\n",
       "      <th>title</th>\n",
       "      <th>release_year</th>\n",
       "      <th>rating</th>\n",
       "      <th>duration</th>\n",
       "      <th>description</th>\n",
       "      <th>cast</th>\n",
       "      <th>country</th>\n",
       "      <th>listed_in</th>\n",
       "      <th>director</th>\n",
       "      <th>dayname</th>\n",
       "      <th>day</th>\n",
       "      <th>month</th>\n",
       "      <th>year</th>\n",
       "    </tr>\n",
       "  </thead>\n",
       "  <tbody>\n",
       "    <tr>\n",
       "      <th>0</th>\n",
       "      <td>0</td>\n",
       "      <td>s1</td>\n",
       "      <td>Movie</td>\n",
       "      <td>Dick Johnson Is Dead</td>\n",
       "      <td>2020</td>\n",
       "      <td>PG-13</td>\n",
       "      <td>90.0</td>\n",
       "      <td>As her father nears the end of his life, filmm...</td>\n",
       "      <td>NaN</td>\n",
       "      <td>United States</td>\n",
       "      <td>Documentaries</td>\n",
       "      <td>Kirsten Johnson</td>\n",
       "      <td>Saturday</td>\n",
       "      <td>25.0</td>\n",
       "      <td>September</td>\n",
       "      <td>2021.0</td>\n",
       "    </tr>\n",
       "    <tr>\n",
       "      <th>1</th>\n",
       "      <td>1</td>\n",
       "      <td>s2</td>\n",
       "      <td>TV Show</td>\n",
       "      <td>Blood &amp; Water</td>\n",
       "      <td>2021</td>\n",
       "      <td>TV-MA</td>\n",
       "      <td>2.0</td>\n",
       "      <td>After crossing paths at a party, a Cape Town t...</td>\n",
       "      <td>Ama Qamata</td>\n",
       "      <td>South Africa</td>\n",
       "      <td>International TV Shows</td>\n",
       "      <td>NaN</td>\n",
       "      <td>Friday</td>\n",
       "      <td>24.0</td>\n",
       "      <td>September</td>\n",
       "      <td>2021.0</td>\n",
       "    </tr>\n",
       "    <tr>\n",
       "      <th>2</th>\n",
       "      <td>2</td>\n",
       "      <td>s2</td>\n",
       "      <td>TV Show</td>\n",
       "      <td>Blood &amp; Water</td>\n",
       "      <td>2021</td>\n",
       "      <td>TV-MA</td>\n",
       "      <td>2.0</td>\n",
       "      <td>After crossing paths at a party, a Cape Town t...</td>\n",
       "      <td>Ama Qamata</td>\n",
       "      <td>South Africa</td>\n",
       "      <td>TV Dramas</td>\n",
       "      <td>NaN</td>\n",
       "      <td>Friday</td>\n",
       "      <td>24.0</td>\n",
       "      <td>September</td>\n",
       "      <td>2021.0</td>\n",
       "    </tr>\n",
       "    <tr>\n",
       "      <th>3</th>\n",
       "      <td>3</td>\n",
       "      <td>s2</td>\n",
       "      <td>TV Show</td>\n",
       "      <td>Blood &amp; Water</td>\n",
       "      <td>2021</td>\n",
       "      <td>TV-MA</td>\n",
       "      <td>2.0</td>\n",
       "      <td>After crossing paths at a party, a Cape Town t...</td>\n",
       "      <td>Ama Qamata</td>\n",
       "      <td>South Africa</td>\n",
       "      <td>TV Mysteries</td>\n",
       "      <td>NaN</td>\n",
       "      <td>Friday</td>\n",
       "      <td>24.0</td>\n",
       "      <td>September</td>\n",
       "      <td>2021.0</td>\n",
       "    </tr>\n",
       "    <tr>\n",
       "      <th>4</th>\n",
       "      <td>4</td>\n",
       "      <td>s2</td>\n",
       "      <td>TV Show</td>\n",
       "      <td>Blood &amp; Water</td>\n",
       "      <td>2021</td>\n",
       "      <td>TV-MA</td>\n",
       "      <td>2.0</td>\n",
       "      <td>After crossing paths at a party, a Cape Town t...</td>\n",
       "      <td>Khosi Ngema</td>\n",
       "      <td>South Africa</td>\n",
       "      <td>International TV Shows</td>\n",
       "      <td>NaN</td>\n",
       "      <td>Friday</td>\n",
       "      <td>24.0</td>\n",
       "      <td>September</td>\n",
       "      <td>2021.0</td>\n",
       "    </tr>\n",
       "    <tr>\n",
       "      <th>5</th>\n",
       "      <td>5</td>\n",
       "      <td>s2</td>\n",
       "      <td>TV Show</td>\n",
       "      <td>Blood &amp; Water</td>\n",
       "      <td>2021</td>\n",
       "      <td>TV-MA</td>\n",
       "      <td>2.0</td>\n",
       "      <td>After crossing paths at a party, a Cape Town t...</td>\n",
       "      <td>Khosi Ngema</td>\n",
       "      <td>South Africa</td>\n",
       "      <td>TV Dramas</td>\n",
       "      <td>NaN</td>\n",
       "      <td>Friday</td>\n",
       "      <td>24.0</td>\n",
       "      <td>September</td>\n",
       "      <td>2021.0</td>\n",
       "    </tr>\n",
       "    <tr>\n",
       "      <th>6</th>\n",
       "      <td>6</td>\n",
       "      <td>s2</td>\n",
       "      <td>TV Show</td>\n",
       "      <td>Blood &amp; Water</td>\n",
       "      <td>2021</td>\n",
       "      <td>TV-MA</td>\n",
       "      <td>2.0</td>\n",
       "      <td>After crossing paths at a party, a Cape Town t...</td>\n",
       "      <td>Khosi Ngema</td>\n",
       "      <td>South Africa</td>\n",
       "      <td>TV Mysteries</td>\n",
       "      <td>NaN</td>\n",
       "      <td>Friday</td>\n",
       "      <td>24.0</td>\n",
       "      <td>September</td>\n",
       "      <td>2021.0</td>\n",
       "    </tr>\n",
       "    <tr>\n",
       "      <th>7</th>\n",
       "      <td>7</td>\n",
       "      <td>s2</td>\n",
       "      <td>TV Show</td>\n",
       "      <td>Blood &amp; Water</td>\n",
       "      <td>2021</td>\n",
       "      <td>TV-MA</td>\n",
       "      <td>2.0</td>\n",
       "      <td>After crossing paths at a party, a Cape Town t...</td>\n",
       "      <td>Gail Mabalane</td>\n",
       "      <td>South Africa</td>\n",
       "      <td>International TV Shows</td>\n",
       "      <td>NaN</td>\n",
       "      <td>Friday</td>\n",
       "      <td>24.0</td>\n",
       "      <td>September</td>\n",
       "      <td>2021.0</td>\n",
       "    </tr>\n",
       "    <tr>\n",
       "      <th>8</th>\n",
       "      <td>8</td>\n",
       "      <td>s2</td>\n",
       "      <td>TV Show</td>\n",
       "      <td>Blood &amp; Water</td>\n",
       "      <td>2021</td>\n",
       "      <td>TV-MA</td>\n",
       "      <td>2.0</td>\n",
       "      <td>After crossing paths at a party, a Cape Town t...</td>\n",
       "      <td>Gail Mabalane</td>\n",
       "      <td>South Africa</td>\n",
       "      <td>TV Dramas</td>\n",
       "      <td>NaN</td>\n",
       "      <td>Friday</td>\n",
       "      <td>24.0</td>\n",
       "      <td>September</td>\n",
       "      <td>2021.0</td>\n",
       "    </tr>\n",
       "    <tr>\n",
       "      <th>9</th>\n",
       "      <td>9</td>\n",
       "      <td>s2</td>\n",
       "      <td>TV Show</td>\n",
       "      <td>Blood &amp; Water</td>\n",
       "      <td>2021</td>\n",
       "      <td>TV-MA</td>\n",
       "      <td>2.0</td>\n",
       "      <td>After crossing paths at a party, a Cape Town t...</td>\n",
       "      <td>Gail Mabalane</td>\n",
       "      <td>South Africa</td>\n",
       "      <td>TV Mysteries</td>\n",
       "      <td>NaN</td>\n",
       "      <td>Friday</td>\n",
       "      <td>24.0</td>\n",
       "      <td>September</td>\n",
       "      <td>2021.0</td>\n",
       "    </tr>\n",
       "  </tbody>\n",
       "</table>\n",
       "</div>"
      ],
      "text/plain": [
       "   Unnamed: 0 show_id     type                 title  release_year rating  \\\n",
       "0           0      s1    Movie  Dick Johnson Is Dead          2020  PG-13   \n",
       "1           1      s2  TV Show         Blood & Water          2021  TV-MA   \n",
       "2           2      s2  TV Show         Blood & Water          2021  TV-MA   \n",
       "3           3      s2  TV Show         Blood & Water          2021  TV-MA   \n",
       "4           4      s2  TV Show         Blood & Water          2021  TV-MA   \n",
       "5           5      s2  TV Show         Blood & Water          2021  TV-MA   \n",
       "6           6      s2  TV Show         Blood & Water          2021  TV-MA   \n",
       "7           7      s2  TV Show         Blood & Water          2021  TV-MA   \n",
       "8           8      s2  TV Show         Blood & Water          2021  TV-MA   \n",
       "9           9      s2  TV Show         Blood & Water          2021  TV-MA   \n",
       "\n",
       "   duration                                        description           cast  \\\n",
       "0      90.0  As her father nears the end of his life, filmm...            NaN   \n",
       "1       2.0  After crossing paths at a party, a Cape Town t...     Ama Qamata   \n",
       "2       2.0  After crossing paths at a party, a Cape Town t...     Ama Qamata   \n",
       "3       2.0  After crossing paths at a party, a Cape Town t...     Ama Qamata   \n",
       "4       2.0  After crossing paths at a party, a Cape Town t...    Khosi Ngema   \n",
       "5       2.0  After crossing paths at a party, a Cape Town t...    Khosi Ngema   \n",
       "6       2.0  After crossing paths at a party, a Cape Town t...    Khosi Ngema   \n",
       "7       2.0  After crossing paths at a party, a Cape Town t...  Gail Mabalane   \n",
       "8       2.0  After crossing paths at a party, a Cape Town t...  Gail Mabalane   \n",
       "9       2.0  After crossing paths at a party, a Cape Town t...  Gail Mabalane   \n",
       "\n",
       "         country               listed_in         director   dayname   day  \\\n",
       "0  United States           Documentaries  Kirsten Johnson  Saturday  25.0   \n",
       "1   South Africa  International TV Shows              NaN    Friday  24.0   \n",
       "2   South Africa               TV Dramas              NaN    Friday  24.0   \n",
       "3   South Africa            TV Mysteries              NaN    Friday  24.0   \n",
       "4   South Africa  International TV Shows              NaN    Friday  24.0   \n",
       "5   South Africa               TV Dramas              NaN    Friday  24.0   \n",
       "6   South Africa            TV Mysteries              NaN    Friday  24.0   \n",
       "7   South Africa  International TV Shows              NaN    Friday  24.0   \n",
       "8   South Africa               TV Dramas              NaN    Friday  24.0   \n",
       "9   South Africa            TV Mysteries              NaN    Friday  24.0   \n",
       "\n",
       "       month    year  \n",
       "0  September  2021.0  \n",
       "1  September  2021.0  \n",
       "2  September  2021.0  \n",
       "3  September  2021.0  \n",
       "4  September  2021.0  \n",
       "5  September  2021.0  \n",
       "6  September  2021.0  \n",
       "7  September  2021.0  \n",
       "8  September  2021.0  \n",
       "9  September  2021.0  "
      ]
     },
     "execution_count": 85,
     "metadata": {},
     "output_type": "execute_result"
    }
   ],
   "source": [
    "df.head(10)"
   ]
  },
  {
   "cell_type": "markdown",
   "id": "096d495a",
   "metadata": {
    "id": "096d495a"
   },
   "source": [
    "1. We can convert `date_added` to datetime, then extract yearly, monthly, weekly columns\n",
    "2. Convert Duration into numerical column.\n",
    "3. Need to unnest the cast, director, country and listed_in columns.\n",
    "4. We can drop Description and Title column as they are unique columns."
   ]
  },
  {
   "cell_type": "markdown",
   "id": "073aac40",
   "metadata": {
    "id": "073aac40"
   },
   "source": [
    "### Let's check how much missing data is present:"
   ]
  },
  {
   "cell_type": "code",
   "execution_count": 86,
   "id": "094f05bb",
   "metadata": {
    "colab": {
     "base_uri": "https://localhost:8080/",
     "height": 0
    },
    "id": "094f05bb",
    "outputId": "effdb112-533f-4dc3-81ea-b7883aff2c17"
   },
   "outputs": [
    {
     "data": {
      "text/html": [
       "<div>\n",
       "<style scoped>\n",
       "    .dataframe tbody tr th:only-of-type {\n",
       "        vertical-align: middle;\n",
       "    }\n",
       "\n",
       "    .dataframe tbody tr th {\n",
       "        vertical-align: top;\n",
       "    }\n",
       "\n",
       "    .dataframe thead th {\n",
       "        text-align: right;\n",
       "    }\n",
       "</style>\n",
       "<table border=\"1\" class=\"dataframe\">\n",
       "  <thead>\n",
       "    <tr style=\"text-align: right;\">\n",
       "      <th></th>\n",
       "      <th>0</th>\n",
       "      <th>1</th>\n",
       "    </tr>\n",
       "  </thead>\n",
       "  <tbody>\n",
       "    <tr>\n",
       "      <th>Unnamed: 0</th>\n",
       "      <td>0</td>\n",
       "      <td>0.000000</td>\n",
       "    </tr>\n",
       "    <tr>\n",
       "      <th>show_id</th>\n",
       "      <td>0</td>\n",
       "      <td>0.000000</td>\n",
       "    </tr>\n",
       "    <tr>\n",
       "      <th>type</th>\n",
       "      <td>0</td>\n",
       "      <td>0.000000</td>\n",
       "    </tr>\n",
       "    <tr>\n",
       "      <th>title</th>\n",
       "      <td>0</td>\n",
       "      <td>0.000000</td>\n",
       "    </tr>\n",
       "    <tr>\n",
       "      <th>release_year</th>\n",
       "      <td>0</td>\n",
       "      <td>0.000000</td>\n",
       "    </tr>\n",
       "    <tr>\n",
       "      <th>rating</th>\n",
       "      <td>67</td>\n",
       "      <td>0.033167</td>\n",
       "    </tr>\n",
       "    <tr>\n",
       "      <th>duration</th>\n",
       "      <td>3</td>\n",
       "      <td>0.001485</td>\n",
       "    </tr>\n",
       "    <tr>\n",
       "      <th>description</th>\n",
       "      <td>0</td>\n",
       "      <td>0.000000</td>\n",
       "    </tr>\n",
       "    <tr>\n",
       "      <th>cast</th>\n",
       "      <td>2149</td>\n",
       "      <td>1.063809</td>\n",
       "    </tr>\n",
       "    <tr>\n",
       "      <th>country</th>\n",
       "      <td>12003</td>\n",
       "      <td>5.941785</td>\n",
       "    </tr>\n",
       "    <tr>\n",
       "      <th>listed_in</th>\n",
       "      <td>0</td>\n",
       "      <td>0.000000</td>\n",
       "    </tr>\n",
       "    <tr>\n",
       "      <th>director</th>\n",
       "      <td>50643</td>\n",
       "      <td>25.069551</td>\n",
       "    </tr>\n",
       "    <tr>\n",
       "      <th>dayname</th>\n",
       "      <td>158</td>\n",
       "      <td>0.078214</td>\n",
       "    </tr>\n",
       "    <tr>\n",
       "      <th>day</th>\n",
       "      <td>158</td>\n",
       "      <td>0.078214</td>\n",
       "    </tr>\n",
       "    <tr>\n",
       "      <th>month</th>\n",
       "      <td>158</td>\n",
       "      <td>0.078214</td>\n",
       "    </tr>\n",
       "    <tr>\n",
       "      <th>year</th>\n",
       "      <td>158</td>\n",
       "      <td>0.078214</td>\n",
       "    </tr>\n",
       "  </tbody>\n",
       "</table>\n",
       "</div>"
      ],
      "text/plain": [
       "                  0          1\n",
       "Unnamed: 0        0   0.000000\n",
       "show_id           0   0.000000\n",
       "type              0   0.000000\n",
       "title             0   0.000000\n",
       "release_year      0   0.000000\n",
       "rating           67   0.033167\n",
       "duration          3   0.001485\n",
       "description       0   0.000000\n",
       "cast           2149   1.063809\n",
       "country       12003   5.941785\n",
       "listed_in         0   0.000000\n",
       "director      50643  25.069551\n",
       "dayname         158   0.078214\n",
       "day             158   0.078214\n",
       "month           158   0.078214\n",
       "year            158   0.078214"
      ]
     },
     "execution_count": 86,
     "metadata": {},
     "output_type": "execute_result"
    }
   ],
   "source": [
    "pd.concat([df.isna().sum(),(df.isna().sum()/len(df))*100], axis = 1)"
   ]
  },
  {
   "cell_type": "markdown",
   "id": "8f1c87d8",
   "metadata": {
    "id": "8f1c87d8"
   },
   "source": [
    "We can see almost 30% of director data and approx 10% of both cast and country are missing, Except the above mentioned columns date_added, duration and rating has some missing values but they don't amount to much"
   ]
  },
  {
   "cell_type": "markdown",
   "id": "738be221",
   "metadata": {
    "id": "738be221"
   },
   "source": [
    "### Let's check if any row is duplicated?"
   ]
  },
  {
   "cell_type": "code",
   "execution_count": 87,
   "id": "e14ea7d5",
   "metadata": {
    "colab": {
     "base_uri": "https://localhost:8080/",
     "height": 0
    },
    "id": "e14ea7d5",
    "outputId": "9f29f6d4-7bbe-405f-ed15-b44cb62adf0d"
   },
   "outputs": [
    {
     "data": {
      "text/plain": [
       "0"
      ]
     },
     "execution_count": 87,
     "metadata": {},
     "output_type": "execute_result"
    }
   ],
   "source": [
    "df.duplicated().sum()"
   ]
  },
  {
   "cell_type": "markdown",
   "id": "bff5d4d1",
   "metadata": {
    "id": "bff5d4d1"
   },
   "source": [
    "### Let's check some statistical data"
   ]
  },
  {
   "cell_type": "code",
   "execution_count": 88,
   "id": "f7d3a8f9",
   "metadata": {
    "colab": {
     "base_uri": "https://localhost:8080/",
     "height": 300
    },
    "id": "f7d3a8f9",
    "outputId": "3b983b9f-d6b9-4f45-9799-a197ae735066"
   },
   "outputs": [
    {
     "data": {
      "text/html": [
       "<div>\n",
       "<style scoped>\n",
       "    .dataframe tbody tr th:only-of-type {\n",
       "        vertical-align: middle;\n",
       "    }\n",
       "\n",
       "    .dataframe tbody tr th {\n",
       "        vertical-align: top;\n",
       "    }\n",
       "\n",
       "    .dataframe thead th {\n",
       "        text-align: right;\n",
       "    }\n",
       "</style>\n",
       "<table border=\"1\" class=\"dataframe\">\n",
       "  <thead>\n",
       "    <tr style=\"text-align: right;\">\n",
       "      <th></th>\n",
       "      <th>Unnamed: 0</th>\n",
       "      <th>release_year</th>\n",
       "      <th>duration</th>\n",
       "      <th>day</th>\n",
       "      <th>year</th>\n",
       "    </tr>\n",
       "  </thead>\n",
       "  <tbody>\n",
       "    <tr>\n",
       "      <th>count</th>\n",
       "      <td>202010.000000</td>\n",
       "      <td>202010.000000</td>\n",
       "      <td>202007.000000</td>\n",
       "      <td>201852.000000</td>\n",
       "      <td>201852.000000</td>\n",
       "    </tr>\n",
       "    <tr>\n",
       "      <th>mean</th>\n",
       "      <td>101004.500000</td>\n",
       "      <td>2013.448334</td>\n",
       "      <td>77.678877</td>\n",
       "      <td>12.181579</td>\n",
       "      <td>2018.965425</td>\n",
       "    </tr>\n",
       "    <tr>\n",
       "      <th>std</th>\n",
       "      <td>58315.408277</td>\n",
       "      <td>9.013446</td>\n",
       "      <td>51.486115</td>\n",
       "      <td>9.847270</td>\n",
       "      <td>1.551863</td>\n",
       "    </tr>\n",
       "    <tr>\n",
       "      <th>min</th>\n",
       "      <td>0.000000</td>\n",
       "      <td>1925.000000</td>\n",
       "      <td>1.000000</td>\n",
       "      <td>1.000000</td>\n",
       "      <td>2008.000000</td>\n",
       "    </tr>\n",
       "    <tr>\n",
       "      <th>25%</th>\n",
       "      <td>50502.250000</td>\n",
       "      <td>2012.000000</td>\n",
       "      <td>4.000000</td>\n",
       "      <td>1.000000</td>\n",
       "      <td>2018.000000</td>\n",
       "    </tr>\n",
       "    <tr>\n",
       "      <th>50%</th>\n",
       "      <td>101004.500000</td>\n",
       "      <td>2016.000000</td>\n",
       "      <td>95.000000</td>\n",
       "      <td>12.000000</td>\n",
       "      <td>2019.000000</td>\n",
       "    </tr>\n",
       "    <tr>\n",
       "      <th>75%</th>\n",
       "      <td>151506.750000</td>\n",
       "      <td>2019.000000</td>\n",
       "      <td>112.000000</td>\n",
       "      <td>20.000000</td>\n",
       "      <td>2020.000000</td>\n",
       "    </tr>\n",
       "    <tr>\n",
       "      <th>max</th>\n",
       "      <td>202009.000000</td>\n",
       "      <td>2021.000000</td>\n",
       "      <td>312.000000</td>\n",
       "      <td>31.000000</td>\n",
       "      <td>2021.000000</td>\n",
       "    </tr>\n",
       "  </tbody>\n",
       "</table>\n",
       "</div>"
      ],
      "text/plain": [
       "          Unnamed: 0   release_year       duration            day  \\\n",
       "count  202010.000000  202010.000000  202007.000000  201852.000000   \n",
       "mean   101004.500000    2013.448334      77.678877      12.181579   \n",
       "std     58315.408277       9.013446      51.486115       9.847270   \n",
       "min         0.000000    1925.000000       1.000000       1.000000   \n",
       "25%     50502.250000    2012.000000       4.000000       1.000000   \n",
       "50%    101004.500000    2016.000000      95.000000      12.000000   \n",
       "75%    151506.750000    2019.000000     112.000000      20.000000   \n",
       "max    202009.000000    2021.000000     312.000000      31.000000   \n",
       "\n",
       "                year  \n",
       "count  201852.000000  \n",
       "mean     2018.965425  \n",
       "std         1.551863  \n",
       "min      2008.000000  \n",
       "25%      2018.000000  \n",
       "50%      2019.000000  \n",
       "75%      2020.000000  \n",
       "max      2021.000000  "
      ]
     },
     "execution_count": 88,
     "metadata": {},
     "output_type": "execute_result"
    }
   ],
   "source": [
    "df.describe()"
   ]
  },
  {
   "cell_type": "markdown",
   "id": "35ff8f9a",
   "metadata": {
    "id": "35ff8f9a"
   },
   "source": [
    "- Min value of `release_year` is 1925, so some TV Shows or Movies are present that are almost 95 years old\n",
    "- Only 25% of records that are present in this dataset were released before 2013. So,we have a lot of data that were released in the past decade"
   ]
  },
  {
   "cell_type": "code",
   "execution_count": 89,
   "id": "e59b7176",
   "metadata": {
    "colab": {
     "base_uri": "https://localhost:8080/",
     "height": 236
    },
    "id": "e59b7176",
    "outputId": "129c73c3-815e-4998-eabe-8049928ae8bf"
   },
   "outputs": [
    {
     "data": {
      "text/html": [
       "<div>\n",
       "<style scoped>\n",
       "    .dataframe tbody tr th:only-of-type {\n",
       "        vertical-align: middle;\n",
       "    }\n",
       "\n",
       "    .dataframe tbody tr th {\n",
       "        vertical-align: top;\n",
       "    }\n",
       "\n",
       "    .dataframe thead th {\n",
       "        text-align: right;\n",
       "    }\n",
       "</style>\n",
       "<table border=\"1\" class=\"dataframe\">\n",
       "  <thead>\n",
       "    <tr style=\"text-align: right;\">\n",
       "      <th></th>\n",
       "      <th>show_id</th>\n",
       "      <th>type</th>\n",
       "      <th>title</th>\n",
       "      <th>rating</th>\n",
       "      <th>description</th>\n",
       "      <th>cast</th>\n",
       "      <th>country</th>\n",
       "      <th>listed_in</th>\n",
       "      <th>director</th>\n",
       "      <th>dayname</th>\n",
       "      <th>month</th>\n",
       "    </tr>\n",
       "  </thead>\n",
       "  <tbody>\n",
       "    <tr>\n",
       "      <th>count</th>\n",
       "      <td>202010</td>\n",
       "      <td>202010</td>\n",
       "      <td>202010</td>\n",
       "      <td>201943</td>\n",
       "      <td>202010</td>\n",
       "      <td>199861</td>\n",
       "      <td>190007</td>\n",
       "      <td>202010</td>\n",
       "      <td>151367</td>\n",
       "      <td>201852</td>\n",
       "      <td>201852</td>\n",
       "    </tr>\n",
       "    <tr>\n",
       "      <th>unique</th>\n",
       "      <td>8807</td>\n",
       "      <td>2</td>\n",
       "      <td>8807</td>\n",
       "      <td>17</td>\n",
       "      <td>8775</td>\n",
       "      <td>36439</td>\n",
       "      <td>122</td>\n",
       "      <td>42</td>\n",
       "      <td>4993</td>\n",
       "      <td>7</td>\n",
       "      <td>12</td>\n",
       "    </tr>\n",
       "    <tr>\n",
       "      <th>top</th>\n",
       "      <td>s7165</td>\n",
       "      <td>Movie</td>\n",
       "      <td>Kahlil Gibran's The Prophet</td>\n",
       "      <td>TV-MA</td>\n",
       "      <td>A troubled young girl and her mother find sola...</td>\n",
       "      <td>Liam Neeson</td>\n",
       "      <td>United States</td>\n",
       "      <td>Dramas</td>\n",
       "      <td>Martin Scorsese</td>\n",
       "      <td>Friday</td>\n",
       "      <td>July</td>\n",
       "    </tr>\n",
       "    <tr>\n",
       "      <th>freq</th>\n",
       "      <td>700</td>\n",
       "      <td>145862</td>\n",
       "      <td>700</td>\n",
       "      <td>73867</td>\n",
       "      <td>700</td>\n",
       "      <td>161</td>\n",
       "      <td>59325</td>\n",
       "      <td>29787</td>\n",
       "      <td>419</td>\n",
       "      <td>57980</td>\n",
       "      <td>20302</td>\n",
       "    </tr>\n",
       "  </tbody>\n",
       "</table>\n",
       "</div>"
      ],
      "text/plain": [
       "       show_id    type                        title  rating  \\\n",
       "count   202010  202010                       202010  201943   \n",
       "unique    8807       2                         8807      17   \n",
       "top      s7165   Movie  Kahlil Gibran's The Prophet   TV-MA   \n",
       "freq       700  145862                          700   73867   \n",
       "\n",
       "                                              description         cast  \\\n",
       "count                                              202010       199861   \n",
       "unique                                               8775        36439   \n",
       "top     A troubled young girl and her mother find sola...  Liam Neeson   \n",
       "freq                                                  700          161   \n",
       "\n",
       "              country listed_in         director dayname   month  \n",
       "count          190007    202010           151367  201852  201852  \n",
       "unique            122        42             4993       7      12  \n",
       "top     United States    Dramas  Martin Scorsese  Friday    July  \n",
       "freq            59325     29787              419   57980   20302  "
      ]
     },
     "execution_count": 89,
     "metadata": {},
     "output_type": "execute_result"
    }
   ],
   "source": [
    "df.describe(include = 'object')"
   ]
  },
  {
   "cell_type": "markdown",
   "id": "7b6d85ef",
   "metadata": {
    "id": "7b6d85ef"
   },
   "source": [
    "- Rajiv Chilaka is has directed most Movies or TV Shows\n",
    "- Most of the TV Shows or Movies were available in United States\n",
    "- David Attenborough has worked in most Movies or TV Shows\n",
    "- Even this particular `\"Paranormal activity at a lush....\"`description has been repeated four times in Movies/TV Shows. It can suspected that other descrptions are also be repeated\n",
    "- One thing to Note as we have not yet <strong>unnested the data</strong> these above basic insights might not hold true"
   ]
  },
  {
   "cell_type": "code",
   "execution_count": 90,
   "id": "649d564f",
   "metadata": {
    "colab": {
     "base_uri": "https://localhost:8080/",
     "height": 3973
    },
    "id": "649d564f",
    "outputId": "10b02e87-cf52-43c3-c2c4-906d21602372",
    "scrolled": true
   },
   "outputs": [
    {
     "data": {
      "text/html": [
       "<div>\n",
       "<style scoped>\n",
       "    .dataframe tbody tr th:only-of-type {\n",
       "        vertical-align: middle;\n",
       "    }\n",
       "\n",
       "    .dataframe tbody tr th {\n",
       "        vertical-align: top;\n",
       "    }\n",
       "\n",
       "    .dataframe thead th {\n",
       "        text-align: right;\n",
       "    }\n",
       "</style>\n",
       "<table border=\"1\" class=\"dataframe\">\n",
       "  <thead>\n",
       "    <tr style=\"text-align: right;\">\n",
       "      <th></th>\n",
       "      <th>Unnamed: 0</th>\n",
       "      <th>show_id</th>\n",
       "      <th>type</th>\n",
       "      <th>title</th>\n",
       "      <th>release_year</th>\n",
       "      <th>rating</th>\n",
       "      <th>duration</th>\n",
       "      <th>description</th>\n",
       "      <th>cast</th>\n",
       "      <th>country</th>\n",
       "      <th>listed_in</th>\n",
       "      <th>director</th>\n",
       "      <th>dayname</th>\n",
       "      <th>day</th>\n",
       "      <th>month</th>\n",
       "      <th>year</th>\n",
       "    </tr>\n",
       "  </thead>\n",
       "  <tbody>\n",
       "    <tr>\n",
       "      <th>11423</th>\n",
       "      <td>11423</td>\n",
       "      <td>s471</td>\n",
       "      <td>Movie</td>\n",
       "      <td>Bridgerton - The Afterparty</td>\n",
       "      <td>2021</td>\n",
       "      <td>TV-14</td>\n",
       "      <td>39.0</td>\n",
       "      <td>\"Bridgerton\" cast members share behind-the-sce...</td>\n",
       "      <td>Fortune Feimster</td>\n",
       "      <td>NaN</td>\n",
       "      <td>Movies</td>\n",
       "      <td>NaN</td>\n",
       "      <td>Tuesday</td>\n",
       "      <td>13.0</td>\n",
       "      <td>July</td>\n",
       "      <td>2021.0</td>\n",
       "    </tr>\n",
       "    <tr>\n",
       "      <th>11421</th>\n",
       "      <td>11421</td>\n",
       "      <td>s471</td>\n",
       "      <td>Movie</td>\n",
       "      <td>Bridgerton - The Afterparty</td>\n",
       "      <td>2021</td>\n",
       "      <td>TV-14</td>\n",
       "      <td>39.0</td>\n",
       "      <td>\"Bridgerton\" cast members share behind-the-sce...</td>\n",
       "      <td>David Spade</td>\n",
       "      <td>NaN</td>\n",
       "      <td>Movies</td>\n",
       "      <td>NaN</td>\n",
       "      <td>Tuesday</td>\n",
       "      <td>13.0</td>\n",
       "      <td>July</td>\n",
       "      <td>2021.0</td>\n",
       "    </tr>\n",
       "    <tr>\n",
       "      <th>11422</th>\n",
       "      <td>11422</td>\n",
       "      <td>s471</td>\n",
       "      <td>Movie</td>\n",
       "      <td>Bridgerton - The Afterparty</td>\n",
       "      <td>2021</td>\n",
       "      <td>TV-14</td>\n",
       "      <td>39.0</td>\n",
       "      <td>\"Bridgerton\" cast members share behind-the-sce...</td>\n",
       "      <td>London Hughes</td>\n",
       "      <td>NaN</td>\n",
       "      <td>Movies</td>\n",
       "      <td>NaN</td>\n",
       "      <td>Tuesday</td>\n",
       "      <td>13.0</td>\n",
       "      <td>July</td>\n",
       "      <td>2021.0</td>\n",
       "    </tr>\n",
       "    <tr>\n",
       "      <th>42520</th>\n",
       "      <td>42520</td>\n",
       "      <td>s1782</td>\n",
       "      <td>TV Show</td>\n",
       "      <td>Somebody Feed Phil</td>\n",
       "      <td>2020</td>\n",
       "      <td>TV-14</td>\n",
       "      <td>4.0</td>\n",
       "      <td>\"Everybody Loves Raymond\" creator Phil Rosenth...</td>\n",
       "      <td>Philip Rosenthal</td>\n",
       "      <td>United States</td>\n",
       "      <td>Docuseries</td>\n",
       "      <td>NaN</td>\n",
       "      <td>Friday</td>\n",
       "      <td>30.0</td>\n",
       "      <td>October</td>\n",
       "      <td>2020.0</td>\n",
       "    </tr>\n",
       "    <tr>\n",
       "      <th>42521</th>\n",
       "      <td>42521</td>\n",
       "      <td>s1782</td>\n",
       "      <td>TV Show</td>\n",
       "      <td>Somebody Feed Phil</td>\n",
       "      <td>2020</td>\n",
       "      <td>TV-14</td>\n",
       "      <td>4.0</td>\n",
       "      <td>\"Everybody Loves Raymond\" creator Phil Rosenth...</td>\n",
       "      <td>Philip Rosenthal</td>\n",
       "      <td>United States</td>\n",
       "      <td>Reality TV</td>\n",
       "      <td>NaN</td>\n",
       "      <td>Friday</td>\n",
       "      <td>30.0</td>\n",
       "      <td>October</td>\n",
       "      <td>2020.0</td>\n",
       "    </tr>\n",
       "    <tr>\n",
       "      <th>...</th>\n",
       "      <td>...</td>\n",
       "      <td>...</td>\n",
       "      <td>...</td>\n",
       "      <td>...</td>\n",
       "      <td>...</td>\n",
       "      <td>...</td>\n",
       "      <td>...</td>\n",
       "      <td>...</td>\n",
       "      <td>...</td>\n",
       "      <td>...</td>\n",
       "      <td>...</td>\n",
       "      <td>...</td>\n",
       "      <td>...</td>\n",
       "      <td>...</td>\n",
       "      <td>...</td>\n",
       "      <td>...</td>\n",
       "    </tr>\n",
       "    <tr>\n",
       "      <th>60208</th>\n",
       "      <td>60208</td>\n",
       "      <td>s2531</td>\n",
       "      <td>TV Show</td>\n",
       "      <td>White Lines</td>\n",
       "      <td>2020</td>\n",
       "      <td>TV-MA</td>\n",
       "      <td>1.0</td>\n",
       "      <td>Zoe Walker leaves her quiet life behind to inv...</td>\n",
       "      <td>Juan Diego Botto</td>\n",
       "      <td>Spain</td>\n",
       "      <td>British TV Shows</td>\n",
       "      <td>NaN</td>\n",
       "      <td>Friday</td>\n",
       "      <td>15.0</td>\n",
       "      <td>May</td>\n",
       "      <td>2020.0</td>\n",
       "    </tr>\n",
       "    <tr>\n",
       "      <th>60207</th>\n",
       "      <td>60207</td>\n",
       "      <td>s2531</td>\n",
       "      <td>TV Show</td>\n",
       "      <td>White Lines</td>\n",
       "      <td>2020</td>\n",
       "      <td>TV-MA</td>\n",
       "      <td>1.0</td>\n",
       "      <td>Zoe Walker leaves her quiet life behind to inv...</td>\n",
       "      <td>Juan Diego Botto</td>\n",
       "      <td>United Kingdom</td>\n",
       "      <td>International TV Shows</td>\n",
       "      <td>NaN</td>\n",
       "      <td>Friday</td>\n",
       "      <td>15.0</td>\n",
       "      <td>May</td>\n",
       "      <td>2020.0</td>\n",
       "    </tr>\n",
       "    <tr>\n",
       "      <th>60206</th>\n",
       "      <td>60206</td>\n",
       "      <td>s2531</td>\n",
       "      <td>TV Show</td>\n",
       "      <td>White Lines</td>\n",
       "      <td>2020</td>\n",
       "      <td>TV-MA</td>\n",
       "      <td>1.0</td>\n",
       "      <td>Zoe Walker leaves her quiet life behind to inv...</td>\n",
       "      <td>Juan Diego Botto</td>\n",
       "      <td>United Kingdom</td>\n",
       "      <td>Crime TV Shows</td>\n",
       "      <td>NaN</td>\n",
       "      <td>Friday</td>\n",
       "      <td>15.0</td>\n",
       "      <td>May</td>\n",
       "      <td>2020.0</td>\n",
       "    </tr>\n",
       "    <tr>\n",
       "      <th>60214</th>\n",
       "      <td>60214</td>\n",
       "      <td>s2531</td>\n",
       "      <td>TV Show</td>\n",
       "      <td>White Lines</td>\n",
       "      <td>2020</td>\n",
       "      <td>TV-MA</td>\n",
       "      <td>1.0</td>\n",
       "      <td>Zoe Walker leaves her quiet life behind to inv...</td>\n",
       "      <td>Pedro Casablanc</td>\n",
       "      <td>Spain</td>\n",
       "      <td>British TV Shows</td>\n",
       "      <td>NaN</td>\n",
       "      <td>Friday</td>\n",
       "      <td>15.0</td>\n",
       "      <td>May</td>\n",
       "      <td>2020.0</td>\n",
       "    </tr>\n",
       "    <tr>\n",
       "      <th>60228</th>\n",
       "      <td>60228</td>\n",
       "      <td>s2531</td>\n",
       "      <td>TV Show</td>\n",
       "      <td>White Lines</td>\n",
       "      <td>2020</td>\n",
       "      <td>TV-MA</td>\n",
       "      <td>1.0</td>\n",
       "      <td>Zoe Walker leaves her quiet life behind to inv...</td>\n",
       "      <td>Barry Ward</td>\n",
       "      <td>Spain</td>\n",
       "      <td>International TV Shows</td>\n",
       "      <td>NaN</td>\n",
       "      <td>Friday</td>\n",
       "      <td>15.0</td>\n",
       "      <td>May</td>\n",
       "      <td>2020.0</td>\n",
       "    </tr>\n",
       "  </tbody>\n",
       "</table>\n",
       "<p>201331 rows × 16 columns</p>\n",
       "</div>"
      ],
      "text/plain": [
       "       Unnamed: 0 show_id     type                        title  release_year  \\\n",
       "11423       11423    s471    Movie  Bridgerton - The Afterparty          2021   \n",
       "11421       11421    s471    Movie  Bridgerton - The Afterparty          2021   \n",
       "11422       11422    s471    Movie  Bridgerton - The Afterparty          2021   \n",
       "42520       42520   s1782  TV Show           Somebody Feed Phil          2020   \n",
       "42521       42521   s1782  TV Show           Somebody Feed Phil          2020   \n",
       "...           ...     ...      ...                          ...           ...   \n",
       "60208       60208   s2531  TV Show                  White Lines          2020   \n",
       "60207       60207   s2531  TV Show                  White Lines          2020   \n",
       "60206       60206   s2531  TV Show                  White Lines          2020   \n",
       "60214       60214   s2531  TV Show                  White Lines          2020   \n",
       "60228       60228   s2531  TV Show                  White Lines          2020   \n",
       "\n",
       "      rating  duration                                        description  \\\n",
       "11423  TV-14      39.0  \"Bridgerton\" cast members share behind-the-sce...   \n",
       "11421  TV-14      39.0  \"Bridgerton\" cast members share behind-the-sce...   \n",
       "11422  TV-14      39.0  \"Bridgerton\" cast members share behind-the-sce...   \n",
       "42520  TV-14       4.0  \"Everybody Loves Raymond\" creator Phil Rosenth...   \n",
       "42521  TV-14       4.0  \"Everybody Loves Raymond\" creator Phil Rosenth...   \n",
       "...      ...       ...                                                ...   \n",
       "60208  TV-MA       1.0  Zoe Walker leaves her quiet life behind to inv...   \n",
       "60207  TV-MA       1.0  Zoe Walker leaves her quiet life behind to inv...   \n",
       "60206  TV-MA       1.0  Zoe Walker leaves her quiet life behind to inv...   \n",
       "60214  TV-MA       1.0  Zoe Walker leaves her quiet life behind to inv...   \n",
       "60228  TV-MA       1.0  Zoe Walker leaves her quiet life behind to inv...   \n",
       "\n",
       "                   cast         country               listed_in director  \\\n",
       "11423  Fortune Feimster             NaN                  Movies      NaN   \n",
       "11421       David Spade             NaN                  Movies      NaN   \n",
       "11422     London Hughes             NaN                  Movies      NaN   \n",
       "42520  Philip Rosenthal   United States              Docuseries      NaN   \n",
       "42521  Philip Rosenthal   United States              Reality TV      NaN   \n",
       "...                 ...             ...                     ...      ...   \n",
       "60208  Juan Diego Botto           Spain        British TV Shows      NaN   \n",
       "60207  Juan Diego Botto  United Kingdom  International TV Shows      NaN   \n",
       "60206  Juan Diego Botto  United Kingdom          Crime TV Shows      NaN   \n",
       "60214   Pedro Casablanc           Spain        British TV Shows      NaN   \n",
       "60228        Barry Ward           Spain  International TV Shows      NaN   \n",
       "\n",
       "       dayname   day    month    year  \n",
       "11423  Tuesday  13.0     July  2021.0  \n",
       "11421  Tuesday  13.0     July  2021.0  \n",
       "11422  Tuesday  13.0     July  2021.0  \n",
       "42520   Friday  30.0  October  2020.0  \n",
       "42521   Friday  30.0  October  2020.0  \n",
       "...        ...   ...      ...     ...  \n",
       "60208   Friday  15.0      May  2020.0  \n",
       "60207   Friday  15.0      May  2020.0  \n",
       "60206   Friday  15.0      May  2020.0  \n",
       "60214   Friday  15.0      May  2020.0  \n",
       "60228   Friday  15.0      May  2020.0  \n",
       "\n",
       "[201331 rows x 16 columns]"
      ]
     },
     "execution_count": 90,
     "metadata": {},
     "output_type": "execute_result"
    }
   ],
   "source": [
    "df.loc[df.duplicated('description',keep = False)].sort_values('description')"
   ]
  },
  {
   "cell_type": "markdown",
   "id": "16988f71",
   "metadata": {
    "id": "16988f71"
   },
   "source": [
    "Description column helped to find the repeated Movies/TV Shows or the Movies/TV Shows that were released  in other languages"
   ]
  },
  {
   "cell_type": "markdown",
   "id": "8207ede7",
   "metadata": {
    "id": "4dd799a1"
   },
   "source": [
    "## Unnesting the Columns"
   ]
  },
  {
   "cell_type": "code",
   "execution_count": 91,
   "id": "59e1beca",
   "metadata": {},
   "outputs": [],
   "source": [
    "final_df = df.copy()"
   ]
  },
  {
   "cell_type": "code",
   "execution_count": 92,
   "id": "6a8a5c1b",
   "metadata": {
    "id": "1b5e6519"
   },
   "outputs": [],
   "source": [
    "def remove_spaces(x):\n",
    "    if x != x:\n",
    "        return np.nan\n",
    "    return x.strip()\n",
    "\n",
    "def unnesting (new_df,col):\n",
    "\n",
    "    dataframe =new_df.copy()\n",
    "    dataframe[col] = dataframe[col].str.split(',')\n",
    "    dataframe = dataframe.explode(col)\n",
    "    dataframe[col] = dataframe[col].apply(remove_spaces)\n",
    "    return dataframe"
   ]
  },
  {
   "cell_type": "code",
   "execution_count": 93,
   "id": "0e789532",
   "metadata": {
    "colab": {
     "base_uri": "https://localhost:8080/",
     "height": 0
    },
    "id": "5e23c1a4",
    "outputId": "2bd63d48-2de8-4510-a1e8-a0ea03a8b3b6"
   },
   "outputs": [
    {
     "name": "stdout",
     "output_type": "stream",
     "text": [
      "After splitting cast into muliple rows (202010, 16)\n",
      "After splitting country into muliple rows (202010, 16)\n",
      "After splitting listed_in into muliple rows (202010, 16)\n",
      "After splitting listed_in into muliple rows (202010, 16)\n",
      "CPU times: total: 1.52 s\n",
      "Wall time: 1.72 s\n"
     ]
    }
   ],
   "source": [
    "%%time\n",
    "final_df = unnesting(df,'cast')\n",
    "print('After splitting cast into muliple rows', final_df.shape)\n",
    "final_df = unnesting(final_df,'country')\n",
    "print('After splitting country into muliple rows', final_df.shape)\n",
    "final_df = unnesting(final_df,'listed_in')\n",
    "print('After splitting listed_in into muliple rows', final_df.shape)\n",
    "final_df = unnesting(final_df,'director')\n",
    "print('After splitting listed_in into muliple rows', final_df.shape)\n",
    "\n",
    "\n",
    "final_df = final_df.reset_index(drop = True)"
   ]
  },
  {
   "cell_type": "markdown",
   "id": "d8d1174d",
   "metadata": {
    "id": "d8d1174d"
   },
   "source": [
    "## Handling Missing Data"
   ]
  },
  {
   "cell_type": "code",
   "execution_count": 94,
   "id": "11f4a3f5",
   "metadata": {
    "colab": {
     "base_uri": "https://localhost:8080/",
     "height": 0
    },
    "id": "11f4a3f5",
    "outputId": "26602050-c913-4a69-de51-11c1bc3194df"
   },
   "outputs": [
    {
     "data": {
      "text/html": [
       "<div>\n",
       "<style scoped>\n",
       "    .dataframe tbody tr th:only-of-type {\n",
       "        vertical-align: middle;\n",
       "    }\n",
       "\n",
       "    .dataframe tbody tr th {\n",
       "        vertical-align: top;\n",
       "    }\n",
       "\n",
       "    .dataframe thead th {\n",
       "        text-align: right;\n",
       "    }\n",
       "</style>\n",
       "<table border=\"1\" class=\"dataframe\">\n",
       "  <thead>\n",
       "    <tr style=\"text-align: right;\">\n",
       "      <th></th>\n",
       "      <th>0</th>\n",
       "      <th>1</th>\n",
       "    </tr>\n",
       "  </thead>\n",
       "  <tbody>\n",
       "    <tr>\n",
       "      <th>Unnamed: 0</th>\n",
       "      <td>0</td>\n",
       "      <td>0.000000</td>\n",
       "    </tr>\n",
       "    <tr>\n",
       "      <th>show_id</th>\n",
       "      <td>0</td>\n",
       "      <td>0.000000</td>\n",
       "    </tr>\n",
       "    <tr>\n",
       "      <th>type</th>\n",
       "      <td>0</td>\n",
       "      <td>0.000000</td>\n",
       "    </tr>\n",
       "    <tr>\n",
       "      <th>title</th>\n",
       "      <td>0</td>\n",
       "      <td>0.000000</td>\n",
       "    </tr>\n",
       "    <tr>\n",
       "      <th>release_year</th>\n",
       "      <td>0</td>\n",
       "      <td>0.000000</td>\n",
       "    </tr>\n",
       "    <tr>\n",
       "      <th>rating</th>\n",
       "      <td>67</td>\n",
       "      <td>0.033167</td>\n",
       "    </tr>\n",
       "    <tr>\n",
       "      <th>duration</th>\n",
       "      <td>3</td>\n",
       "      <td>0.001485</td>\n",
       "    </tr>\n",
       "    <tr>\n",
       "      <th>description</th>\n",
       "      <td>0</td>\n",
       "      <td>0.000000</td>\n",
       "    </tr>\n",
       "    <tr>\n",
       "      <th>cast</th>\n",
       "      <td>2149</td>\n",
       "      <td>1.063809</td>\n",
       "    </tr>\n",
       "    <tr>\n",
       "      <th>country</th>\n",
       "      <td>12003</td>\n",
       "      <td>5.941785</td>\n",
       "    </tr>\n",
       "    <tr>\n",
       "      <th>listed_in</th>\n",
       "      <td>0</td>\n",
       "      <td>0.000000</td>\n",
       "    </tr>\n",
       "    <tr>\n",
       "      <th>director</th>\n",
       "      <td>50643</td>\n",
       "      <td>25.069551</td>\n",
       "    </tr>\n",
       "    <tr>\n",
       "      <th>dayname</th>\n",
       "      <td>158</td>\n",
       "      <td>0.078214</td>\n",
       "    </tr>\n",
       "    <tr>\n",
       "      <th>day</th>\n",
       "      <td>158</td>\n",
       "      <td>0.078214</td>\n",
       "    </tr>\n",
       "    <tr>\n",
       "      <th>month</th>\n",
       "      <td>158</td>\n",
       "      <td>0.078214</td>\n",
       "    </tr>\n",
       "    <tr>\n",
       "      <th>year</th>\n",
       "      <td>158</td>\n",
       "      <td>0.078214</td>\n",
       "    </tr>\n",
       "  </tbody>\n",
       "</table>\n",
       "</div>"
      ],
      "text/plain": [
       "                  0          1\n",
       "Unnamed: 0        0   0.000000\n",
       "show_id           0   0.000000\n",
       "type              0   0.000000\n",
       "title             0   0.000000\n",
       "release_year      0   0.000000\n",
       "rating           67   0.033167\n",
       "duration          3   0.001485\n",
       "description       0   0.000000\n",
       "cast           2149   1.063809\n",
       "country       12003   5.941785\n",
       "listed_in         0   0.000000\n",
       "director      50643  25.069551\n",
       "dayname         158   0.078214\n",
       "day             158   0.078214\n",
       "month           158   0.078214\n",
       "year            158   0.078214"
      ]
     },
     "execution_count": 94,
     "metadata": {},
     "output_type": "execute_result"
    }
   ],
   "source": [
    "pd.concat([final_df.isna().sum(),(final_df.isna().sum()/len(final_df))*100], axis = 1)"
   ]
  },
  {
   "cell_type": "code",
   "execution_count": 95,
   "id": "e5b24ef9",
   "metadata": {},
   "outputs": [],
   "source": [
    "#Smart Imputations is done here\n",
    "# mode of country grouped by director is imputed for missing values in country\n",
    "# director_country = (final_df.groupby('director')['country'].\\\n",
    "#                     agg(lambda x: x.mode()[0] if len(x.mode()) > 1 else x.mode())).to_dict()\n",
    "\n",
    "# # final_df['country1'] = final_df.apply(lambda x: director_country.get(x['director']) if x['country'] != x['country'] else x['country'] ,axis =1  )\n",
    "# final_df['country'] = final_df['country'].fillna(final_df['director'].map(director_country))"
   ]
  },
  {
   "cell_type": "code",
   "execution_count": 97,
   "id": "5252e244",
   "metadata": {},
   "outputs": [
    {
     "name": "stdout",
     "output_type": "stream",
     "text": [
      "<class 'pandas.core.frame.DataFrame'>\n",
      "RangeIndex: 202010 entries, 0 to 202009\n",
      "Data columns (total 16 columns):\n",
      " #   Column        Non-Null Count   Dtype  \n",
      "---  ------        --------------   -----  \n",
      " 0   Unnamed: 0    202010 non-null  int64  \n",
      " 1   show_id       202010 non-null  object \n",
      " 2   type          202010 non-null  object \n",
      " 3   title         202010 non-null  object \n",
      " 4   release_year  202010 non-null  int64  \n",
      " 5   rating        202010 non-null  object \n",
      " 6   duration      202010 non-null  float64\n",
      " 7   description   202010 non-null  object \n",
      " 8   cast          202010 non-null  object \n",
      " 9   country       202010 non-null  object \n",
      " 10  listed_in     202010 non-null  object \n",
      " 11  director      202010 non-null  object \n",
      " 12  dayname       201852 non-null  object \n",
      " 13  day           201852 non-null  float64\n",
      " 14  month         201852 non-null  object \n",
      " 15  year          201852 non-null  float64\n",
      "dtypes: float64(3), int64(2), object(11)\n",
      "memory usage: 24.7+ MB\n"
     ]
    }
   ],
   "source": [
    "final_df.info()"
   ]
  },
  {
   "cell_type": "code",
   "execution_count": 96,
   "id": "29ff120a",
   "metadata": {
    "id": "29ff120a"
   },
   "outputs": [
    {
     "ename": "KeyError",
     "evalue": "'date_added'",
     "output_type": "error",
     "traceback": [
      "\u001b[1;31m---------------------------------------------------------------------------\u001b[0m",
      "\u001b[1;31mKeyError\u001b[0m                                  Traceback (most recent call last)",
      "File \u001b[1;32m~\\anaconda3\\envs\\new\\Lib\\site-packages\\pandas\\core\\indexes\\base.py:3791\u001b[0m, in \u001b[0;36mIndex.get_loc\u001b[1;34m(self, key)\u001b[0m\n\u001b[0;32m   3790\u001b[0m \u001b[38;5;28;01mtry\u001b[39;00m:\n\u001b[1;32m-> 3791\u001b[0m     \u001b[38;5;28;01mreturn\u001b[39;00m \u001b[38;5;28mself\u001b[39m\u001b[38;5;241m.\u001b[39m_engine\u001b[38;5;241m.\u001b[39mget_loc(casted_key)\n\u001b[0;32m   3792\u001b[0m \u001b[38;5;28;01mexcept\u001b[39;00m \u001b[38;5;167;01mKeyError\u001b[39;00m \u001b[38;5;28;01mas\u001b[39;00m err:\n",
      "File \u001b[1;32mindex.pyx:152\u001b[0m, in \u001b[0;36mpandas._libs.index.IndexEngine.get_loc\u001b[1;34m()\u001b[0m\n",
      "File \u001b[1;32mindex.pyx:181\u001b[0m, in \u001b[0;36mpandas._libs.index.IndexEngine.get_loc\u001b[1;34m()\u001b[0m\n",
      "File \u001b[1;32mpandas\\_libs\\hashtable_class_helper.pxi:7080\u001b[0m, in \u001b[0;36mpandas._libs.hashtable.PyObjectHashTable.get_item\u001b[1;34m()\u001b[0m\n",
      "File \u001b[1;32mpandas\\_libs\\hashtable_class_helper.pxi:7088\u001b[0m, in \u001b[0;36mpandas._libs.hashtable.PyObjectHashTable.get_item\u001b[1;34m()\u001b[0m\n",
      "\u001b[1;31mKeyError\u001b[0m: 'date_added'",
      "\nThe above exception was the direct cause of the following exception:\n",
      "\u001b[1;31mKeyError\u001b[0m                                  Traceback (most recent call last)",
      "Cell \u001b[1;32mIn[96], line 7\u001b[0m\n\u001b[0;32m      5\u001b[0m final_df[\u001b[38;5;124m'\u001b[39m\u001b[38;5;124mrating\u001b[39m\u001b[38;5;124m'\u001b[39m] \u001b[38;5;241m=\u001b[39m final_df[\u001b[38;5;124m'\u001b[39m\u001b[38;5;124mrating\u001b[39m\u001b[38;5;124m'\u001b[39m]\u001b[38;5;241m.\u001b[39mfillna(\u001b[38;5;124m'\u001b[39m\u001b[38;5;124mUnknown Rating\u001b[39m\u001b[38;5;124m'\u001b[39m)\n\u001b[0;32m      6\u001b[0m final_df[\u001b[38;5;124m'\u001b[39m\u001b[38;5;124mduration\u001b[39m\u001b[38;5;124m'\u001b[39m] \u001b[38;5;241m=\u001b[39m final_df[\u001b[38;5;124m'\u001b[39m\u001b[38;5;124mduration\u001b[39m\u001b[38;5;124m'\u001b[39m]\u001b[38;5;241m.\u001b[39mfillna(\u001b[38;5;241m0\u001b[39m)\n\u001b[1;32m----> 7\u001b[0m final_df[\u001b[38;5;124m'\u001b[39m\u001b[38;5;124mdate_added\u001b[39m\u001b[38;5;124m'\u001b[39m] \u001b[38;5;241m=\u001b[39m final_df[\u001b[38;5;124m'\u001b[39m\u001b[38;5;124mdate_added\u001b[39m\u001b[38;5;124m'\u001b[39m]\u001b[38;5;241m.\u001b[39mfillna(final_df[\u001b[38;5;124m'\u001b[39m\u001b[38;5;124mdate_added\u001b[39m\u001b[38;5;124m'\u001b[39m]\u001b[38;5;241m.\u001b[39mmode()[\u001b[38;5;241m0\u001b[39m])\n",
      "File \u001b[1;32m~\\anaconda3\\envs\\new\\Lib\\site-packages\\pandas\\core\\frame.py:3893\u001b[0m, in \u001b[0;36mDataFrame.__getitem__\u001b[1;34m(self, key)\u001b[0m\n\u001b[0;32m   3891\u001b[0m \u001b[38;5;28;01mif\u001b[39;00m \u001b[38;5;28mself\u001b[39m\u001b[38;5;241m.\u001b[39mcolumns\u001b[38;5;241m.\u001b[39mnlevels \u001b[38;5;241m>\u001b[39m \u001b[38;5;241m1\u001b[39m:\n\u001b[0;32m   3892\u001b[0m     \u001b[38;5;28;01mreturn\u001b[39;00m \u001b[38;5;28mself\u001b[39m\u001b[38;5;241m.\u001b[39m_getitem_multilevel(key)\n\u001b[1;32m-> 3893\u001b[0m indexer \u001b[38;5;241m=\u001b[39m \u001b[38;5;28mself\u001b[39m\u001b[38;5;241m.\u001b[39mcolumns\u001b[38;5;241m.\u001b[39mget_loc(key)\n\u001b[0;32m   3894\u001b[0m \u001b[38;5;28;01mif\u001b[39;00m is_integer(indexer):\n\u001b[0;32m   3895\u001b[0m     indexer \u001b[38;5;241m=\u001b[39m [indexer]\n",
      "File \u001b[1;32m~\\anaconda3\\envs\\new\\Lib\\site-packages\\pandas\\core\\indexes\\base.py:3798\u001b[0m, in \u001b[0;36mIndex.get_loc\u001b[1;34m(self, key)\u001b[0m\n\u001b[0;32m   3793\u001b[0m     \u001b[38;5;28;01mif\u001b[39;00m \u001b[38;5;28misinstance\u001b[39m(casted_key, \u001b[38;5;28mslice\u001b[39m) \u001b[38;5;129;01mor\u001b[39;00m (\n\u001b[0;32m   3794\u001b[0m         \u001b[38;5;28misinstance\u001b[39m(casted_key, abc\u001b[38;5;241m.\u001b[39mIterable)\n\u001b[0;32m   3795\u001b[0m         \u001b[38;5;129;01mand\u001b[39;00m \u001b[38;5;28many\u001b[39m(\u001b[38;5;28misinstance\u001b[39m(x, \u001b[38;5;28mslice\u001b[39m) \u001b[38;5;28;01mfor\u001b[39;00m x \u001b[38;5;129;01min\u001b[39;00m casted_key)\n\u001b[0;32m   3796\u001b[0m     ):\n\u001b[0;32m   3797\u001b[0m         \u001b[38;5;28;01mraise\u001b[39;00m InvalidIndexError(key)\n\u001b[1;32m-> 3798\u001b[0m     \u001b[38;5;28;01mraise\u001b[39;00m \u001b[38;5;167;01mKeyError\u001b[39;00m(key) \u001b[38;5;28;01mfrom\u001b[39;00m \u001b[38;5;21;01merr\u001b[39;00m\n\u001b[0;32m   3799\u001b[0m \u001b[38;5;28;01mexcept\u001b[39;00m \u001b[38;5;167;01mTypeError\u001b[39;00m:\n\u001b[0;32m   3800\u001b[0m     \u001b[38;5;66;03m# If we have a listlike key, _check_indexing_error will raise\u001b[39;00m\n\u001b[0;32m   3801\u001b[0m     \u001b[38;5;66;03m#  InvalidIndexError. Otherwise we fall through and re-raise\u001b[39;00m\n\u001b[0;32m   3802\u001b[0m     \u001b[38;5;66;03m#  the TypeError.\u001b[39;00m\n\u001b[0;32m   3803\u001b[0m     \u001b[38;5;28mself\u001b[39m\u001b[38;5;241m.\u001b[39m_check_indexing_error(key)\n",
      "\u001b[1;31mKeyError\u001b[0m: 'date_added'"
     ]
    }
   ],
   "source": [
    "final_df['country']=final_df['country'].fillna('Unknown Country')\n",
    "final_df['cast']=final_df['cast'].fillna('Unknown Actor')\n",
    "final_df['director'] = final_df['director'].fillna('Unknown Director')\n",
    "final_df['listed_in']  = final_df['listed_in'].fillna('Unknown Genre')\n",
    "final_df['rating'] = final_df['rating'].fillna('Unknown Rating')\n",
    "final_df['duration'] = final_df['duration'].fillna(0)\n",
    "final_df['date_added'] = final_df['date_added'].fillna(final_df['date_added'].mode()[0])"
   ]
  },
  {
   "cell_type": "markdown",
   "id": "c501b1fd",
   "metadata": {
    "id": "c501b1fd"
   },
   "source": [
    "## Feature Engineering"
   ]
  },
  {
   "cell_type": "markdown",
   "id": "56b04a7d",
   "metadata": {
    "id": "56b04a7d"
   },
   "source": [
    "### Converted Date added to DateTime column and extracted dayname, day, month, year and week of the year  "
   ]
  },
  {
   "cell_type": "code",
   "execution_count": null,
   "id": "a71a0148",
   "metadata": {
    "id": "a71a0148"
   },
   "outputs": [],
   "source": [
    "final_df['date_added'] = pd.to_datetime(final_df['date_added'].apply(lambda x: str(x).strip()))\n",
    "final_df['dayname'] = final_df['date_added'].dt.day_name()\n",
    "final_df['day'] = final_df['date_added'].dt.day\n",
    "final_df['month'] = final_df['date_added'].dt.month_name()\n",
    "final_df['year'] = final_df['date_added'].dt.year\n",
    "final_df['week'] = final_df['date_added'].dt.isocalendar().week\n",
    "final_df['year_diff'] = final_df['year'] - final_df['release_year']\n",
    "final_df.drop(columns=['date_added'],inplace = True)"
   ]
  },
  {
   "cell_type": "code",
   "execution_count": null,
   "id": "ba24467f",
   "metadata": {},
   "outputs": [],
   "source": [
    "final_df.columns"
   ]
  },
  {
   "cell_type": "code",
   "execution_count": null,
   "id": "a86ad308",
   "metadata": {},
   "outputs": [],
   "source": [
    "def release_year_bins(x):\n",
    "    if x <= 1960:\n",
    "        return '<1960'\n",
    "    elif x>1960 and x <= 1970:\n",
    "        return '60s'\n",
    "    elif x>1970 and x <= 1980:\n",
    "        return '70s'\n",
    "    elif x>1980 and x <= 1990:\n",
    "        return '80s'\n",
    "    else:\n",
    "        return x\n",
    "\n",
    "def days_bins(x):\n",
    "    if x>=1 and x<=7:\n",
    "        return '1st week'\n",
    "    elif x>7 and x<=14:\n",
    "        return '2nd week'\n",
    "    elif x>14 and x<= 21:\n",
    "        return '3rd week'\n",
    "    else:\n",
    "        return '4th week'\n",
    "    "
   ]
  },
  {
   "cell_type": "code",
   "execution_count": null,
   "id": "bf82761d",
   "metadata": {},
   "outputs": [],
   "source": [
    "final_df['release_year_bins'] = final_df['release_year'].apply(release_year_bins)\n",
    "final_df['days_bins'] = final_df['day'].apply(days_bins)"
   ]
  },
  {
   "cell_type": "markdown",
   "id": "414c47de",
   "metadata": {
    "id": "414c47de"
   },
   "source": [
    "### Converted Duration column from object to numerical column"
   ]
  },
  {
   "cell_type": "code",
   "execution_count": null,
   "id": "f87daa13",
   "metadata": {
    "id": "f87daa13"
   },
   "outputs": [],
   "source": [
    "#converting the duration from object type to float\n",
    "final_df['duration'] = final_df['duration'].str.split(' ',expand = True)[0].astype('float')"
   ]
  },
  {
   "cell_type": "markdown",
   "id": "0e89bd13",
   "metadata": {
    "id": "0e89bd13"
   },
   "source": [
    "### Statistical Summary in unnested data:"
   ]
  },
  {
   "cell_type": "code",
   "execution_count": null,
   "id": "dd45b5ac",
   "metadata": {
    "colab": {
     "base_uri": "https://localhost:8080/",
     "height": 300
    },
    "id": "dd45b5ac",
    "outputId": "353c9a47-0228-4b9c-d710-0b4955afd58b"
   },
   "outputs": [],
   "source": [
    "final_df.describe()"
   ]
  },
  {
   "cell_type": "code",
   "execution_count": null,
   "id": "3f2c15c8",
   "metadata": {
    "colab": {
     "base_uri": "https://localhost:8080/",
     "height": 175
    },
    "id": "3f2c15c8",
    "outputId": "fa2a644c-22e0-425f-8e3c-830a18ac8504"
   },
   "outputs": [],
   "source": [
    "final_df.describe(include = 'object')"
   ]
  },
  {
   "cell_type": "markdown",
   "id": "abd7eb7f",
   "metadata": {
    "id": "abd7eb7f"
   },
   "source": [
    "### Here we cannot derive much inferences as due to nesting many records are duplicated"
   ]
  },
  {
   "cell_type": "markdown",
   "id": "65d71860",
   "metadata": {
    "id": "65d71860"
   },
   "source": [
    "## Non-Graphical Analysis: Value counts and unique attributes  "
   ]
  },
  {
   "cell_type": "code",
   "execution_count": null,
   "id": "2509d357",
   "metadata": {
    "id": "2509d357"
   },
   "outputs": [],
   "source": [
    "# this function is to bold python output\n",
    "def bold_text(text):\n",
    "    bold_start = '\\033[1m'\n",
    "    bold_end = '\\033[0m'\n",
    "    return bold_start + text + bold_end"
   ]
  },
  {
   "cell_type": "code",
   "execution_count": null,
   "id": "e2605959",
   "metadata": {
    "id": "e2605959"
   },
   "outputs": [],
   "source": [
    "cols_list = ['type','director','cast','country','release_year','rating','duration','listed_in']"
   ]
  },
  {
   "cell_type": "markdown",
   "id": "d25adc06",
   "metadata": {
    "id": "d25adc06"
   },
   "source": [
    "### Value counts and unique attributes in original data"
   ]
  },
  {
   "cell_type": "code",
   "execution_count": null,
   "id": "747b60a2",
   "metadata": {
    "colab": {
     "base_uri": "https://localhost:8080/",
     "height": 0
    },
    "id": "747b60a2",
    "outputId": "2d6b1fba-ed2c-421a-9214-dcefd1365dc8",
    "scrolled": true
   },
   "outputs": [],
   "source": [
    "for i in cols_list:\n",
    "    print(bold_text(i.upper()+':'))\n",
    "    print(f'Number of unique elements in {i} is:\\n {df[i].nunique()}\\n')\n",
    "    print(f'Unique elements present in {i} column is:\\n {df[i].unique()}\\n')\n",
    "    print(f'Value Counts of {i} columns is:\\n{df[i].value_counts()}\\n\\n\\n')"
   ]
  },
  {
   "cell_type": "markdown",
   "id": "e7ffd095",
   "metadata": {
    "id": "e7ffd095"
   },
   "source": [
    "### Value counts and unique attributes in unnested data  "
   ]
  },
  {
   "cell_type": "code",
   "execution_count": null,
   "id": "ccb17fed",
   "metadata": {
    "id": "ccb17fed"
   },
   "outputs": [],
   "source": [
    "cols_list = ['type','rating','director','cast','country','listed_in','release_year_bins','year','week','month','days_bins','dayname']"
   ]
  },
  {
   "cell_type": "code",
   "execution_count": null,
   "id": "677a7169",
   "metadata": {
    "colab": {
     "base_uri": "https://localhost:8080/",
     "height": 0
    },
    "id": "677a7169",
    "outputId": "d8dc76ea-3f50-4c47-a31c-27cc7c392d39",
    "scrolled": true
   },
   "outputs": [],
   "source": [
    "for i in cols_list:\n",
    "    print(bold_text(i.upper()+':'))\n",
    "    print(f'Number of unique elements in {i} is:\\n {final_df[i].nunique()}\\n')\n",
    "    print(f'Unique elements present in {i} column is:\\n {final_df[i].unique()}\\n')\n",
    "    print(f'Value Counts of {i} columns is:\\n{final_df[i].value_counts()}\\n\\n\\n')"
   ]
  },
  {
   "cell_type": "markdown",
   "id": "adec3c56",
   "metadata": {},
   "source": [
    "### Replacing values in Listed in"
   ]
  },
  {
   "cell_type": "code",
   "execution_count": null,
   "id": "cd96dfba",
   "metadata": {},
   "outputs": [],
   "source": [
    "values = {\n",
    "    'Dramas':'Drama','Comedies':'Comedy','TV Dramas':'Drama','TV Comedies':'Comedy',\n",
    "    'Romantic Movies':'Romantic','Romantic TV Shows':'Romantic',\n",
    "    'Crime TV Shows':'Crime','Horror Movies':'Horror',\"Kids' TV\":'Kids','Children & Family Movies':'Kids',\n",
    "    'International Movies':'International','International TV Shows':'International',\n",
    "    'Independent Movies':'Movies',\n",
    "    'Music & Musicals':'Music','Anime Series':'Anime','TV Action & Adventure':'Action & Adventure',\n",
    "    'Spanish-Language TV Shows':'Spanish','British TV Shows':'British','Sports Movies':'Sports','Classic Movies':'Classic',\n",
    "    'TV Mysteries':'Mystery','Korean TV Shows':'Korean','Cult Movies':'Cult','TV Sci-Fi & Fantasy':'Sci-Fi & Fantasy',\n",
    "    'Anime Features':'Anime','TV Horror':'Horror','Docuseries':'Documentaries','TV Thrillers':'Thrillers','Teen TV Shows':'Teen',\n",
    "    'Reality TV':'Reality','Stand-Up Comedy':'Comedy','Stand-Up Comedy & Talk Shows':'Comedy',\n",
    "    \n",
    "}\n",
    "final_df['listed_in'] = final_df['listed_in'].replace(values)"
   ]
  },
  {
   "cell_type": "code",
   "execution_count": null,
   "id": "1f29a763",
   "metadata": {},
   "outputs": [],
   "source": [
    "final_df['listed_in'].nunique()"
   ]
  },
  {
   "cell_type": "markdown",
   "id": "e2f0fcf2",
   "metadata": {
    "id": "d238b632"
   },
   "source": [
    "### Dividing the dataset into two categories Movies and Shows"
   ]
  },
  {
   "cell_type": "code",
   "execution_count": null,
   "id": "a1f6ab37",
   "metadata": {
    "id": "33691963"
   },
   "outputs": [],
   "source": [
    "movies = final_df[final_df['type'] =='Movie']\n",
    "shows = final_df[final_df['type'] == 'TV Show']"
   ]
  },
  {
   "cell_type": "code",
   "execution_count": null,
   "id": "ffbdeda7",
   "metadata": {
    "id": "ffbdeda7"
   },
   "outputs": [],
   "source": [
    "cols_list = ['type','rating','director','cast','country','listed_in','release_year_bins','year','week','month','days_bins','dayname','duration']"
   ]
  },
  {
   "cell_type": "code",
   "execution_count": null,
   "id": "d31db5ca",
   "metadata": {
    "colab": {
     "base_uri": "https://localhost:8080/",
     "height": 0
    },
    "id": "d31db5ca",
    "outputId": "13388dfb-d43c-4110-a2f1-99d2de8404b8",
    "scrolled": true
   },
   "outputs": [],
   "source": [
    "for i in cols_list:\n",
    "    print(bold_text(i.upper()+':'))\n",
    "    print(f'Number of unique elements in {i} is:\\n {movies[i].nunique()}\\n')\n",
    "    print(f'Unique elements present in {i} column is:\\n {movies[i].unique()}\\n')\n",
    "    print(f'Value Counts of {i} columns is:\\n{movies[i].value_counts()}\\n\\n\\n')"
   ]
  },
  {
   "cell_type": "code",
   "execution_count": null,
   "id": "c1f0c0e4",
   "metadata": {
    "colab": {
     "base_uri": "https://localhost:8080/",
     "height": 0
    },
    "id": "c1f0c0e4",
    "outputId": "b435bc5f-1b9b-44e2-96c7-4143b75823e1",
    "scrolled": true
   },
   "outputs": [],
   "source": [
    "for i in cols_list:\n",
    "    print(bold_text(i.upper()+':'))\n",
    "    print(f'Number of unique elements in {i} is:\\n {shows[i].nunique()}\\n')\n",
    "    print(f'Unique elements present in {i} column is:\\n {shows[i].unique()}\\n')\n",
    "    print(f'Value Counts of {i} columns is:\\n{shows[i].value_counts()}\\n\\n\\n')"
   ]
  },
  {
   "cell_type": "code",
   "execution_count": null,
   "id": "31d3ea5e",
   "metadata": {},
   "outputs": [],
   "source": [
    "print(\"Number of directors that directed both movies and shows are:\",\\\n",
    "len(set(movies['director'].unique()).intersection(shows['director'].unique())) )"
   ]
  },
  {
   "cell_type": "code",
   "execution_count": null,
   "id": "4db70ee1",
   "metadata": {
    "colab": {
     "base_uri": "https://localhost:8080/",
     "height": 0
    },
    "id": "4db70ee1",
    "outputId": "96d81bd5-3a36-4bf6-ad02-89e23d93fc85"
   },
   "outputs": [],
   "source": [
    "print(\"Number of cast members that worked in both movies and shows are:\",\\\n",
    "      len(set(movies['cast'].unique()).intersection(shows['cast'].unique())) )"
   ]
  },
  {
   "cell_type": "markdown",
   "id": "60ddf44f",
   "metadata": {
    "id": "60ddf44f"
   },
   "source": [
    "### Insights from Non Graphical Analysis:\n",
    "\n",
    "\n",
    "<br><br><span style=\"font-size:16px;line-height:20px;font-family:Calibri (Body);\">\n",
    "    <strong><span style=\"font-size:16px;\">\n",
    "        &emsp;&emsp;Type:<br></strong></span>\n",
    "&emsp;&emsp;&emsp;&emsp;There are Only Two types of Show -> Movies and TV Shows<Br>\n",
    "&emsp;&emsp;&emsp;&emsp;b. Out of 8807 shows 6131 shows are Movies and 2676 shows are TV Shows\n",
    "<br><br>\n",
    "<strong><span style=\"font-size:16px;\">&emsp;&emsp;Rating:<br> </strong></span>\n",
    "\t&emsp;&emsp;&emsp;&emsp;a. There were a total of 17 ratings present for movies. Only  9 of which  are ratings used in TV Shows<br>\n",
    "<br><br>\n",
    "<strong><span style=\"font-size:16px;\">&emsp;&emsp;Director:<br> </strong></span>\n",
    "\t&emsp;&emsp;&emsp;&emsp;a. There were a total of 4528 directors in original dataset<br>\n",
    "\t&emsp;&emsp;&emsp;&emsp;b. There are a total of 4993 directors in the unnested dataset. Out of which 4777 directors worked in movies and only 299 directors worked in TV shows. Also, 84 directors directed both in Movies and TV Shows.\n",
    "<br><br>\n",
    "<strong><span style=\"font-size:16px;\">&emsp;&emsp;Cast:<br> </strong></span>\n",
    "\t&emsp;&emsp;&emsp;&emsp;a. There were a total of 7692 actors in original dataset<br>\n",
    "\t&emsp;&emsp;&emsp;&emsp;b. There are a total of 36439 casted actors/actress present in the unnested dataset. Out of which 25951 worked in movies and 14863 worked in TV Shows. Only 4376 worked both in Movies and TV Shows.\n",
    "<br><br>\n",
    "<strong><span style=\"font-size:16px;\">&emsp;&emsp;Country:<br> </strong></span>\n",
    "\t&emsp;&emsp;&emsp;&emsp;a. There were a total of 748 different values of clubbe country in original dataset<br>\n",
    "\t&emsp;&emsp;&emsp;&emsp;b. There are a total of 123 countries where these shows were available. Movies were accessible in 118 different countries and only 66 countries for TV Shows\n",
    "<br><br>\n",
    "<strong><span style=\"font-size:16px;\">&emsp;&emsp;Genre/Listed_in:<br> </strong></span>\n",
    "\t&emsp;&emsp;&emsp;&emsp;a. There are a total of 28 genres  values of present in the dataset. Out of which 18 belong to Movies and 21 belong the TV shows<br>\n",
    "\t&emsp;&emsp;&emsp;&emsp;b. There are a total of 123 countries where these shows were available<br>\n",
    "\t&emsp;&emsp;&emsp;&emsp;c. Drama and International Genres have the highest number of movies and TV Shows.\n",
    "<br><br>\n",
    "<strong><span style=\"font-size:16px;\">&emsp;&emsp;Years:<br> </strong></span>\n",
    "\t&emsp;&emsp;&emsp;&emsp;a. These movies/TV Shows were released in 74 different years starting from 1925. First TV Shows that was realeased in the dataset was in year 1925 and Movie was in year 1942.<br>\n",
    "\t&emsp;&emsp;&emsp;&emsp;b. 75% of movies were released in the last decade and 75% of Shows were released in last 7 years.<br>\n",
    "\t<br>\n",
    "\t&emsp;&emsp;&emsp;&emsp;c. Only from 2008 these tv shows/movies were added in the company. Most of the tv shows/movies were added in July following by December<br>\n",
    "\t&emsp;&emsp;&emsp;&emsp; Most of the tv shows/movies were released in Friday followed by Thursday\n",
    "<br><br>\n",
    "</span>"
   ]
  },
  {
   "cell_type": "markdown",
   "id": "87cb5e5c",
   "metadata": {
    "id": "87cb5e5c"
   },
   "source": [
    "## Visual Analysis - Univariate, Bivariate after pre-processing of the data"
   ]
  },
  {
   "cell_type": "code",
   "execution_count": null,
   "id": "3b4e0eb9",
   "metadata": {
    "colab": {
     "base_uri": "https://localhost:8080/",
     "height": 701
    },
    "id": "3b4e0eb9",
    "outputId": "35aa7a0a-4a9c-4375-9ec8-71a7ad5c3b7d"
   },
   "outputs": [],
   "source": [
    "plt.figure(figsize =(15,5))\n",
    "\n",
    "plt.subplot(1,2,1)\n",
    "movies[['show_id','rating']].drop_duplicates(keep = 'first')['rating'].value_counts().plot(kind = 'bar')\n",
    "plt.title('Frequency of Rating in movies')\n",
    "plt.grid()\n",
    "\n",
    "\n",
    "plt.subplot(1,2,2)\n",
    "shows[['show_id','rating']].drop_duplicates(keep = 'first')['rating'].value_counts().plot(kind = 'bar')\n",
    "plt.title('Frequency of Rating in TV Shows')\n",
    "plt.grid()\n",
    "\n",
    "plt.show()"
   ]
  },
  {
   "cell_type": "code",
   "execution_count": null,
   "id": "5bfad288",
   "metadata": {},
   "outputs": [],
   "source": [
    "mrating_others = ['NR', 'G', 'TV-Y7-FV', 'NC-17', 'UR', 'Unknown Rating',\n",
    "       '74 min', '84 min', '66 min']\n",
    "srating_others = ['NR', 'R','TV-G',\n",
    "       'Unknown Rating', 'TV-Y7-FV']\n",
    "\n",
    "movies['rating_new'] = movies.rating.apply(lambda x: 'others' if x in mrating_others else x)\n",
    "shows['rating_new'] = shows.rating.apply(lambda x: 'others' if x in srating_others else x)"
   ]
  },
  {
   "cell_type": "code",
   "execution_count": null,
   "id": "57e090e8",
   "metadata": {},
   "outputs": [],
   "source": [
    "shows[['show_id','rating_new']].drop_duplicates(keep = 'first')['rating_new'].value_counts().index"
   ]
  },
  {
   "cell_type": "code",
   "execution_count": null,
   "id": "8a8446e9",
   "metadata": {
    "colab": {
     "base_uri": "https://localhost:8080/",
     "height": 660
    },
    "id": "8a8446e9",
    "outputId": "3e43ede5-6c7d-4e25-8ad2-e506dbd7b48b"
   },
   "outputs": [],
   "source": [
    "plt.figure(figsize =(20,10))\n",
    "\n",
    "plt.subplot(1,2,1)\n",
    "mpie = movies[['show_id','rating_new']].drop_duplicates(keep = 'first')['rating_new'].value_counts()\n",
    "plt.pie(mpie, labels= mpie.index, autopct='%.0f%%')\n",
    "plt.title('Frequency of Rating in movies')\n",
    "\n",
    "\n",
    "plt.subplot(1,2,2)\n",
    "tpie = shows[['show_id','rating_new']].drop_duplicates(keep = 'first')['rating_new'].value_counts()\n",
    "plt.pie(tpie, labels= tpie.index, autopct='%.0f%%')\n",
    "plt.title('Frequency of Rating in TV Shows')\n",
    "\n",
    "plt.show()"
   ]
  },
  {
   "cell_type": "markdown",
   "id": "9573a3f6",
   "metadata": {
    "id": "9573a3f6"
   },
   "source": [
    "### Inferences from Rating:\n",
    "<span style=\"font-size:16px;line-height:20px;font-family:Calibri (Body);\">\n",
    "&emsp;&emsp;&emsp;&emsp;a. Netlix caters to a lot of Mature audience, 34% of movies and 48% of tv shows that are avaiable content is for mature<br>\n",
    "&emsp;&emsp;&emsp;&emsp;b. 23% and 27% movies and tv shows rated respectively as TV-14 i.e. children under age of 14 are not suitable to watch, target audience been mid and late teens<br>\n",
    "&emsp;&emsp;&emsp;&emsp;c. There are around 13% R Rated movies.<br>\n",
    "&emsp;&emsp;&emsp;&emsp;d.There are only 4% movies and 14% of TV Shows available for kids(TV-Y and TV-Y7)\n",
    "    \n",
    "<span>"
   ]
  },
  {
   "cell_type": "code",
   "execution_count": null,
   "id": "a3805987",
   "metadata": {
    "colab": {
     "base_uri": "https://localhost:8080/",
     "height": 0
    },
    "id": "a3805987",
    "outputId": "5eed9607-8b49-4416-ccf1-e1093107c8ae"
   },
   "outputs": [],
   "source": [
    "label = ['less than 1hr', 'between 1hr and 2hr','between 2hr and 3hr','greater than 3hr']\n",
    "movies_duration = movies.drop_duplicates(subset=['show_id','duration'], keep='first')['duration']\n",
    "(pd.cut(movies.drop_duplicates(subset=['show_id','duration'], keep='first')['duration'],\n",
    "               bins=[1,60,120,180,1000],\n",
    "               labels = label\n",
    ").value_counts()/len(movies_duration))*100"
   ]
  },
  {
   "cell_type": "code",
   "execution_count": null,
   "id": "f2f072f9",
   "metadata": {
    "colab": {
     "base_uri": "https://localhost:8080/",
     "height": 0
    },
    "id": "f2f072f9",
    "outputId": "37969251-b7ed-4d7f-9947-623cd9904600"
   },
   "outputs": [],
   "source": [
    "shows_duration = shows[['show_id','duration']].drop_duplicates(keep = 'first')['duration']\n",
    "shows_duration.value_counts()#/len(shows_duration)*100\n"
   ]
  },
  {
   "cell_type": "code",
   "execution_count": null,
   "id": "ca2788e1",
   "metadata": {
    "colab": {
     "base_uri": "https://localhost:8080/",
     "height": 699
    },
    "id": "ca2788e1",
    "outputId": "c9b4254c-7860-43e9-d849-a0e6eedaf66b",
    "scrolled": false
   },
   "outputs": [],
   "source": [
    "#binning duration of movies\n",
    "label = ['less than 1hr', 'between 1hr and 2hr','between 2hr and 3hr','greater than 3hr']\n",
    "movies_duration = movies.drop_duplicates(subset=['show_id','duration'], keep='first')['duration']\n",
    "(pd.cut(movies.drop_duplicates(subset=['show_id','duration'], keep='first')['duration'],\n",
    "               bins=[1,60,120,180,1000],\n",
    "               labels = label\n",
    ").value_counts()/len(movies_duration))*100\n",
    "\n",
    "plt.figure(figsize =(10,5))\n",
    "plt.subplot(1,2,1)\n",
    "label = ['less than 1hr', 'between 1hr and 2hr','between 2hr and 3hr','greater than 3hr']\n",
    "plt.title('Frequency of Duration of movies')\n",
    "pd.cut(movies.drop_duplicates(subset=['show_id','duration'], keep='first')['duration'],\n",
    "               bins=[1,60,120,180,1000],\n",
    "               labels = label\n",
    ").value_counts(ascending = True).plot(kind = 'barh')\n",
    "plt.grid()\n",
    "\n",
    "plt.subplot(1,2,2)\n",
    "shows[['show_id','duration']].drop_duplicates(keep = 'first')['duration'].value_counts(ascending = True).plot(kind = 'barh')\n",
    "plt.title('Frequency of Seasons of TV Shows')\n",
    "plt.grid()\n",
    "\n",
    "plt.show()"
   ]
  },
  {
   "cell_type": "markdown",
   "id": "03883fcc",
   "metadata": {
    "id": "03883fcc"
   },
   "source": [
    "### Inferences for Duration:\n",
    "<span style=\"font-size:16px;line-height:20px;font-family:Calibri (Body);\">\n",
    "&emsp;&emsp;&emsp;&emsp;a. 4499(~73%) movies are between 1hr and 2hr. 1095 Movies are between 2hr and 3hr.<br>\n",
    "&emsp;&emsp;&emsp;&emsp;b. 487 movies are less than 1hr. Only 47 movies are greater than 3hr.<br>\n",
    "&emsp;&emsp;&emsp;&emsp;c. TV Shows are mostly of only one season around 65%. There's one such TV Show which has 17 seasons.<br>\n",
    "&emsp;&emsp;&emsp;&emsp;d. There are only 26 such TV shows which have more than 8 seasons\n",
    "    \n",
    "<span>"
   ]
  },
  {
   "cell_type": "code",
   "execution_count": null,
   "id": "133075a7",
   "metadata": {
    "colab": {
     "base_uri": "https://localhost:8080/",
     "height": 530
    },
    "id": "133075a7",
    "outputId": "3bd866b9-522e-465e-9aba-6f5763e173bf"
   },
   "outputs": [],
   "source": [
    "plt.figure(figsize = (20,7))\n",
    "\n",
    "plt.subplot(1,2,1)\n",
    "mask = movies['director'] == 'Unknown Director'\n",
    "movies_director= movies.loc[~mask,['show_id','director']].drop_duplicates(keep = 'first')['director'].value_counts().head(10)\n",
    "sns.barplot(x = movies_director, y = movies_director.index )\n",
    "plt.title('Directors that produce highest number of movies')\n",
    "plt.ylabel('')\n",
    "plt.xlabel('')\n",
    "\n",
    "\n",
    "\n",
    "plt.subplot(1,2,2)\n",
    "mask = shows['director'] == 'Unknown Director'\n",
    "shows_director= shows.loc[~mask,['show_id','director']].drop_duplicates(keep = 'first')['director'].value_counts().head(10)\n",
    "sns.barplot(x = shows_director, y = shows_director.index )\n",
    "plt.title('Directors that produce highest number of shows')\n",
    "plt.ylabel('')\n",
    "plt.xlabel('')\n",
    "\n",
    "plt.show()"
   ]
  },
  {
   "cell_type": "markdown",
   "id": "e048633e",
   "metadata": {
    "id": "e048633e"
   },
   "source": [
    "### Inferences for Directors:\n",
    "<span style=\"font-size:16px;line-height:20px;font-family:Calibri (Body);\">\n",
    "    &emsp;&emsp;&emsp;&emsp;a. Rajiv Chilaka directed highest number of movies.<br>\n",
    "    &emsp;&emsp;&emsp;&emsp;b. Alaistar Fothergill directed highest number of TV Shows.<br>\n",
    "<span>"
   ]
  },
  {
   "cell_type": "code",
   "execution_count": null,
   "id": "3d9c5a70",
   "metadata": {
    "colab": {
     "base_uri": "https://localhost:8080/",
     "height": 718
    },
    "id": "3d9c5a70",
    "outputId": "669262f7-664d-4fd1-c84d-8e685b88409c"
   },
   "outputs": [],
   "source": [
    "plt.figure(figsize =(20,8))\n",
    "\n",
    "plt.subplot(1,2,1)\n",
    "mask = movies['cast'] == 'Unknown Actor'\n",
    "casts = movies.loc[~mask,['show_id','cast']].drop_duplicates(keep = 'first')['cast'].value_counts().head(10)\n",
    "sns.barplot(x=casts,y = casts.index)\n",
    "plt.title('Actors who have worked in most movies')\n",
    "plt.ylabel('')\n",
    "plt.xlabel('')\n",
    "\n",
    "plt.subplot(1,2,2)\n",
    "mask = shows['cast'] == 'Unknown Actor'\n",
    "casts = shows.loc[~mask,['show_id','cast']].drop_duplicates(keep = 'first')['cast'].value_counts().head(10)\n",
    "sns.barplot(x=casts,y = casts.index)\n",
    "plt.title('Actors who have worked in most TV shows')\n",
    "plt.ylabel('')\n",
    "plt.xlabel('')\n",
    "\n",
    "plt.show()"
   ]
  },
  {
   "cell_type": "markdown",
   "id": "e42c2e2a",
   "metadata": {
    "id": "e42c2e2a"
   },
   "source": [
    "### Inferences from Cast:\n",
    "<span style=\"font-size:16px;line-height:20px;font-family:Calibri (Body);\">\n",
    "    &emsp;&emsp;&emsp;&emsp;a. Anupam Kher has appeared in most of movies.<br>\n",
    "    &emsp;&emsp;&emsp;&emsp;b. Takahiko Sakurai has apperead in most of TV Shows.<br>\n",
    "    \n",
    "<span>"
   ]
  },
  {
   "cell_type": "code",
   "execution_count": null,
   "id": "2d70a712",
   "metadata": {
    "colab": {
     "base_uri": "https://localhost:8080/",
     "height": 565
    },
    "id": "2d70a712",
    "outputId": "6ce30d2b-2495-4722-a097-49e71b6426c8"
   },
   "outputs": [],
   "source": [
    "plt.figure(figsize=(15,5))\n",
    "\n",
    "plt.subplot(1,2,1)\n",
    "mask = movies['country'] == 'Unknown Country'\n",
    "movies.loc[~mask,['show_id','country']].drop_duplicates(keep = 'first')['country'].value_counts().head(10).plot(kind = 'bar')\n",
    "plt.title('Highest Number of movies released')\n",
    "\n",
    "\n",
    "plt.subplot(1,2,2)\n",
    "mask = shows['country'] == 'Unknown Country'\n",
    "shows.loc[~mask,['show_id','country']].drop_duplicates(keep = 'first')['country'].value_counts().head(10).plot(kind = 'bar')\n",
    "plt.title('Highest Number of shows released')\n",
    "\n",
    "plt.show()"
   ]
  },
  {
   "cell_type": "markdown",
   "id": "6e388b3a",
   "metadata": {
    "id": "6e388b3a"
   },
   "source": [
    "### Inferences from Country:\n",
    "<span style=\"font-size:16px;line-height:20px;font-family:Calibri (Body);\">\n",
    "    &emsp;&emsp;&emsp;&emsp;a. Highest number of movies were released in United States Followed by India and Uk. <br>\n",
    "    &emsp;&emsp;&emsp;&emsp;b. Highest number of TV Shows were released in United States followed by UK and Japan.\n",
    "    \n",
    "    \n",
    "<span>"
   ]
  },
  {
   "cell_type": "code",
   "execution_count": null,
   "id": "ec46bf1a",
   "metadata": {
    "colab": {
     "base_uri": "https://localhost:8080/",
     "height": 628
    },
    "id": "ec46bf1a",
    "outputId": "dc80c367-08ab-49af-e919-389503a56c0a",
    "scrolled": false
   },
   "outputs": [],
   "source": [
    "plt.figure(figsize =(15,5))\n",
    "plt.subplot(1,2,1)\n",
    "movies[['show_id','listed_in']].drop_duplicates(keep = 'first')['listed_in'].value_counts().head(10).plot(kind = 'bar')\n",
    "plt.title('Highest Number of movies released per Genre')\n",
    "plt.ylabel('')\n",
    "plt.xlabel('')\n",
    "\n",
    "\n",
    "plt.subplot(1,2,2)\n",
    "shows[['show_id','listed_in']].drop_duplicates(keep = 'first')['listed_in'].value_counts().head(10).plot(kind = 'bar')\n",
    "plt.title('Highest Number of shows released per Genre')\n",
    "plt.ylabel('')\n",
    "plt.xlabel('')\n",
    "\n",
    "plt.show()"
   ]
  },
  {
   "cell_type": "markdown",
   "id": "a133a096",
   "metadata": {
    "id": "a133a096"
   },
   "source": [
    "### Observations from Genres:\n",
    "<span style=\"font-size:16px;line-height:20px;font-family:Calibri (Body);\">\n",
    "    &emsp;&emsp;&emsp;&emsp;a. Highest Number of Movies/TV Shows are from International Movies, Dramas and Comedy Shows.\n",
    "    \n",
    "    \n",
    "<span>"
   ]
  },
  {
   "cell_type": "code",
   "execution_count": null,
   "id": "235ba40d",
   "metadata": {
    "colab": {
     "base_uri": "https://localhost:8080/",
     "height": 587
    },
    "id": "235ba40d",
    "outputId": "3bd9629b-0a44-4f0b-e06a-0eb09fd48990"
   },
   "outputs": [],
   "source": [
    "plt.figure(figsize =(10,5))\n",
    "\n",
    "plt.subplot(1,2,1)\n",
    "day_name = movies[['show_id','dayname']].drop_duplicates(keep = 'first')['dayname'].value_counts(ascending = True)\n",
    "plt.pie(day_name, labels= day_name.index, autopct='%.0f%%')\n",
    "plt.title('Shows released frequencies across the week')\n",
    "\n",
    "plt.subplot(1,2,2)\n",
    "day_name = shows[['show_id','dayname']].drop_duplicates(keep = 'first')['dayname'].value_counts(ascending = True)\n",
    "plt.pie(day_name, labels= day_name.index, autopct='%.0f%%')\n",
    "plt.title('Shows released frequencines across the week')\n",
    "plt.show()"
   ]
  },
  {
   "cell_type": "code",
   "execution_count": null,
   "id": "f3db2258",
   "metadata": {
    "colab": {
     "base_uri": "https://localhost:8080/",
     "height": 587
    },
    "id": "f3db2258",
    "outputId": "339c811d-79aa-4732-f528-5ac156772c34"
   },
   "outputs": [],
   "source": [
    "plt.figure(figsize =(10,5))\n",
    "\n",
    "plt.subplot(1,2,1)\n",
    "month_name = shows[['show_id','month']].drop_duplicates(keep = 'first')['month'].value_counts(ascending = True)\n",
    "plt.pie(month_name, labels= month_name.index, autopct='%.0f%%')\n",
    "plt.title('Shows released frequencies across the month of Year')\n",
    "\n",
    "plt.subplot(1,2,2)\n",
    "month_name = shows[['show_id','month']].drop_duplicates(keep = 'first')['month'].value_counts(ascending = True)\n",
    "plt.pie(month_name, labels= month_name.index, autopct='%.0f%%')\n",
    "plt.title('Shows released frequencies across the month of Year')\n",
    "\n",
    "plt.show()"
   ]
  },
  {
   "cell_type": "markdown",
   "id": "ada02970",
   "metadata": {
    "id": "ada02970"
   },
   "source": [
    "### Observations:\n",
    "<span style=\"font-size:16px;line-height:20px;font-family:Calibri (Body);\">\n",
    "    &emsp;&emsp;&emsp;&emsp;a. Most of the TV Shows/Movies are added in December or July\n",
    "    \n",
    "<span>"
   ]
  },
  {
   "cell_type": "code",
   "execution_count": null,
   "id": "05d55da9",
   "metadata": {
    "colab": {
     "base_uri": "https://localhost:8080/",
     "height": 487
    },
    "id": "05d55da9",
    "outputId": "7f8f8b95-5fbf-46a4-c7f1-6399924165aa"
   },
   "outputs": [],
   "source": [
    "plt.figure(figsize =(10,5))\n",
    "\n",
    "plt.subplot(1,2,1)\n",
    "days = movies[['show_id','day']].drop_duplicates(keep = 'first')['day']\n",
    "sns.histplot(days,bins = 8)\n",
    "plt.title('Movie Frequencies Across the Days of the Month')\n",
    "plt.ylabel('')\n",
    "\n",
    "plt.subplot(1,2,2)\n",
    "days = shows[['show_id','day']].drop_duplicates(keep = 'first')['day']\n",
    "sns.histplot(days,bins = 8)\n",
    "plt.title('Movie Releases Across the Day of the Month')\n",
    "plt.ylabel('')\n",
    "plt.show()"
   ]
  },
  {
   "cell_type": "code",
   "execution_count": null,
   "id": "984841de",
   "metadata": {
    "scrolled": false
   },
   "outputs": [],
   "source": [
    "plt.figure(figsize =(10,5))\n",
    "\n",
    "plt.subplot(1,2,1)\n",
    "days = movies[['show_id','days_bins']].drop_duplicates(keep = 'first')['days_bins']\n",
    "sns.histplot(days,bins = 8)\n",
    "plt.title('Movie Frequencies Across the Days of the Month')\n",
    "plt.ylabel('')\n",
    "\n",
    "plt.subplot(1,2,2)\n",
    "days = shows[['show_id','days_bins']].drop_duplicates(keep = 'first')['days_bins']\n",
    "sns.histplot(days,bins = 8)\n",
    "plt.title('Movie Releases Across the Day of the Month')\n",
    "plt.ylabel('')\n",
    "plt.show()"
   ]
  },
  {
   "cell_type": "markdown",
   "id": "097309b5",
   "metadata": {
    "id": "097309b5"
   },
   "source": [
    "### Observations:\n",
    "<span style=\"font-size:16px;line-height:20px;font-family:Calibri (Body);\">\n",
    "    &emsp;&emsp;&emsp;&emsp;a. Most of the TV Shows/Movies are added in the first week\n",
    "    \n",
    "<span>"
   ]
  },
  {
   "cell_type": "code",
   "execution_count": null,
   "id": "4d0df25e",
   "metadata": {},
   "outputs": [],
   "source": [
    "movies[['listed_in','director']].drop_duplicates(keep = 'first').groupby('listed_in').agg(lambda x: x.mode()[:2])"
   ]
  },
  {
   "cell_type": "code",
   "execution_count": null,
   "id": "574f8abd",
   "metadata": {
    "colab": {
     "base_uri": "https://localhost:8080/",
     "height": 465
    },
    "id": "574f8abd",
    "outputId": "42e6015e-b912-4e83-f97f-a4782b257419"
   },
   "outputs": [],
   "source": [
    "mon_list = np.array(['December','July'])\n",
    "mon_movies = movies.loc[movies['month'].isin(mon_list),['show_id','day','month']].drop_duplicates(keep = 'first')\n",
    "plt.figure(figsize = (15,5))\n",
    "sns.countplot(data = mon_movies,x = 'day',hue = 'month')\n",
    "plt.legend(loc='center')\n",
    "plt.show()"
   ]
  },
  {
   "cell_type": "code",
   "execution_count": null,
   "id": "e2ee27cc",
   "metadata": {
    "colab": {
     "base_uri": "https://localhost:8080/",
     "height": 610
    },
    "id": "e2ee27cc",
    "outputId": "18222562-3631-49d2-d150-a44ee86e1d0b"
   },
   "outputs": [],
   "source": [
    "plt.figure(figsize =(10,5))\n",
    "\n",
    "mon_list = np.array(['December','July'])\n",
    "mon_movies = movies.loc[movies['month'].isin(mon_list),['show_id','listed_in','month']].drop_duplicates(keep = 'first')[['month','listed_in']]\n",
    "sns.countplot(data = mon_movies,y = 'listed_in',hue = 'month')\n",
    "plt.xticks(rotation  = 90)\n",
    "plt.show()"
   ]
  },
  {
   "cell_type": "code",
   "execution_count": null,
   "id": "L1iTHsIGxB8t",
   "metadata": {
    "colab": {
     "base_uri": "https://localhost:8080/",
     "height": 487
    },
    "id": "L1iTHsIGxB8t",
    "outputId": "bdc7e070-e44a-47f3-ecbb-c4c4dc8b90f6"
   },
   "outputs": [],
   "source": [
    "plt.figure(figsize =(10,3))\n",
    "\n",
    "plt.subplot(1,2,1)\n",
    "days = movies[['show_id','year']].drop_duplicates(keep = 'first')['year']\n",
    "sns.histplot(days,bins = 30)\n",
    "plt.title('Movie Added Frequencies Across the Years')\n",
    "plt.ylabel('')\n",
    "\n",
    "plt.subplot(1,2,2)\n",
    "days = shows[['show_id','year']].drop_duplicates(keep = 'first')['year']\n",
    "sns.histplot(days,bins = 30)\n",
    "plt.title('TV Shows Added Frequencies Across the Years')\n",
    "plt.ylabel('')\n",
    "plt.show()"
   ]
  },
  {
   "cell_type": "markdown",
   "id": "2ee0c026",
   "metadata": {
    "id": "2ee0c026"
   },
   "source": [
    "### Inferences from Date Added :\n",
    "<span style=\"font-size:16px;line-height:20px;font-family:Calibri (Body);\">\n",
    "    &emsp;&emsp;&emsp;&emsp;a. Most of the TV Shows/Movies are added in December or July<br>\n",
    "    &emsp;&emsp;&emsp;&emsp;b. Most of the TV Shows/Movies are added in the first week<br>\n",
    "    &emsp;&emsp;&emsp;&emsp;c. Most of the movies are added in Month of December or July in the first week or last week<br>\n",
    "    &emsp;&emsp;&emsp;&emsp;d. Most of the movies are added in Month of December or July have genres Dramas International Movies and Comedies<br>\n",
    "    &emsp;&emsp;&emsp;&emsp;e. Most of the TV Shows are added in Month of December or July in the first week or last week<br>\n",
    "    &emsp;&emsp;&emsp;&emsp;f. Most of the TV Shows are added in Month of December or July have genres Dramas International Movies and Comedies<br>\n",
    "    &emsp;&emsp;&emsp;&emsp;g. Range of Year Added in 13 years<br>\n",
    "    \n",
    "<span>"
   ]
  },
  {
   "cell_type": "code",
   "execution_count": null,
   "id": "947b2294",
   "metadata": {
    "colab": {
     "base_uri": "https://localhost:8080/",
     "height": 770
    },
    "id": "947b2294",
    "outputId": "7b98fe3a-02cd-4603-dbf6-8a8308bafd6b"
   },
   "outputs": [],
   "source": [
    "plt.figure(figsize = (20,7))\n",
    "plt.subplot(2,1,1)\n",
    "sns.boxplot(data = movies,x= 'release_year')\n",
    "plt.title('Release Year Distribution in Movies')\n",
    "plt.xlabel('')\n",
    "\n",
    "plt.subplot(2,1,2)\n",
    "sns.boxplot(data = shows,x = 'release_year')\n",
    "plt.title('Release Year Distribution in Shows')\n",
    "plt.xlabel('')\n",
    "\n",
    "plt.show()\n"
   ]
  },
  {
   "cell_type": "code",
   "execution_count": null,
   "id": "68406fb3",
   "metadata": {
    "colab": {
     "base_uri": "https://localhost:8080/",
     "height": 300
    },
    "id": "68406fb3",
    "outputId": "0be791ec-1f76-4367-cc6c-ee902e60aaa3"
   },
   "outputs": [],
   "source": [
    "df[df['type'] == 'Movie'].describe()"
   ]
  },
  {
   "cell_type": "code",
   "execution_count": null,
   "id": "b5ccde78",
   "metadata": {
    "colab": {
     "base_uri": "https://localhost:8080/",
     "height": 300
    },
    "id": "b5ccde78",
    "outputId": "2cd30ab8-82fa-4ed0-a7f6-1e8a23dbf9f6"
   },
   "outputs": [],
   "source": [
    "df[df['type'] == 'TV Show'].describe()"
   ]
  },
  {
   "cell_type": "markdown",
   "id": "62564b68",
   "metadata": {
    "id": "62564b68"
   },
   "source": [
    "### Inferences from Release Year:\n",
    "<span style=\"font-size:16px;line-height:20px;font-family:Calibri (Body);\">\n",
    "    &emsp;&emsp;&emsp;&emsp;a. Very few movies were released before 2000 that are present in this dataset<br>\n",
    "    &emsp;&emsp;&emsp;&emsp;b. Very few TV Shows were released before 2010 that are present in this dataset<br>\n",
    "    &emsp;&emsp;&emsp;&emsp;c. Most of the movies were released between 2012 to 2018 that are present in this dataset<br>\n",
    "    &emsp;&emsp;&emsp;&emsp;d. Very few TV Shows were released between 2016 to 2020 that are present in this dataset<br>\n",
    "    &emsp;&emsp;&emsp;&emsp;e. Range of Release Year for Movies is equal to 79 years, for TV Shows it is equal to 96 years\n",
    "    \n",
    "<span>"
   ]
  },
  {
   "cell_type": "code",
   "execution_count": null,
   "id": "7c391d82",
   "metadata": {
    "colab": {
     "base_uri": "https://localhost:8080/",
     "height": 727
    },
    "id": "7c391d82",
    "outputId": "7e41a1aa-9c9c-4d43-b231-4cb21d106b05"
   },
   "outputs": [],
   "source": [
    "plt.figure(figsize = (20,5))\n",
    "box = final_df[['show_id','type','year_diff']].drop_duplicates()\n",
    "sns.boxplot(data = box,x='year_diff',y  = 'type')\n",
    "plt.show()"
   ]
  },
  {
   "cell_type": "code",
   "execution_count": null,
   "id": "735d842b",
   "metadata": {
    "colab": {
     "base_uri": "https://localhost:8080/",
     "height": 740
    },
    "id": "735d842b",
    "outputId": "a91957ca-9487-4a17-a945-d1de229e1890"
   },
   "outputs": [],
   "source": [
    "plt.figure(figsize = (7,3))\n",
    "box = final_df[['show_id','type','year_diff']].drop_duplicates()\n",
    "sns.kdeplot(data = box,x='year_diff',hue= 'type')\n",
    "plt.show()\n"
   ]
  },
  {
   "cell_type": "code",
   "execution_count": null,
   "id": "d708a98b",
   "metadata": {
    "colab": {
     "base_uri": "https://localhost:8080/",
     "height": 0
    },
    "id": "d708a98b",
    "outputId": "d5dc87bd-5ac5-424b-cdf6-3322a22cda63"
   },
   "outputs": [],
   "source": [
    "box[box['type'] == 'Movie'].max()"
   ]
  },
  {
   "cell_type": "code",
   "execution_count": null,
   "id": "10450c99",
   "metadata": {
    "colab": {
     "base_uri": "https://localhost:8080/",
     "height": 0
    },
    "id": "10450c99",
    "outputId": "01076bca-55ef-4166-81f6-fa11c3d3e57b"
   },
   "outputs": [],
   "source": [
    "box[box['type'] == 'TV Show'].max()"
   ]
  },
  {
   "cell_type": "markdown",
   "id": "e29830ea",
   "metadata": {
    "id": "e29830ea"
   },
   "source": [
    "### Inferences from difference between year added and year released:\n",
    "<span style=\"font-size:16px;line-height:20px;font-family:Calibri (Body);\">\n",
    "    &emsp;&emsp;&emsp;&emsp;a. Most of the movies/tv shows were added in the same year as it was released<br>\n",
    "    &emsp;&emsp;&emsp;&emsp;b. Highest year difference between when it was released and when it was added is 75 and 93 for movies and TV Shows respectively<br>    \n",
    "<span>"
   ]
  },
  {
   "cell_type": "code",
   "execution_count": null,
   "id": "fb5f2dc0",
   "metadata": {
    "colab": {
     "base_uri": "https://localhost:8080/",
     "height": 641
    },
    "id": "fb5f2dc0",
    "outputId": "a99db3c7-d0fb-497f-b042-194718e21696"
   },
   "outputs": [],
   "source": [
    "plt.figure(figsize = (7,3))\n",
    "\n",
    "movies_released_per_year = df.loc[df['type']=='Movie','release_year'].value_counts().sort_index()\n",
    "sns.lineplot(x = movies_released_per_year.index,y = movies_released_per_year,label = 'Movies')\n",
    "\n",
    "shows_released_per_year = df.loc[df['type']=='TV Show','release_year'].value_counts().sort_index()\n",
    "sns.lineplot(x =shows_released_per_year.index,y = shows_released_per_year,label = 'TV Shows')\n",
    "\n",
    "plt.xlabel('Release Year')\n",
    "plt.ylabel('')\n",
    "plt.title('Comparison of Number of Movies and TV Shows released over the years')\n",
    "plt.legend(loc = 'center')\n",
    "\n",
    "plt.show()"
   ]
  },
  {
   "cell_type": "code",
   "execution_count": null,
   "id": "f9ea8257",
   "metadata": {
    "colab": {
     "base_uri": "https://localhost:8080/",
     "height": 641
    },
    "id": "f9ea8257",
    "outputId": "85b10daa-8bb6-4b43-9a7c-c37f3be1f397"
   },
   "outputs": [],
   "source": [
    "plt.figure(figsize = (7,3))\n",
    "\n",
    "movies_added_per_year = movies.groupby('year')['show_id'].nunique()\n",
    "sns.lineplot(x = movies_added_per_year.index,y = movies_added_per_year,label = 'Movies')\n",
    "\n",
    "shows_added_per_year = shows.groupby('year')['show_id'].nunique()\n",
    "sns.lineplot(x =shows_added_per_year.index,y = shows_added_per_year,label = 'TV Shows')\n",
    "\n",
    "plt.xlabel('Added Year')\n",
    "plt.ylabel('')\n",
    "plt.title('Comparison of Number of Movies and TV Shows added over the years')\n",
    "plt.legend(loc = 'center')\n",
    "\n",
    "plt.show()"
   ]
  },
  {
   "cell_type": "markdown",
   "id": "9aa00b6d",
   "metadata": {
    "id": "9aa00b6d"
   },
   "source": [
    "### Number of Shows Released Across the Years :\n",
    "<span style=\"font-size:16px;line-height:20px;font-family:Calibri (Body);\">\n",
    "    &emsp;&emsp;&emsp;&emsp;a. In the recent years we can there has been a drop in release as well as drop in addition of Movies and Tv Shows. This maybe due to lack of data. As we donot have data we cannot conclude the above statement as true<br>\n",
    "<span>"
   ]
  },
  {
   "cell_type": "code",
   "execution_count": null,
   "id": "83689221",
   "metadata": {
    "colab": {
     "base_uri": "https://localhost:8080/",
     "height": 641
    },
    "id": "83689221",
    "outputId": "a47005f2-7e0f-4bb5-e027-695be8356882"
   },
   "outputs": [],
   "source": [
    "plt.figure(figsize = (7,3))\n",
    "\n",
    "movies_added_per_year = movies.groupby('year')['show_id'].nunique()\n",
    "sns.lineplot(x = movies_added_per_year.index,y = movies_added_per_year,label = 'Movies')\n",
    "\n",
    "shows_added_per_year = shows.groupby('year')['show_id'].nunique()\n",
    "sns.lineplot(x =shows_added_per_year.index,y = shows_added_per_year,label = 'TV Shows')\n",
    "\n",
    "plt.xlabel('Added Year')\n",
    "plt.ylabel('')\n",
    "plt.title('Comparison of Number of Movies and TV Shows added over the years')\n",
    "plt.legend(loc = 'center')\n",
    "plt.xlim(2008,2015)\n",
    "plt.ylim(0,60)\n",
    "\n",
    "plt.show()"
   ]
  },
  {
   "cell_type": "markdown",
   "id": "28668d1c",
   "metadata": {
    "id": "28668d1c"
   },
   "source": [
    "### Number of Shows Added across the years:\n",
    "<span style=\"font-size:16px;line-height:20px;font-family:Calibri (Body);\">\n",
    "    &emsp;&emsp;&emsp;&emsp;a. There has been spike in addtion of Movies and spike in addtion of TV Shows from 2013 and 2014 respectively.<span>"
   ]
  },
  {
   "cell_type": "code",
   "execution_count": null,
   "id": "4aeb9505",
   "metadata": {
    "colab": {
     "base_uri": "https://localhost:8080/",
     "height": 1000
    },
    "id": "4aeb9505",
    "outputId": "f1351baf-443c-4203-eb1b-fce06554d755"
   },
   "outputs": [],
   "source": [
    "sns.pairplot(data = movies)\n",
    "plt.show()"
   ]
  },
  {
   "cell_type": "code",
   "execution_count": null,
   "id": "5e3a5f51",
   "metadata": {
    "colab": {
     "base_uri": "https://localhost:8080/",
     "height": 1000
    },
    "id": "5e3a5f51",
    "outputId": "1171f86e-b524-4000-c0b3-bdd45d9d2dea"
   },
   "outputs": [],
   "source": [
    "sns.pairplot(data = shows)\n",
    "plt.show()"
   ]
  },
  {
   "cell_type": "code",
   "execution_count": null,
   "id": "34fa7363",
   "metadata": {
    "colab": {
     "base_uri": "https://localhost:8080/",
     "height": 548
    },
    "id": "34fa7363",
    "outputId": "a79a669c-fd2e-4d97-c67d-0eaacdb0bf2b"
   },
   "outputs": [],
   "source": [
    "plt.figure(figsize=(15,7))\n",
    "plt.subplot(1,2,1)\n",
    "sns.heatmap(movies[['release_year','duration','day','year','week','year_diff']].corr(),annot = True)\n",
    "\n",
    "\n",
    "\n",
    "plt.subplot(1,2,2)\n",
    "sns.heatmap(shows[['release_year','duration','day','year','week','year_diff']].corr(),annot = True)\n",
    "plt.show()"
   ]
  },
  {
   "cell_type": "code",
   "execution_count": null,
   "id": "839cce02",
   "metadata": {
    "colab": {
     "base_uri": "https://localhost:8080/",
     "height": 555
    },
    "id": "839cce02",
    "outputId": "74e8431e-962f-4a4a-f906-625ac1167a59"
   },
   "outputs": [],
   "source": [
    "plt.figure(figsize=(10,3))\n",
    "\n",
    "plt.subplot(1,2,1)\n",
    "corr_mov_data = movies[['release_year','duration','year']].drop_duplicates()\n",
    "sns.heatmap(corr_mov_data.corr(),annot = True)\n",
    "\n",
    "\n",
    "\n",
    "plt.subplot(1,2,2)\n",
    "corr_shows_data = shows[['release_year','duration','year']].drop_duplicates()\n",
    "sns.heatmap(corr_shows_data.corr(),annot = True)\n",
    "plt.show()"
   ]
  },
  {
   "cell_type": "markdown",
   "id": "d864f860",
   "metadata": {
    "id": "d864f860"
   },
   "source": [
    "### Observations:\n",
    "<span style=\"font-size:16px;line-height:20px;font-family:Calibri (Body);\">\n",
    "    &emsp;&emsp;&emsp;&emsp;a.  Except for release_year and year_diff, any clear correlation between any other columns cannot been seen.<span>"
   ]
  },
  {
   "cell_type": "code",
   "execution_count": null,
   "id": "a4e89e42",
   "metadata": {
    "colab": {
     "base_uri": "https://localhost:8080/",
     "height": 2232
    },
    "id": "a4e89e42",
    "outputId": "f6746ef0-8d66-44af-d475-eb562bf7f73f"
   },
   "outputs": [],
   "source": [
    "mask = movies['country'] == 'Unknown Country'\n",
    "mov_country_list = movies.loc[~mask,['show_id','country']].drop_duplicates(keep = 'first')['country'].value_counts().head(5).index.tolist()\n",
    "\n",
    "mask = shows['country'] == 'Unknown Country'\n",
    "show_country_list = shows.loc[~mask,['show_id','country']].drop_duplicates(keep = 'first')['country'].value_counts().head(5).index.tolist()\n",
    "\n",
    "\n",
    "mov_cg = movies[movies['country'].isin(mov_country_list)]\n",
    "show_cg = shows[shows['country'].isin(show_country_list)]\n",
    "\n",
    "mov_order = movies[['show_id','listed_in']].drop_duplicates(keep = 'first')['listed_in'].value_counts().index.tolist()\n",
    "show_order = shows[['show_id','listed_in']].drop_duplicates(keep = 'first')['listed_in'].value_counts().index.tolist()\n",
    "\n",
    "plt.figure(figsize = (15,20))\n",
    "\n",
    "plt.subplot(2,1,1)\n",
    "sns.countplot(data = mov_cg,x = 'listed_in',hue = 'country',order = mov_order,hue_order=mov_country_list)\n",
    "plt.ylabel('Genres')\n",
    "plt.xlabel('')\n",
    "plt.xticks(rotation = 90)\n",
    "\n",
    "plt.subplot(2,1,2)\n",
    "sns.countplot(data = show_cg,x = 'listed_in',hue = 'country',order = show_order,hue_order=show_country_list)\n",
    "plt.ylabel('Genres')\n",
    "plt.xlabel('')\n",
    "plt.xticks(rotation = 90)\n",
    "plt.show()"
   ]
  },
  {
   "cell_type": "markdown",
   "id": "9a665b8b",
   "metadata": {
    "id": "9a665b8b"
   },
   "source": [
    "### Inferneces from Top 5 Countries and Genres:\n",
    "<span style=\"font-size:16px;line-height:20px;font-family:Calibri (Body);\">\n",
    "    &emsp;&emsp;&emsp;&emsp;a. Most TV shows in United States are of Dramas, Comedy and Kids Genre.<Br>\n",
    "    &emsp;&emsp;&emsp;&emsp;b. Most TV Shows in United Kingdom are of British TV shows, International Shows and Dramas.<br>\n",
    "    &emsp;&emsp;&emsp;&emsp;c. Most TV shows in Japan are of International Shows and Anime Series.<Br>\n",
    "    &emsp;&emsp;&emsp;&emsp;d. Most TV Shows in South Korea are of International Shows, Korean and Romantic TV Shows.<br><br>\n",
    "    &emsp;&emsp;&emsp;&emsp;e. Most Movies in United States are of Dramas and Comedy.<Br>\n",
    "    &emsp;&emsp;&emsp;&emsp;f. Most Movies in United Kingdom are of International Movies, Dramas and Comedy Genre.<br>\n",
    "    &emsp;&emsp;&emsp;&emsp;g. Most Movies in India are of International Movies, Dramas and Comedy Genre.<Br>\n",
    "    &emsp;&emsp;&emsp;&emsp;h. Most Movies in France are of International Movies and Dramas.<br>\n",
    "\n",
    "    "
   ]
  },
  {
   "cell_type": "markdown",
   "id": "1Avi55UFzcxM",
   "metadata": {
    "id": "1Avi55UFzcxM"
   },
   "source": [
    "## Buisness Insights\n",
    "<br><br><span style=\"font-size:16px;line-height:20px;font-family:Calibri (Body);\">\n",
    "    <strong><span style=\"font-size:16px;\">\n",
    "        &emsp;&emsp;Type:<br></strong></span>\n",
    "    &emsp;&emsp;&emsp;&emsp;a. There are Only Two types of Show -> Movies and TV Shows<Br>\n",
    "    &emsp;&emsp;&emsp;&emsp;b. Out of 8807 shows 6131 shows are Movies and 2676 shows are TV Shows\n",
    "<br><br>\n",
    "\n",
    "<strong><span style=\"font-size:16px;\">&emsp;&emsp;Rating:<br> </strong></span>\n",
    "\t&emsp;&emsp;&emsp;&emsp;a. There were a total of 17 ratings present for movies. Only  9 of which  are ratings used in TV Shows<br>\n",
    "  &emsp;&emsp;&emsp;&emsp;b. Netlix caters to a lot of Mature audience, 34% of movies and 48% of tv shows that are avaiable content is for mature<br>\n",
    "  &emsp;&emsp;&emsp;&emsp;c. 23% and 27% movies and tv shows rated respectively as TV-14 i.e. children under age of 14 are not suitable to watch, target audience been mid and late teens<br>\n",
    "  &emsp;&emsp;&emsp;&emsp;d. There are around 13% R Rated movies.<br>\n",
    "  &emsp;&emsp;&emsp;&emsp;e.There are only 4% movies and 14% of TV Shows available for kids(TV-Y and TV-Y7)<br><br>\n",
    "\n",
    "<strong><span style=\"font-size:16px;\">&emsp;&emsp;Duration:<br> </strong></span>\n",
    "  &emsp;&emsp;&emsp;&emsp;a. 4499(~73%) movies are between 1hr and 2hr. 1095 Movies are between 2hr and 3hr.<br>\n",
    "  &emsp;&emsp;&emsp;&emsp;b. 487 movies are less than 1hr. Only 47 movies are greater than 3hr.<br>\n",
    "  &emsp;&emsp;&emsp;&emsp;c. TV Shows are mostly of only one season around 65%. There's one such TV Show which has 17 seasons.<br>\n",
    "  &emsp;&emsp;&emsp;&emsp;d. There are only 26 such TV shows which have more than 8 seasons\n",
    "<br><br>\n",
    "\n",
    "<strong><span style=\"font-size:16px;\">&emsp;&emsp;Director:<br> </strong></span>\n",
    "\t  &emsp;&emsp;&emsp;&emsp;a. There were a total of 4528 directors in original dataset<br>\n",
    "\t  &emsp;&emsp;&emsp;&emsp;b. There are a total of 4993 directors in the unnested dataset. Out of which 4777 directors worked in movies and only 299 directors worked in TV shows. Only 84 directors worked both in Movies and TV Shows<Br>\n",
    "    &emsp;&emsp;&emsp;&emsp;c. Rajiv Chilaka directed highest number of movies.<br>\n",
    "    &emsp;&emsp;&emsp;&emsp;d. Alaistar Fothergill directed highest number of TV Shows.\n",
    "<br><br>\n",
    "\n",
    "<strong><span style=\"font-size:16px;\">&emsp;&emsp;Cast:<br> </strong></span>\n",
    "\t&emsp;&emsp;&emsp;&emsp;a. There were a total of 7692 actors in original dataset<br>\n",
    "\t&emsp;&emsp;&emsp;&emsp;b. There are a total of 36439 casted actors/actress present in the unnested dataset. Out of which 25951 worked in movies and 14863 worked in TV Shows. Only 4376 worked both in Movies and TV Shows<br>\n",
    "   &emsp;&emsp;&emsp;&emsp;c. Anupam Kher has appeared in most of movies.<br>\n",
    "    &emsp;&emsp;&emsp;&emsp;d. Takahiko Sakurai has apperead in most of TV Shows.\n",
    "<br><br>\n",
    "\n",
    "\n",
    "<strong><span style=\"font-size:16px;\">&emsp;&emsp;Country:<br> </strong></span>\n",
    "\t&emsp;&emsp;&emsp;&emsp;a. There were a total of 748 different values of clubbed country in original dataset<br>\n",
    "\t&emsp;&emsp;&emsp;&emsp;b. There are a total of 123 countries where these shows were available. Movies were accessible in 118 different countries and 66 countries for TV Shows<br>\n",
    "  &emsp;&emsp;&emsp;&emsp;c. Highest number of movies were released in United States Followed by India and UK. <br>\n",
    "    &emsp;&emsp;&emsp;&emsp;d. Highest number of TV Shows were released in United States followed by UK and Japan.\n",
    "<br><br>\n",
    "\n",
    "<strong><span style=\"font-size:16px;\">&emsp;&emsp;Genre/Listed_in:<br> </strong></span>\n",
    "\t&emsp;&emsp;&emsp;&emsp;a. There are a total of 28 genres  values of present in the dataset. Out of which 18 belong to Movies and 21 belong the TV shows<br>\n",
    "\t&emsp;&emsp;&emsp;&emsp;b. There are a total of 123 countries where these shows were available<br>\n",
    "\t&emsp;&emsp;&emsp;&emsp;c. Drama and International Genres have the highest number of movies and TV Shows.\n",
    "<br><br>\n",
    "\n",
    "<strong><span style=\"font-size:16px;\">&emsp;&emsp;Years:<br> </strong></span>\n",
    "\t&emsp;&emsp;&emsp;&emsp;a. These movies/TV Shows were released in 74 different years starting from 1925. First TV Shows that was realeased in the dataset was in year 1925 and Movie was in year 1942.<br>\n",
    "\t&emsp;&emsp;&emsp;&emsp;b. 75% of movies were released in the last decade and 75% of Shows were released in last 7 years.<br>\n",
    "\t&emsp;&emsp;&emsp;&emsp;c. Only from 2008 these tv shows/movies were added. Most of the tv shows/movies were added in July following by December<br>\n",
    "\t&emsp;&emsp;&emsp;&emsp;d. Most of the tv shows/movies were released in Friday followed by Thursday<br>\n",
    "  &emsp;&emsp;&emsp;&emsp;e. Most of the TV Shows/Movies are added in December or July<br>\n",
    "    &emsp;&emsp;&emsp;&emsp;f. Most of the TV Shows/Movies are added in the first week<br>\n",
    "    &emsp;&emsp;&emsp;&emsp;g. Most of the movies are added in Month of December or July in the first week or last week<br>\n",
    "    &emsp;&emsp;&emsp;&emsp;h. Most of the movies are added in Month of December or July have genres Dramas International Movies and Comedies<br>\n",
    "    &emsp;&emsp;&emsp;&emsp;i. Most of the TV Shows are added in Month of December or July in the first week or last week<br>\n",
    "    &emsp;&emsp;&emsp;&emsp;j. Most of the TV Shows are added in Month of December or July have genres Dramas International Movies and Comedies<br>\n",
    "    &emsp;&emsp;&emsp;&emsp;k. Range of Year Added in 13 years<br>\n",
    "      &emsp;&emsp;&emsp;&emsp;l. Very few movies were released before 2000 that are present in this dataset<br>\n",
    "    &emsp;&emsp;&emsp;&emsp;m. Very few TV Shows were released before 2010 that are present in this dataset<br>\n",
    "    &emsp;&emsp;&emsp;&emsp;n. Most of the movies were released between 2012 to 2018 that are present in this dataset<br>\n",
    "    &emsp;&emsp;&emsp;&emsp;o. Very few TV Shows were released between 2016 to 2020 that are present in this dataset<br>\n",
    "    &emsp;&emsp;&emsp;&emsp;p. Range of Release Year for Movies is equal to 79 years, for TV Shows it is equal to 96 years\n",
    "<br><br>\n",
    "&emsp;&emsp;&emsp;&emsp;a. Most TV shows in United States are of Dramas, Comedy and Kids Genre.<Br>\n",
    "    &emsp;&emsp;&emsp;&emsp;b. Most TV Shows in United Kingdom are of British TV shows, International Shows and Dramas.<br>\n",
    "    &emsp;&emsp;&emsp;&emsp;c. Most TV shows in Japan are of International Shows and Anime Series.<Br>\n",
    "    &emsp;&emsp;&emsp;&emsp;d. Most TV Shows in South Korea are of International Shows, Korean TV shows and Romantic TV Shows.<br><br>\n",
    "    &emsp;&emsp;&emsp;&emsp;e. Most Movies in United States are of Dramas, Comedy and Children & Family Genre.<Br>\n",
    "    &emsp;&emsp;&emsp;&emsp;f. Most Movies in United Kingdom are of International Movies, Dramas and Comedy Genre.<br>\n",
    "    &emsp;&emsp;&emsp;&emsp;g. Most Movies in India are of International Movies, Dramas and Comedy Genre.<Br>\n",
    "    &emsp;&emsp;&emsp;&emsp;h. Most Movies in France are of International Movies and Dramas.<br><br>\n",
    "\n",
    "<strong><span style=\"font-size:16px;\">&emsp;&emsp;Inferences from Top 5 Countries and Genres:<br> </strong></span>\n",
    "<span style=\"font-size:16px;line-height:20px;font-family:Calibri (Body);\">\n",
    "    &emsp;&emsp;&emsp;&emsp;a. Most TV shows in United States are of Dramas, Comedy and Kids Genre.<Br>\n",
    "    &emsp;&emsp;&emsp;&emsp;b. Most TV Shows in United Kingdom are of British TV shows, International Shows and Dramas.<br>\n",
    "    &emsp;&emsp;&emsp;&emsp;c. Most TV shows in Japan are of International Shows and Anime Series.<Br>\n",
    "    &emsp;&emsp;&emsp;&emsp;d. Most TV Shows in South Korea are of International Shows, Korean TV shows and Romantic TV Shows.<br><br>\n",
    "    &emsp;&emsp;&emsp;&emsp;e. Most Movies in United States are of Dramas, Comedy and Children & Family Genre.<Br>\n",
    "    &emsp;&emsp;&emsp;&emsp;f. Most Movies in United Kingdom are of International Movies, Dramas and Comedy Genre.<br>\n",
    "    &emsp;&emsp;&emsp;&emsp;g. Most Movies in India are of International Movies, Dramas and Comedy Genre.<Br>\n",
    "    &emsp;&emsp;&emsp;&emsp;h. Most Movies in France are of International Movies and Dramas.<br><br>\n",
    "\n",
    "<strong><span style=\"font-size:16px;\">&emsp;&emsp;Other Inferences:<br> </strong></span>\n",
    "  &emsp;&emsp;&emsp;&emsp;a. Most of the movies/tv shows were added in the same year as it was released<br>\n",
    "    &emsp;&emsp;&emsp;&emsp;b. Highest year difference between when it was released and when it was added is 75 and 93 for movies and TV Shows respectively<br>\n",
    "     &emsp;&emsp;&emsp;&emsp;c. In the recent years we can there has been a drop in release as well as drop in addition of Movies and Tv Shows.<br>\n",
    "      &emsp;&emsp;&emsp;&emsp;d. There has been spike in addtion of Movies and spike in addtion of TV Shows from 2013 and 2014 respectively<span>\n",
    "<br><br>\n",
    "</span>"
   ]
  },
  {
   "cell_type": "markdown",
   "id": "RnXLOOR83uO-",
   "metadata": {
    "id": "RnXLOOR83uO-"
   },
   "source": [
    "## Recommendations\n",
    "\n",
    "1. Most of the shows are catered to mature audiences. Diversifying content genres is also important to attract a broader range of viewers. A mix of genres, including drama, comedy, action, romance, and documentary, to cater to varied tastes.\n",
    "\n",
    "2. Given the popularity of TV-14 rated content, more shows and movies should be tailored for the late teens demographic.\n",
    "\n",
    "8. Can Experiment with other genres like Sci-Fi, Fantasy, Thriller, and Documentaries.\n",
    "\n",
    "3. Due to kids less attention span, shows of length 15-20 mins should be available more. Side by Side it is also very important to implement a robust parental control and ensure that the content is suitable for this age group\n",
    "\n",
    "\n",
    "4. Focus on producing movies that fall within the popular 1-hour to 2-hour duration range.\n",
    "\n",
    "5. A strategic approach is to develop TV shows spanning 3-5 seasons, with each season having a compelling cliffhanger.  This will captivate viewers interest and anticipation, making them to eagerly await for the next season.\n",
    "\n",
    "6. Additionally we can create brief glimpses of behind the screens or share entertaining bloopers, providing a relatable and authentic connection to our audience.\n",
    "\n",
    "7. Some of the most old movies that are not present can be added, that were released before 2010, which will help to cater the elderly audience, creating a feeling of nostalgia. It will work especially well in a country like Japan due its higher older demographic.\n",
    "\n",
    "\n",
    "9. The trend of adding most TV shows and movies in Friday and Thursday in the first and last week of Decemeber and July can be leveraged. The release of highly anticipated original content can be done during these months to attract maximum viewership.\n",
    "\n",
    "\n",
    "\n"
   ]
  },
  {
   "cell_type": "code",
   "execution_count": null,
   "id": "b69f55dc",
   "metadata": {
    "id": "b69f55dc"
   },
   "outputs": [],
   "source": []
  }
 ],
 "metadata": {
  "colab": {
   "provenance": []
  },
  "kernelspec": {
   "display_name": "Python 3 (ipykernel)",
   "language": "python",
   "name": "python3"
  },
  "language_info": {
   "codemirror_mode": {
    "name": "ipython",
    "version": 3
   },
   "file_extension": ".py",
   "mimetype": "text/x-python",
   "name": "python",
   "nbconvert_exporter": "python",
   "pygments_lexer": "ipython3",
   "version": "3.11.7"
  }
 },
 "nbformat": 4,
 "nbformat_minor": 5
}

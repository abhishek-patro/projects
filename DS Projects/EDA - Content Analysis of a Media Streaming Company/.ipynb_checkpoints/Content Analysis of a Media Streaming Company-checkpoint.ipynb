{
 "cells": [
  {
   "cell_type": "code",
   "execution_count": 1,
   "id": "fac8c2ac",
   "metadata": {
    "id": "fac8c2ac"
   },
   "outputs": [],
   "source": [
    "import pandas as pd\n",
    "import numpy as np\n",
    "import matplotlib.pyplot as plt\n",
    "import seaborn as sns\n",
    "import plotly.express as px\n",
    "from plotly.subplots import make_subplots\n",
    "\n",
    "import random\n",
    "\n",
    "import warnings\n",
    "warnings.filterwarnings(\"ignore\")\n",
    "\n",
    "sns.set_style(\"darkgrid\")"
   ]
  },
  {
   "cell_type": "code",
   "execution_count": 2,
   "id": "05d0057b",
   "metadata": {
    "id": "05d0057b"
   },
   "outputs": [],
   "source": [
    "df = pd.read_csv(\"data exploration.csv\")"
   ]
  },
  {
   "cell_type": "markdown",
   "id": "3ee976fe",
   "metadata": {
    "id": "3ee976fe"
   },
   "source": [
    "# Problem Statement\n"
   ]
  },
  {
   "cell_type": "markdown",
   "id": "98254c3d",
   "metadata": {
    "id": "98254c3d"
   },
   "source": [
    "Which type of shows/movies to produce: Understanding the preferences and trends of viewers to create content that attracts more subscribers and retains existing ones."
   ]
  },
  {
   "cell_type": "markdown",
   "id": "f154625f",
   "metadata": {},
   "source": [
    "# Initial Data Exploration"
   ]
  },
  {
   "cell_type": "code",
   "execution_count": 3,
   "id": "e761f36d",
   "metadata": {
    "colab": {
     "base_uri": "https://localhost:8080/",
     "height": 0
    },
    "id": "e761f36d",
    "outputId": "0a6b76fa-b5eb-4d63-880b-54ac4c0a947a"
   },
   "outputs": [
    {
     "data": {
      "text/plain": [
       "(8807, 12)"
      ]
     },
     "execution_count": 3,
     "metadata": {},
     "output_type": "execute_result"
    }
   ],
   "source": [
    "df.shape"
   ]
  },
  {
   "cell_type": "code",
   "execution_count": 4,
   "id": "dee3273e",
   "metadata": {
    "colab": {
     "base_uri": "https://localhost:8080/",
     "height": 0
    },
    "id": "dee3273e",
    "outputId": "4b7a3d85-8629-4c90-d3fb-40ebe43bcde7"
   },
   "outputs": [
    {
     "name": "stdout",
     "output_type": "stream",
     "text": [
      "<class 'pandas.core.frame.DataFrame'>\n",
      "RangeIndex: 8807 entries, 0 to 8806\n",
      "Data columns (total 12 columns):\n",
      " #   Column        Non-Null Count  Dtype \n",
      "---  ------        --------------  ----- \n",
      " 0   show_id       8807 non-null   object\n",
      " 1   type          8807 non-null   object\n",
      " 2   title         8807 non-null   object\n",
      " 3   director      6173 non-null   object\n",
      " 4   cast          7982 non-null   object\n",
      " 5   country       7976 non-null   object\n",
      " 6   date_added    8797 non-null   object\n",
      " 7   release_year  8807 non-null   int64 \n",
      " 8   rating        8803 non-null   object\n",
      " 9   duration      8804 non-null   object\n",
      " 10  listed_in     8807 non-null   object\n",
      " 11  description   8807 non-null   object\n",
      "dtypes: int64(1), object(11)\n",
      "memory usage: 825.8+ KB\n"
     ]
    }
   ],
   "source": [
    "df.info()"
   ]
  },
  {
   "cell_type": "code",
   "execution_count": 5,
   "id": "f05c3626",
   "metadata": {
    "colab": {
     "base_uri": "https://localhost:8080/",
     "height": 702
    },
    "id": "f05c3626",
    "outputId": "aeed8957-4c2c-4610-e422-b50573596237"
   },
   "outputs": [
    {
     "data": {
      "text/html": [
       "<div>\n",
       "<style scoped>\n",
       "    .dataframe tbody tr th:only-of-type {\n",
       "        vertical-align: middle;\n",
       "    }\n",
       "\n",
       "    .dataframe tbody tr th {\n",
       "        vertical-align: top;\n",
       "    }\n",
       "\n",
       "    .dataframe thead th {\n",
       "        text-align: right;\n",
       "    }\n",
       "</style>\n",
       "<table border=\"1\" class=\"dataframe\">\n",
       "  <thead>\n",
       "    <tr style=\"text-align: right;\">\n",
       "      <th></th>\n",
       "      <th>show_id</th>\n",
       "      <th>type</th>\n",
       "      <th>title</th>\n",
       "      <th>director</th>\n",
       "      <th>cast</th>\n",
       "      <th>country</th>\n",
       "      <th>date_added</th>\n",
       "      <th>release_year</th>\n",
       "      <th>rating</th>\n",
       "      <th>duration</th>\n",
       "      <th>listed_in</th>\n",
       "      <th>description</th>\n",
       "    </tr>\n",
       "  </thead>\n",
       "  <tbody>\n",
       "    <tr>\n",
       "      <th>0</th>\n",
       "      <td>s1</td>\n",
       "      <td>Movie</td>\n",
       "      <td>Dick Johnson Is Dead</td>\n",
       "      <td>Kirsten Johnson</td>\n",
       "      <td>NaN</td>\n",
       "      <td>United States</td>\n",
       "      <td>September 25, 2021</td>\n",
       "      <td>2020</td>\n",
       "      <td>PG-13</td>\n",
       "      <td>90 min</td>\n",
       "      <td>Documentaries</td>\n",
       "      <td>As her father nears the end of his life, filmm...</td>\n",
       "    </tr>\n",
       "    <tr>\n",
       "      <th>1</th>\n",
       "      <td>s2</td>\n",
       "      <td>TV Show</td>\n",
       "      <td>Blood &amp; Water</td>\n",
       "      <td>NaN</td>\n",
       "      <td>Ama Qamata, Khosi Ngema, Gail Mabalane, Thaban...</td>\n",
       "      <td>South Africa</td>\n",
       "      <td>September 24, 2021</td>\n",
       "      <td>2021</td>\n",
       "      <td>TV-MA</td>\n",
       "      <td>2 Seasons</td>\n",
       "      <td>International TV Shows, TV Dramas, TV Mysteries</td>\n",
       "      <td>After crossing paths at a party, a Cape Town t...</td>\n",
       "    </tr>\n",
       "    <tr>\n",
       "      <th>2</th>\n",
       "      <td>s3</td>\n",
       "      <td>TV Show</td>\n",
       "      <td>Ganglands</td>\n",
       "      <td>Julien Leclercq</td>\n",
       "      <td>Sami Bouajila, Tracy Gotoas, Samuel Jouy, Nabi...</td>\n",
       "      <td>NaN</td>\n",
       "      <td>September 24, 2021</td>\n",
       "      <td>2021</td>\n",
       "      <td>TV-MA</td>\n",
       "      <td>1 Season</td>\n",
       "      <td>Crime TV Shows, International TV Shows, TV Act...</td>\n",
       "      <td>To protect his family from a powerful drug lor...</td>\n",
       "    </tr>\n",
       "    <tr>\n",
       "      <th>3</th>\n",
       "      <td>s4</td>\n",
       "      <td>TV Show</td>\n",
       "      <td>Jailbirds New Orleans</td>\n",
       "      <td>NaN</td>\n",
       "      <td>NaN</td>\n",
       "      <td>NaN</td>\n",
       "      <td>September 24, 2021</td>\n",
       "      <td>2021</td>\n",
       "      <td>TV-MA</td>\n",
       "      <td>1 Season</td>\n",
       "      <td>Docuseries, Reality TV</td>\n",
       "      <td>Feuds, flirtations and toilet talk go down amo...</td>\n",
       "    </tr>\n",
       "    <tr>\n",
       "      <th>4</th>\n",
       "      <td>s5</td>\n",
       "      <td>TV Show</td>\n",
       "      <td>Kota Factory</td>\n",
       "      <td>NaN</td>\n",
       "      <td>Mayur More, Jitendra Kumar, Ranjan Raj, Alam K...</td>\n",
       "      <td>India</td>\n",
       "      <td>September 24, 2021</td>\n",
       "      <td>2021</td>\n",
       "      <td>TV-MA</td>\n",
       "      <td>2 Seasons</td>\n",
       "      <td>International TV Shows, Romantic TV Shows, TV ...</td>\n",
       "      <td>In a city of coaching centers known to train I...</td>\n",
       "    </tr>\n",
       "    <tr>\n",
       "      <th>5</th>\n",
       "      <td>s6</td>\n",
       "      <td>TV Show</td>\n",
       "      <td>Midnight Mass</td>\n",
       "      <td>Mike Flanagan</td>\n",
       "      <td>Kate Siegel, Zach Gilford, Hamish Linklater, H...</td>\n",
       "      <td>NaN</td>\n",
       "      <td>September 24, 2021</td>\n",
       "      <td>2021</td>\n",
       "      <td>TV-MA</td>\n",
       "      <td>1 Season</td>\n",
       "      <td>TV Dramas, TV Horror, TV Mysteries</td>\n",
       "      <td>The arrival of a charismatic young priest brin...</td>\n",
       "    </tr>\n",
       "    <tr>\n",
       "      <th>6</th>\n",
       "      <td>s7</td>\n",
       "      <td>Movie</td>\n",
       "      <td>My Little Pony: A New Generation</td>\n",
       "      <td>Robert Cullen, José Luis Ucha</td>\n",
       "      <td>Vanessa Hudgens, Kimiko Glenn, James Marsden, ...</td>\n",
       "      <td>NaN</td>\n",
       "      <td>September 24, 2021</td>\n",
       "      <td>2021</td>\n",
       "      <td>PG</td>\n",
       "      <td>91 min</td>\n",
       "      <td>Children &amp; Family Movies</td>\n",
       "      <td>Equestria's divided. But a bright-eyed hero be...</td>\n",
       "    </tr>\n",
       "    <tr>\n",
       "      <th>7</th>\n",
       "      <td>s8</td>\n",
       "      <td>Movie</td>\n",
       "      <td>Sankofa</td>\n",
       "      <td>Haile Gerima</td>\n",
       "      <td>Kofi Ghanaba, Oyafunmike Ogunlano, Alexandra D...</td>\n",
       "      <td>United States, Ghana, Burkina Faso, United Kin...</td>\n",
       "      <td>September 24, 2021</td>\n",
       "      <td>1993</td>\n",
       "      <td>TV-MA</td>\n",
       "      <td>125 min</td>\n",
       "      <td>Dramas, Independent Movies, International Movies</td>\n",
       "      <td>On a photo shoot in Ghana, an American model s...</td>\n",
       "    </tr>\n",
       "    <tr>\n",
       "      <th>8</th>\n",
       "      <td>s9</td>\n",
       "      <td>TV Show</td>\n",
       "      <td>The Great British Baking Show</td>\n",
       "      <td>Andy Devonshire</td>\n",
       "      <td>Mel Giedroyc, Sue Perkins, Mary Berry, Paul Ho...</td>\n",
       "      <td>United Kingdom</td>\n",
       "      <td>September 24, 2021</td>\n",
       "      <td>2021</td>\n",
       "      <td>TV-14</td>\n",
       "      <td>9 Seasons</td>\n",
       "      <td>British TV Shows, Reality TV</td>\n",
       "      <td>A talented batch of amateur bakers face off in...</td>\n",
       "    </tr>\n",
       "    <tr>\n",
       "      <th>9</th>\n",
       "      <td>s10</td>\n",
       "      <td>Movie</td>\n",
       "      <td>The Starling</td>\n",
       "      <td>Theodore Melfi</td>\n",
       "      <td>Melissa McCarthy, Chris O'Dowd, Kevin Kline, T...</td>\n",
       "      <td>United States</td>\n",
       "      <td>September 24, 2021</td>\n",
       "      <td>2021</td>\n",
       "      <td>PG-13</td>\n",
       "      <td>104 min</td>\n",
       "      <td>Comedies, Dramas</td>\n",
       "      <td>A woman adjusting to life after a loss contend...</td>\n",
       "    </tr>\n",
       "  </tbody>\n",
       "</table>\n",
       "</div>"
      ],
      "text/plain": [
       "  show_id     type                             title  \\\n",
       "0      s1    Movie              Dick Johnson Is Dead   \n",
       "1      s2  TV Show                     Blood & Water   \n",
       "2      s3  TV Show                         Ganglands   \n",
       "3      s4  TV Show             Jailbirds New Orleans   \n",
       "4      s5  TV Show                      Kota Factory   \n",
       "5      s6  TV Show                     Midnight Mass   \n",
       "6      s7    Movie  My Little Pony: A New Generation   \n",
       "7      s8    Movie                           Sankofa   \n",
       "8      s9  TV Show     The Great British Baking Show   \n",
       "9     s10    Movie                      The Starling   \n",
       "\n",
       "                        director  \\\n",
       "0                Kirsten Johnson   \n",
       "1                            NaN   \n",
       "2                Julien Leclercq   \n",
       "3                            NaN   \n",
       "4                            NaN   \n",
       "5                  Mike Flanagan   \n",
       "6  Robert Cullen, José Luis Ucha   \n",
       "7                   Haile Gerima   \n",
       "8                Andy Devonshire   \n",
       "9                 Theodore Melfi   \n",
       "\n",
       "                                                cast  \\\n",
       "0                                                NaN   \n",
       "1  Ama Qamata, Khosi Ngema, Gail Mabalane, Thaban...   \n",
       "2  Sami Bouajila, Tracy Gotoas, Samuel Jouy, Nabi...   \n",
       "3                                                NaN   \n",
       "4  Mayur More, Jitendra Kumar, Ranjan Raj, Alam K...   \n",
       "5  Kate Siegel, Zach Gilford, Hamish Linklater, H...   \n",
       "6  Vanessa Hudgens, Kimiko Glenn, James Marsden, ...   \n",
       "7  Kofi Ghanaba, Oyafunmike Ogunlano, Alexandra D...   \n",
       "8  Mel Giedroyc, Sue Perkins, Mary Berry, Paul Ho...   \n",
       "9  Melissa McCarthy, Chris O'Dowd, Kevin Kline, T...   \n",
       "\n",
       "                                             country          date_added  \\\n",
       "0                                      United States  September 25, 2021   \n",
       "1                                       South Africa  September 24, 2021   \n",
       "2                                                NaN  September 24, 2021   \n",
       "3                                                NaN  September 24, 2021   \n",
       "4                                              India  September 24, 2021   \n",
       "5                                                NaN  September 24, 2021   \n",
       "6                                                NaN  September 24, 2021   \n",
       "7  United States, Ghana, Burkina Faso, United Kin...  September 24, 2021   \n",
       "8                                     United Kingdom  September 24, 2021   \n",
       "9                                      United States  September 24, 2021   \n",
       "\n",
       "   release_year rating   duration  \\\n",
       "0          2020  PG-13     90 min   \n",
       "1          2021  TV-MA  2 Seasons   \n",
       "2          2021  TV-MA   1 Season   \n",
       "3          2021  TV-MA   1 Season   \n",
       "4          2021  TV-MA  2 Seasons   \n",
       "5          2021  TV-MA   1 Season   \n",
       "6          2021     PG     91 min   \n",
       "7          1993  TV-MA    125 min   \n",
       "8          2021  TV-14  9 Seasons   \n",
       "9          2021  PG-13    104 min   \n",
       "\n",
       "                                           listed_in  \\\n",
       "0                                      Documentaries   \n",
       "1    International TV Shows, TV Dramas, TV Mysteries   \n",
       "2  Crime TV Shows, International TV Shows, TV Act...   \n",
       "3                             Docuseries, Reality TV   \n",
       "4  International TV Shows, Romantic TV Shows, TV ...   \n",
       "5                 TV Dramas, TV Horror, TV Mysteries   \n",
       "6                           Children & Family Movies   \n",
       "7   Dramas, Independent Movies, International Movies   \n",
       "8                       British TV Shows, Reality TV   \n",
       "9                                   Comedies, Dramas   \n",
       "\n",
       "                                         description  \n",
       "0  As her father nears the end of his life, filmm...  \n",
       "1  After crossing paths at a party, a Cape Town t...  \n",
       "2  To protect his family from a powerful drug lor...  \n",
       "3  Feuds, flirtations and toilet talk go down amo...  \n",
       "4  In a city of coaching centers known to train I...  \n",
       "5  The arrival of a charismatic young priest brin...  \n",
       "6  Equestria's divided. But a bright-eyed hero be...  \n",
       "7  On a photo shoot in Ghana, an American model s...  \n",
       "8  A talented batch of amateur bakers face off in...  \n",
       "9  A woman adjusting to life after a loss contend...  "
      ]
     },
     "execution_count": 5,
     "metadata": {},
     "output_type": "execute_result"
    }
   ],
   "source": [
    "df.head(10)"
   ]
  },
  {
   "cell_type": "markdown",
   "id": "096d495a",
   "metadata": {
    "id": "096d495a"
   },
   "source": [
    "1. We can convert `date_added` to datetime, then extract yearly, monthly, weekly columns\n",
    "2. Convert Duration into numerical column.\n",
    "3. Need to unnest the cast, director, country and listed_in columns.\n",
    "4. We can drop Description and Title column as they are unique columns."
   ]
  },
  {
   "cell_type": "markdown",
   "id": "073aac40",
   "metadata": {
    "id": "073aac40"
   },
   "source": [
    "### Let's check how much missing data is present:"
   ]
  },
  {
   "cell_type": "code",
   "execution_count": 6,
   "id": "094f05bb",
   "metadata": {
    "colab": {
     "base_uri": "https://localhost:8080/",
     "height": 0
    },
    "id": "094f05bb",
    "outputId": "effdb112-533f-4dc3-81ea-b7883aff2c17"
   },
   "outputs": [
    {
     "data": {
      "text/html": [
       "<div>\n",
       "<style scoped>\n",
       "    .dataframe tbody tr th:only-of-type {\n",
       "        vertical-align: middle;\n",
       "    }\n",
       "\n",
       "    .dataframe tbody tr th {\n",
       "        vertical-align: top;\n",
       "    }\n",
       "\n",
       "    .dataframe thead th {\n",
       "        text-align: right;\n",
       "    }\n",
       "</style>\n",
       "<table border=\"1\" class=\"dataframe\">\n",
       "  <thead>\n",
       "    <tr style=\"text-align: right;\">\n",
       "      <th></th>\n",
       "      <th>0</th>\n",
       "      <th>1</th>\n",
       "    </tr>\n",
       "  </thead>\n",
       "  <tbody>\n",
       "    <tr>\n",
       "      <th>show_id</th>\n",
       "      <td>0</td>\n",
       "      <td>0.000000</td>\n",
       "    </tr>\n",
       "    <tr>\n",
       "      <th>type</th>\n",
       "      <td>0</td>\n",
       "      <td>0.000000</td>\n",
       "    </tr>\n",
       "    <tr>\n",
       "      <th>title</th>\n",
       "      <td>0</td>\n",
       "      <td>0.000000</td>\n",
       "    </tr>\n",
       "    <tr>\n",
       "      <th>director</th>\n",
       "      <td>2634</td>\n",
       "      <td>29.908028</td>\n",
       "    </tr>\n",
       "    <tr>\n",
       "      <th>cast</th>\n",
       "      <td>825</td>\n",
       "      <td>9.367549</td>\n",
       "    </tr>\n",
       "    <tr>\n",
       "      <th>country</th>\n",
       "      <td>831</td>\n",
       "      <td>9.435676</td>\n",
       "    </tr>\n",
       "    <tr>\n",
       "      <th>date_added</th>\n",
       "      <td>10</td>\n",
       "      <td>0.113546</td>\n",
       "    </tr>\n",
       "    <tr>\n",
       "      <th>release_year</th>\n",
       "      <td>0</td>\n",
       "      <td>0.000000</td>\n",
       "    </tr>\n",
       "    <tr>\n",
       "      <th>rating</th>\n",
       "      <td>4</td>\n",
       "      <td>0.045418</td>\n",
       "    </tr>\n",
       "    <tr>\n",
       "      <th>duration</th>\n",
       "      <td>3</td>\n",
       "      <td>0.034064</td>\n",
       "    </tr>\n",
       "    <tr>\n",
       "      <th>listed_in</th>\n",
       "      <td>0</td>\n",
       "      <td>0.000000</td>\n",
       "    </tr>\n",
       "    <tr>\n",
       "      <th>description</th>\n",
       "      <td>0</td>\n",
       "      <td>0.000000</td>\n",
       "    </tr>\n",
       "  </tbody>\n",
       "</table>\n",
       "</div>"
      ],
      "text/plain": [
       "                 0          1\n",
       "show_id          0   0.000000\n",
       "type             0   0.000000\n",
       "title            0   0.000000\n",
       "director      2634  29.908028\n",
       "cast           825   9.367549\n",
       "country        831   9.435676\n",
       "date_added      10   0.113546\n",
       "release_year     0   0.000000\n",
       "rating           4   0.045418\n",
       "duration         3   0.034064\n",
       "listed_in        0   0.000000\n",
       "description      0   0.000000"
      ]
     },
     "execution_count": 6,
     "metadata": {},
     "output_type": "execute_result"
    }
   ],
   "source": [
    "pd.concat([df.isna().sum(),(df.isna().sum()/len(df))*100], axis = 1)"
   ]
  },
  {
   "cell_type": "markdown",
   "id": "8f1c87d8",
   "metadata": {
    "id": "8f1c87d8"
   },
   "source": [
    "We can see almost 30% of director data and approx 10% of both cast and country are missing, Except the above mentioned columns date_added, duration and rating has some missing values but they don't amount to much"
   ]
  },
  {
   "cell_type": "markdown",
   "id": "738be221",
   "metadata": {
    "id": "738be221"
   },
   "source": [
    "### Let's check if any row is duplicated?"
   ]
  },
  {
   "cell_type": "code",
   "execution_count": 7,
   "id": "e14ea7d5",
   "metadata": {
    "colab": {
     "base_uri": "https://localhost:8080/",
     "height": 0
    },
    "id": "e14ea7d5",
    "outputId": "9f29f6d4-7bbe-405f-ed15-b44cb62adf0d"
   },
   "outputs": [
    {
     "data": {
      "text/plain": [
       "0"
      ]
     },
     "execution_count": 7,
     "metadata": {},
     "output_type": "execute_result"
    }
   ],
   "source": [
    "df.duplicated().sum()"
   ]
  },
  {
   "cell_type": "markdown",
   "id": "bff5d4d1",
   "metadata": {
    "id": "bff5d4d1"
   },
   "source": [
    "### Let's check some statistical data"
   ]
  },
  {
   "cell_type": "code",
   "execution_count": 8,
   "id": "f7d3a8f9",
   "metadata": {
    "colab": {
     "base_uri": "https://localhost:8080/",
     "height": 300
    },
    "id": "f7d3a8f9",
    "outputId": "3b983b9f-d6b9-4f45-9799-a197ae735066"
   },
   "outputs": [
    {
     "data": {
      "text/html": [
       "<div>\n",
       "<style scoped>\n",
       "    .dataframe tbody tr th:only-of-type {\n",
       "        vertical-align: middle;\n",
       "    }\n",
       "\n",
       "    .dataframe tbody tr th {\n",
       "        vertical-align: top;\n",
       "    }\n",
       "\n",
       "    .dataframe thead th {\n",
       "        text-align: right;\n",
       "    }\n",
       "</style>\n",
       "<table border=\"1\" class=\"dataframe\">\n",
       "  <thead>\n",
       "    <tr style=\"text-align: right;\">\n",
       "      <th></th>\n",
       "      <th>release_year</th>\n",
       "    </tr>\n",
       "  </thead>\n",
       "  <tbody>\n",
       "    <tr>\n",
       "      <th>count</th>\n",
       "      <td>8807.000000</td>\n",
       "    </tr>\n",
       "    <tr>\n",
       "      <th>mean</th>\n",
       "      <td>2014.180198</td>\n",
       "    </tr>\n",
       "    <tr>\n",
       "      <th>std</th>\n",
       "      <td>8.819312</td>\n",
       "    </tr>\n",
       "    <tr>\n",
       "      <th>min</th>\n",
       "      <td>1925.000000</td>\n",
       "    </tr>\n",
       "    <tr>\n",
       "      <th>25%</th>\n",
       "      <td>2013.000000</td>\n",
       "    </tr>\n",
       "    <tr>\n",
       "      <th>50%</th>\n",
       "      <td>2017.000000</td>\n",
       "    </tr>\n",
       "    <tr>\n",
       "      <th>75%</th>\n",
       "      <td>2019.000000</td>\n",
       "    </tr>\n",
       "    <tr>\n",
       "      <th>max</th>\n",
       "      <td>2021.000000</td>\n",
       "    </tr>\n",
       "  </tbody>\n",
       "</table>\n",
       "</div>"
      ],
      "text/plain": [
       "       release_year\n",
       "count   8807.000000\n",
       "mean    2014.180198\n",
       "std        8.819312\n",
       "min     1925.000000\n",
       "25%     2013.000000\n",
       "50%     2017.000000\n",
       "75%     2019.000000\n",
       "max     2021.000000"
      ]
     },
     "execution_count": 8,
     "metadata": {},
     "output_type": "execute_result"
    }
   ],
   "source": [
    "df.describe()"
   ]
  },
  {
   "cell_type": "markdown",
   "id": "35ff8f9a",
   "metadata": {
    "id": "35ff8f9a"
   },
   "source": [
    "- Min value of `release_year` is 1925, so some TV Shows or Movies are present that are almost 95 years old\n",
    "- Only 25% of records that are present in this dataset were released before 2013. So,we have a lot of data that were released in the past decade"
   ]
  },
  {
   "cell_type": "code",
   "execution_count": 9,
   "id": "e59b7176",
   "metadata": {
    "colab": {
     "base_uri": "https://localhost:8080/",
     "height": 236
    },
    "id": "e59b7176",
    "outputId": "129c73c3-815e-4998-eabe-8049928ae8bf"
   },
   "outputs": [
    {
     "data": {
      "text/html": [
       "<div>\n",
       "<style scoped>\n",
       "    .dataframe tbody tr th:only-of-type {\n",
       "        vertical-align: middle;\n",
       "    }\n",
       "\n",
       "    .dataframe tbody tr th {\n",
       "        vertical-align: top;\n",
       "    }\n",
       "\n",
       "    .dataframe thead th {\n",
       "        text-align: right;\n",
       "    }\n",
       "</style>\n",
       "<table border=\"1\" class=\"dataframe\">\n",
       "  <thead>\n",
       "    <tr style=\"text-align: right;\">\n",
       "      <th></th>\n",
       "      <th>show_id</th>\n",
       "      <th>type</th>\n",
       "      <th>title</th>\n",
       "      <th>director</th>\n",
       "      <th>cast</th>\n",
       "      <th>country</th>\n",
       "      <th>date_added</th>\n",
       "      <th>rating</th>\n",
       "      <th>duration</th>\n",
       "      <th>listed_in</th>\n",
       "      <th>description</th>\n",
       "    </tr>\n",
       "  </thead>\n",
       "  <tbody>\n",
       "    <tr>\n",
       "      <th>count</th>\n",
       "      <td>8807</td>\n",
       "      <td>8807</td>\n",
       "      <td>8807</td>\n",
       "      <td>6173</td>\n",
       "      <td>7982</td>\n",
       "      <td>7976</td>\n",
       "      <td>8797</td>\n",
       "      <td>8803</td>\n",
       "      <td>8804</td>\n",
       "      <td>8807</td>\n",
       "      <td>8807</td>\n",
       "    </tr>\n",
       "    <tr>\n",
       "      <th>unique</th>\n",
       "      <td>8807</td>\n",
       "      <td>2</td>\n",
       "      <td>8807</td>\n",
       "      <td>4528</td>\n",
       "      <td>7692</td>\n",
       "      <td>748</td>\n",
       "      <td>1767</td>\n",
       "      <td>17</td>\n",
       "      <td>220</td>\n",
       "      <td>514</td>\n",
       "      <td>8775</td>\n",
       "    </tr>\n",
       "    <tr>\n",
       "      <th>top</th>\n",
       "      <td>s1</td>\n",
       "      <td>Movie</td>\n",
       "      <td>Dick Johnson Is Dead</td>\n",
       "      <td>Rajiv Chilaka</td>\n",
       "      <td>David Attenborough</td>\n",
       "      <td>United States</td>\n",
       "      <td>January 1, 2020</td>\n",
       "      <td>TV-MA</td>\n",
       "      <td>1 Season</td>\n",
       "      <td>Dramas, International Movies</td>\n",
       "      <td>Paranormal activity at a lush, abandoned prope...</td>\n",
       "    </tr>\n",
       "    <tr>\n",
       "      <th>freq</th>\n",
       "      <td>1</td>\n",
       "      <td>6131</td>\n",
       "      <td>1</td>\n",
       "      <td>19</td>\n",
       "      <td>19</td>\n",
       "      <td>2818</td>\n",
       "      <td>109</td>\n",
       "      <td>3207</td>\n",
       "      <td>1793</td>\n",
       "      <td>362</td>\n",
       "      <td>4</td>\n",
       "    </tr>\n",
       "  </tbody>\n",
       "</table>\n",
       "</div>"
      ],
      "text/plain": [
       "       show_id   type                 title       director  \\\n",
       "count     8807   8807                  8807           6173   \n",
       "unique    8807      2                  8807           4528   \n",
       "top         s1  Movie  Dick Johnson Is Dead  Rajiv Chilaka   \n",
       "freq         1   6131                     1             19   \n",
       "\n",
       "                      cast        country       date_added rating  duration  \\\n",
       "count                 7982           7976             8797   8803      8804   \n",
       "unique                7692            748             1767     17       220   \n",
       "top     David Attenborough  United States  January 1, 2020  TV-MA  1 Season   \n",
       "freq                    19           2818              109   3207      1793   \n",
       "\n",
       "                           listed_in  \\\n",
       "count                           8807   \n",
       "unique                           514   \n",
       "top     Dramas, International Movies   \n",
       "freq                             362   \n",
       "\n",
       "                                              description  \n",
       "count                                                8807  \n",
       "unique                                               8775  \n",
       "top     Paranormal activity at a lush, abandoned prope...  \n",
       "freq                                                    4  "
      ]
     },
     "execution_count": 9,
     "metadata": {},
     "output_type": "execute_result"
    }
   ],
   "source": [
    "df.describe(include = 'object')"
   ]
  },
  {
   "cell_type": "markdown",
   "id": "7b6d85ef",
   "metadata": {
    "id": "7b6d85ef"
   },
   "source": [
    "- Rajiv Chilaka is has directed most Movies or TV Shows\n",
    "- Most of the TV Shows or Movies were available in United States\n",
    "- David Attenborough has worked in most Movies or TV Shows\n",
    "- Even this particular `\"Paranormal activity at a lush....\"`description has been repeated four times in Movies/TV Shows. It can suspected that other descrptions are also be repeated\n",
    "- One thing to Note as we have not yet <strong>unnested the data</strong> these above basic insights might not hold true"
   ]
  },
  {
   "cell_type": "code",
   "execution_count": 10,
   "id": "649d564f",
   "metadata": {
    "colab": {
     "base_uri": "https://localhost:8080/",
     "height": 3973
    },
    "id": "649d564f",
    "outputId": "10b02e87-cf52-43c3-c2c4-906d21602372",
    "scrolled": true
   },
   "outputs": [
    {
     "data": {
      "text/html": [
       "<div>\n",
       "<style scoped>\n",
       "    .dataframe tbody tr th:only-of-type {\n",
       "        vertical-align: middle;\n",
       "    }\n",
       "\n",
       "    .dataframe tbody tr th {\n",
       "        vertical-align: top;\n",
       "    }\n",
       "\n",
       "    .dataframe thead th {\n",
       "        text-align: right;\n",
       "    }\n",
       "</style>\n",
       "<table border=\"1\" class=\"dataframe\">\n",
       "  <thead>\n",
       "    <tr style=\"text-align: right;\">\n",
       "      <th></th>\n",
       "      <th>show_id</th>\n",
       "      <th>type</th>\n",
       "      <th>title</th>\n",
       "      <th>director</th>\n",
       "      <th>cast</th>\n",
       "      <th>country</th>\n",
       "      <th>date_added</th>\n",
       "      <th>release_year</th>\n",
       "      <th>rating</th>\n",
       "      <th>duration</th>\n",
       "      <th>listed_in</th>\n",
       "      <th>description</th>\n",
       "    </tr>\n",
       "  </thead>\n",
       "  <tbody>\n",
       "    <tr>\n",
       "      <th>78</th>\n",
       "      <td>s79</td>\n",
       "      <td>Movie</td>\n",
       "      <td>Tughlaq Durbar</td>\n",
       "      <td>Delhiprasad Deenadayalan</td>\n",
       "      <td>Vijay Sethupathi, Parthiban, Raashi Khanna</td>\n",
       "      <td>NaN</td>\n",
       "      <td>September 11, 2021</td>\n",
       "      <td>2020</td>\n",
       "      <td>TV-14</td>\n",
       "      <td>145 min</td>\n",
       "      <td>Comedies, Dramas, International Movies</td>\n",
       "      <td>A budding politician has devious plans to rise...</td>\n",
       "    </tr>\n",
       "    <tr>\n",
       "      <th>79</th>\n",
       "      <td>s80</td>\n",
       "      <td>Movie</td>\n",
       "      <td>Tughlaq Durbar (Telugu)</td>\n",
       "      <td>Delhiprasad Deenadayalan</td>\n",
       "      <td>Vijay Sethupathi, Parthiban, Raashi Khanna</td>\n",
       "      <td>NaN</td>\n",
       "      <td>September 11, 2021</td>\n",
       "      <td>2021</td>\n",
       "      <td>TV-14</td>\n",
       "      <td>145 min</td>\n",
       "      <td>Comedies, Dramas, International Movies</td>\n",
       "      <td>A budding politician has devious plans to rise...</td>\n",
       "    </tr>\n",
       "    <tr>\n",
       "      <th>7022</th>\n",
       "      <td>s7023</td>\n",
       "      <td>Movie</td>\n",
       "      <td>Hum Saath-Saath Hain</td>\n",
       "      <td>Sooraj R. Barjatya</td>\n",
       "      <td>Salman Khan, Karisma Kapoor, Saif Ali Khan, Ta...</td>\n",
       "      <td>India</td>\n",
       "      <td>January 1, 2018</td>\n",
       "      <td>1999</td>\n",
       "      <td>TV-G</td>\n",
       "      <td>176 min</td>\n",
       "      <td>Dramas, International Movies, Music &amp; Musicals</td>\n",
       "      <td>A scheming matriarch plots to cut off her disa...</td>\n",
       "    </tr>\n",
       "    <tr>\n",
       "      <th>2969</th>\n",
       "      <td>s2970</td>\n",
       "      <td>Movie</td>\n",
       "      <td>Together For Eternity</td>\n",
       "      <td>Sooraj R. Barjatya</td>\n",
       "      <td>Salman Khan, Karisma Kapoor, Saif Ali Khan, Ta...</td>\n",
       "      <td>India</td>\n",
       "      <td>February 1, 2020</td>\n",
       "      <td>1999</td>\n",
       "      <td>TV-G</td>\n",
       "      <td>176 min</td>\n",
       "      <td>Dramas, International Movies, Music &amp; Musicals</td>\n",
       "      <td>A scheming matriarch plots to cut off her disa...</td>\n",
       "    </tr>\n",
       "    <tr>\n",
       "      <th>3492</th>\n",
       "      <td>s3493</td>\n",
       "      <td>Movie</td>\n",
       "      <td>Oh! Baby (Malayalam)</td>\n",
       "      <td>B. V. Nandini Reddy</td>\n",
       "      <td>Samantha Ruth Prabhu, Lakshmi, Rajendraprasad,...</td>\n",
       "      <td>NaN</td>\n",
       "      <td>September 25, 2019</td>\n",
       "      <td>2019</td>\n",
       "      <td>TV-14</td>\n",
       "      <td>146 min</td>\n",
       "      <td>Comedies, International Movies, Music &amp; Musicals</td>\n",
       "      <td>A surly septuagenarian gets another chance at ...</td>\n",
       "    </tr>\n",
       "    <tr>\n",
       "      <th>3516</th>\n",
       "      <td>s3517</td>\n",
       "      <td>Movie</td>\n",
       "      <td>Oh! Baby</td>\n",
       "      <td>B. V. Nandini Reddy</td>\n",
       "      <td>Samantha Ruth Prabhu, Lakshmi, Rajendraprasad,...</td>\n",
       "      <td>India</td>\n",
       "      <td>September 14, 2019</td>\n",
       "      <td>2019</td>\n",
       "      <td>TV-14</td>\n",
       "      <td>157 min</td>\n",
       "      <td>Comedies, International Movies, Music &amp; Musicals</td>\n",
       "      <td>A surly septuagenarian gets another chance at ...</td>\n",
       "    </tr>\n",
       "    <tr>\n",
       "      <th>3493</th>\n",
       "      <td>s3494</td>\n",
       "      <td>Movie</td>\n",
       "      <td>Oh! Baby (Tamil)</td>\n",
       "      <td>B. V. Nandini Reddy</td>\n",
       "      <td>Samantha Ruth Prabhu, Lakshmi, Rajendraprasad,...</td>\n",
       "      <td>NaN</td>\n",
       "      <td>September 25, 2019</td>\n",
       "      <td>2019</td>\n",
       "      <td>TV-14</td>\n",
       "      <td>146 min</td>\n",
       "      <td>Comedies, International Movies, Music &amp; Musicals</td>\n",
       "      <td>A surly septuagenarian gets another chance at ...</td>\n",
       "    </tr>\n",
       "    <tr>\n",
       "      <th>8051</th>\n",
       "      <td>s8052</td>\n",
       "      <td>Movie</td>\n",
       "      <td>Solo: A Star Wars Story</td>\n",
       "      <td>Ron Howard</td>\n",
       "      <td>Alden Ehrenreich, Woody Harrelson, Emilia Clar...</td>\n",
       "      <td>United States</td>\n",
       "      <td>January 9, 2019</td>\n",
       "      <td>2018</td>\n",
       "      <td>PG-13</td>\n",
       "      <td>135 min</td>\n",
       "      <td>Action &amp; Adventure, Children &amp; Family Movies, ...</td>\n",
       "      <td>A young Han Solo tries to settle an old score ...</td>\n",
       "    </tr>\n",
       "    <tr>\n",
       "      <th>8052</th>\n",
       "      <td>s8053</td>\n",
       "      <td>Movie</td>\n",
       "      <td>Solo: A Star Wars Story (Spanish Version)</td>\n",
       "      <td>Ron Howard</td>\n",
       "      <td>Alden Ehrenreich, Woody Harrelson, Emilia Clar...</td>\n",
       "      <td>United States</td>\n",
       "      <td>January 9, 2019</td>\n",
       "      <td>2018</td>\n",
       "      <td>PG-13</td>\n",
       "      <td>135 min</td>\n",
       "      <td>Action &amp; Adventure, Children &amp; Family Movies, ...</td>\n",
       "      <td>A young Han Solo tries to settle an old score ...</td>\n",
       "    </tr>\n",
       "    <tr>\n",
       "      <th>5965</th>\n",
       "      <td>s5966</td>\n",
       "      <td>Movie</td>\n",
       "      <td>22-Jul</td>\n",
       "      <td>Paul Greengrass</td>\n",
       "      <td>Anders Danielsen Lie, Jon Øigarden, Jonas Stra...</td>\n",
       "      <td>Norway, Iceland, United States</td>\n",
       "      <td>October 10, 2018</td>\n",
       "      <td>2018</td>\n",
       "      <td>R</td>\n",
       "      <td>144 min</td>\n",
       "      <td>Dramas, Thrillers</td>\n",
       "      <td>After devastating terror attacks in Norway, a ...</td>\n",
       "    </tr>\n",
       "    <tr>\n",
       "      <th>4522</th>\n",
       "      <td>s4523</td>\n",
       "      <td>Movie</td>\n",
       "      <td>22 July</td>\n",
       "      <td>Paul Greengrass</td>\n",
       "      <td>Anders Danielsen Lie, Jon Øigarden, Jonas Stra...</td>\n",
       "      <td>Norway, Iceland, United States</td>\n",
       "      <td>October 10, 2018</td>\n",
       "      <td>2018</td>\n",
       "      <td>R</td>\n",
       "      <td>144 min</td>\n",
       "      <td>Dramas, Thrillers</td>\n",
       "      <td>After devastating terror attacks in Norway, a ...</td>\n",
       "    </tr>\n",
       "    <tr>\n",
       "      <th>2840</th>\n",
       "      <td>s2841</td>\n",
       "      <td>Movie</td>\n",
       "      <td>Angu Vaikuntapurathu (Malayalam)</td>\n",
       "      <td>Trivikram Srinivas</td>\n",
       "      <td>Allu Arjun, Pooja Hegde, Tabu, Sushanth, Nivet...</td>\n",
       "      <td>NaN</td>\n",
       "      <td>March 5, 2020</td>\n",
       "      <td>2020</td>\n",
       "      <td>TV-14</td>\n",
       "      <td>162 min</td>\n",
       "      <td>Action &amp; Adventure, Comedies, Dramas</td>\n",
       "      <td>After growing up enduring criticism from his f...</td>\n",
       "    </tr>\n",
       "    <tr>\n",
       "      <th>2873</th>\n",
       "      <td>s2874</td>\n",
       "      <td>Movie</td>\n",
       "      <td>Ala Vaikunthapurramuloo</td>\n",
       "      <td>Trivikram Srinivas</td>\n",
       "      <td>Allu Arjun, Pooja Hegde, Tabu, Sushanth, Nivet...</td>\n",
       "      <td>India</td>\n",
       "      <td>February 27, 2020</td>\n",
       "      <td>2020</td>\n",
       "      <td>TV-14</td>\n",
       "      <td>162 min</td>\n",
       "      <td>Action &amp; Adventure, Comedies, Dramas</td>\n",
       "      <td>After growing up enduring criticism from his f...</td>\n",
       "    </tr>\n",
       "    <tr>\n",
       "      <th>3933</th>\n",
       "      <td>s3934</td>\n",
       "      <td>Movie</td>\n",
       "      <td>Petta (Telugu Version)</td>\n",
       "      <td>Karthik Subbaraj</td>\n",
       "      <td>Rajnikanth, Vijay Sethupathi, M. Sasikumar, Na...</td>\n",
       "      <td>NaN</td>\n",
       "      <td>April 7, 2019</td>\n",
       "      <td>2019</td>\n",
       "      <td>TV-14</td>\n",
       "      <td>170 min</td>\n",
       "      <td>Action &amp; Adventure, Comedies, Dramas</td>\n",
       "      <td>An affable, newly appointed college warden pro...</td>\n",
       "    </tr>\n",
       "    <tr>\n",
       "      <th>3939</th>\n",
       "      <td>s3940</td>\n",
       "      <td>Movie</td>\n",
       "      <td>Petta</td>\n",
       "      <td>Karthik Subbaraj</td>\n",
       "      <td>Rajnikanth, Vijay Sethupathi, M. Sasikumar, Na...</td>\n",
       "      <td>India</td>\n",
       "      <td>April 5, 2019</td>\n",
       "      <td>2019</td>\n",
       "      <td>TV-14</td>\n",
       "      <td>170 min</td>\n",
       "      <td>Action &amp; Adventure, Comedies, Dramas</td>\n",
       "      <td>An affable, newly appointed college warden pro...</td>\n",
       "    </tr>\n",
       "    <tr>\n",
       "      <th>3932</th>\n",
       "      <td>s3933</td>\n",
       "      <td>Movie</td>\n",
       "      <td>Sarvam Thaala Mayam (Telugu Version)</td>\n",
       "      <td>Rajiv Menon</td>\n",
       "      <td>G.V. Prakash Kumar, Nedumudi Venu, Aparna Bala...</td>\n",
       "      <td>India</td>\n",
       "      <td>April 8, 2019</td>\n",
       "      <td>2018</td>\n",
       "      <td>TV-14</td>\n",
       "      <td>131 min</td>\n",
       "      <td>Dramas, International Movies, Music &amp; Musicals</td>\n",
       "      <td>An aspiring musician battles age-old caste div...</td>\n",
       "    </tr>\n",
       "    <tr>\n",
       "      <th>4061</th>\n",
       "      <td>s4062</td>\n",
       "      <td>Movie</td>\n",
       "      <td>Sarvam Thaala Mayam (Tamil Version)</td>\n",
       "      <td>Rajiv Menon</td>\n",
       "      <td>G.V. Prakash Kumar, Nedumudi Venu, Aparna Bala...</td>\n",
       "      <td>NaN</td>\n",
       "      <td>March 1, 2019</td>\n",
       "      <td>2018</td>\n",
       "      <td>TV-14</td>\n",
       "      <td>131 min</td>\n",
       "      <td>Dramas, International Movies, Music &amp; Musicals</td>\n",
       "      <td>An aspiring musician battles age-old caste div...</td>\n",
       "    </tr>\n",
       "    <tr>\n",
       "      <th>1652</th>\n",
       "      <td>s1653</td>\n",
       "      <td>Movie</td>\n",
       "      <td>Andhaghaaram</td>\n",
       "      <td>V Vignarajan</td>\n",
       "      <td>Vinoth Kishan, Arjun Das, Pooja Ramachandran, ...</td>\n",
       "      <td>NaN</td>\n",
       "      <td>November 24, 2020</td>\n",
       "      <td>2020</td>\n",
       "      <td>TV-14</td>\n",
       "      <td>171 min</td>\n",
       "      <td>Horror Movies, International Movies, Thrillers</td>\n",
       "      <td>As a blind librarian, dispirited cricketer and...</td>\n",
       "    </tr>\n",
       "    <tr>\n",
       "      <th>1653</th>\n",
       "      <td>s1654</td>\n",
       "      <td>Movie</td>\n",
       "      <td>Andhakaaram</td>\n",
       "      <td>V Vignarajan</td>\n",
       "      <td>Vinoth Kishan, Arjun Das, Pooja Ramachandran, ...</td>\n",
       "      <td>India</td>\n",
       "      <td>November 24, 2020</td>\n",
       "      <td>2020</td>\n",
       "      <td>TV-14</td>\n",
       "      <td>171 min</td>\n",
       "      <td>Horror Movies, International Movies, Thrillers</td>\n",
       "      <td>As a blind librarian, dispirited cricketer and...</td>\n",
       "    </tr>\n",
       "    <tr>\n",
       "      <th>3996</th>\n",
       "      <td>s3997</td>\n",
       "      <td>TV Show</td>\n",
       "      <td>February 9</td>\n",
       "      <td>NaN</td>\n",
       "      <td>Shahd El Yaseen, Shaila Sabt, Hala, Hanadi Al-...</td>\n",
       "      <td>NaN</td>\n",
       "      <td>March 20, 2019</td>\n",
       "      <td>2018</td>\n",
       "      <td>TV-14</td>\n",
       "      <td>1 Season</td>\n",
       "      <td>International TV Shows, TV Dramas</td>\n",
       "      <td>As a psychology professor faces Alzheimer's, h...</td>\n",
       "    </tr>\n",
       "    <tr>\n",
       "      <th>5964</th>\n",
       "      <td>s5965</td>\n",
       "      <td>TV Show</td>\n",
       "      <td>Feb-09</td>\n",
       "      <td>NaN</td>\n",
       "      <td>Shahd El Yaseen, Shaila Sabt, Hala, Hanadi Al-...</td>\n",
       "      <td>NaN</td>\n",
       "      <td>March 20, 2019</td>\n",
       "      <td>2018</td>\n",
       "      <td>TV-14</td>\n",
       "      <td>1 Season</td>\n",
       "      <td>International TV Shows, TV Dramas</td>\n",
       "      <td>As a psychology professor faces Alzheimer's, h...</td>\n",
       "    </tr>\n",
       "    <tr>\n",
       "      <th>3569</th>\n",
       "      <td>s3570</td>\n",
       "      <td>Movie</td>\n",
       "      <td>Game Over (Tamil Version)</td>\n",
       "      <td>Ashwin Saravanan</td>\n",
       "      <td>Taapsee Pannu, Vinodhini, Parvathi T, Ramya Su...</td>\n",
       "      <td>India, Turkey</td>\n",
       "      <td>August 21, 2019</td>\n",
       "      <td>2019</td>\n",
       "      <td>TV-MA</td>\n",
       "      <td>98 min</td>\n",
       "      <td>Horror Movies, International Movies, Thrillers</td>\n",
       "      <td>As a series of murders hit close to home, a vi...</td>\n",
       "    </tr>\n",
       "    <tr>\n",
       "      <th>3568</th>\n",
       "      <td>s3569</td>\n",
       "      <td>Movie</td>\n",
       "      <td>Game Over (Hindi Version)</td>\n",
       "      <td>Ashwin Saravanan</td>\n",
       "      <td>Taapsee Pannu, Vinodhini, Parvathi T, Ramya Su...</td>\n",
       "      <td>NaN</td>\n",
       "      <td>August 21, 2019</td>\n",
       "      <td>2019</td>\n",
       "      <td>TV-MA</td>\n",
       "      <td>98 min</td>\n",
       "      <td>Horror Movies, International Movies, Thrillers</td>\n",
       "      <td>As a series of murders hit close to home, a vi...</td>\n",
       "    </tr>\n",
       "    <tr>\n",
       "      <th>1986</th>\n",
       "      <td>s1987</td>\n",
       "      <td>Movie</td>\n",
       "      <td>Nee Enge En Anbe</td>\n",
       "      <td>Sekhar Kammula</td>\n",
       "      <td>Nayantara, Vaibhav Reddy, Pasupathy, Harshvard...</td>\n",
       "      <td>NaN</td>\n",
       "      <td>September 17, 2020</td>\n",
       "      <td>2014</td>\n",
       "      <td>TV-14</td>\n",
       "      <td>137 min</td>\n",
       "      <td>International Movies, Thrillers</td>\n",
       "      <td>As a woman scours Hyderabad for her missing hu...</td>\n",
       "    </tr>\n",
       "    <tr>\n",
       "      <th>1982</th>\n",
       "      <td>s1983</td>\n",
       "      <td>Movie</td>\n",
       "      <td>Anaamika</td>\n",
       "      <td>Sekhar Kammula</td>\n",
       "      <td>Nayantara, Vaibhav Reddy, Pasupathy, Harshvard...</td>\n",
       "      <td>India</td>\n",
       "      <td>September 17, 2020</td>\n",
       "      <td>2014</td>\n",
       "      <td>TV-14</td>\n",
       "      <td>130 min</td>\n",
       "      <td>International Movies, Thrillers</td>\n",
       "      <td>As a woman scours Hyderabad for her missing hu...</td>\n",
       "    </tr>\n",
       "    <tr>\n",
       "      <th>1270</th>\n",
       "      <td>s1271</td>\n",
       "      <td>TV Show</td>\n",
       "      <td>Sin senos sí hay paraíso</td>\n",
       "      <td>NaN</td>\n",
       "      <td>Catherine Siachoque, Fabián Ríos, Carolina Gai...</td>\n",
       "      <td>United States, Colombia</td>\n",
       "      <td>February 25, 2021</td>\n",
       "      <td>2018</td>\n",
       "      <td>TV-MA</td>\n",
       "      <td>3 Seasons</td>\n",
       "      <td>International TV Shows, Spanish-Language TV Sh...</td>\n",
       "      <td>Born into a small town controlled by the mafia...</td>\n",
       "    </tr>\n",
       "    <tr>\n",
       "      <th>8022</th>\n",
       "      <td>s8023</td>\n",
       "      <td>TV Show</td>\n",
       "      <td>Sin Senos sí Hay Paraíso</td>\n",
       "      <td>NaN</td>\n",
       "      <td>Majida Issa, Fabián Ríos, Catherine Siachoque,...</td>\n",
       "      <td>United States, Colombia</td>\n",
       "      <td>January 11, 2019</td>\n",
       "      <td>2018</td>\n",
       "      <td>TV-MA</td>\n",
       "      <td>3 Seasons</td>\n",
       "      <td>International TV Shows, Spanish-Language TV Sh...</td>\n",
       "      <td>Born into a small town controlled by the mafia...</td>\n",
       "    </tr>\n",
       "    <tr>\n",
       "      <th>852</th>\n",
       "      <td>s853</td>\n",
       "      <td>Movie</td>\n",
       "      <td>99 Songs (Telugu)</td>\n",
       "      <td>NaN</td>\n",
       "      <td>NaN</td>\n",
       "      <td>NaN</td>\n",
       "      <td>May 21, 2021</td>\n",
       "      <td>2021</td>\n",
       "      <td>TV-14</td>\n",
       "      <td>131 min</td>\n",
       "      <td>Dramas, International Movies, Music &amp; Musicals</td>\n",
       "      <td>Challenged to compose 100 songs before he can ...</td>\n",
       "    </tr>\n",
       "    <tr>\n",
       "      <th>851</th>\n",
       "      <td>s852</td>\n",
       "      <td>Movie</td>\n",
       "      <td>99 Songs (Tamil)</td>\n",
       "      <td>NaN</td>\n",
       "      <td>NaN</td>\n",
       "      <td>NaN</td>\n",
       "      <td>May 21, 2021</td>\n",
       "      <td>2021</td>\n",
       "      <td>TV-14</td>\n",
       "      <td>131 min</td>\n",
       "      <td>Dramas, International Movies, Music &amp; Musicals</td>\n",
       "      <td>Challenged to compose 100 songs before he can ...</td>\n",
       "    </tr>\n",
       "    <tr>\n",
       "      <th>850</th>\n",
       "      <td>s851</td>\n",
       "      <td>Movie</td>\n",
       "      <td>99 Songs</td>\n",
       "      <td>Vishwesh Krishnamoorthy</td>\n",
       "      <td>Ehan Bhat, Edilsy Vargas, Manisha Koirala, Lis...</td>\n",
       "      <td>India</td>\n",
       "      <td>May 21, 2021</td>\n",
       "      <td>2021</td>\n",
       "      <td>TV-14</td>\n",
       "      <td>131 min</td>\n",
       "      <td>Dramas, International Movies, Music &amp; Musicals</td>\n",
       "      <td>Challenged to compose 100 songs before he can ...</td>\n",
       "    </tr>\n",
       "    <tr>\n",
       "      <th>303</th>\n",
       "      <td>s304</td>\n",
       "      <td>Movie</td>\n",
       "      <td>Esperando la carroza</td>\n",
       "      <td>Alejandro Doria</td>\n",
       "      <td>Luis Brandoni, China Zorrilla, Antonio Gasalla...</td>\n",
       "      <td>Argentina</td>\n",
       "      <td>August 5, 2021</td>\n",
       "      <td>1985</td>\n",
       "      <td>TV-MA</td>\n",
       "      <td>95 min</td>\n",
       "      <td>Comedies, Cult Movies, International Movies</td>\n",
       "      <td>Cora has three sons and a daughter and she´s a...</td>\n",
       "    </tr>\n",
       "    <tr>\n",
       "      <th>6705</th>\n",
       "      <td>s6706</td>\n",
       "      <td>Movie</td>\n",
       "      <td>Esperando La Carroza</td>\n",
       "      <td>Alejandro Doria</td>\n",
       "      <td>Luis Brandoni, China Zorrilla, Antonio Gasalla...</td>\n",
       "      <td>Argentina</td>\n",
       "      <td>July 15, 2018</td>\n",
       "      <td>1985</td>\n",
       "      <td>NR</td>\n",
       "      <td>95 min</td>\n",
       "      <td>Comedies, Cult Movies, International Movies</td>\n",
       "      <td>Cora has three sons and a daughter and she´s a...</td>\n",
       "    </tr>\n",
       "    <tr>\n",
       "      <th>8173</th>\n",
       "      <td>s8174</td>\n",
       "      <td>TV Show</td>\n",
       "      <td>Thackeray</td>\n",
       "      <td>NaN</td>\n",
       "      <td>NaN</td>\n",
       "      <td>India</td>\n",
       "      <td>May 25, 2019</td>\n",
       "      <td>2019</td>\n",
       "      <td>TV-MA</td>\n",
       "      <td>1 Season</td>\n",
       "      <td>TV Shows</td>\n",
       "      <td>From controversial cartoonist to powerful Mumb...</td>\n",
       "    </tr>\n",
       "    <tr>\n",
       "      <th>2336</th>\n",
       "      <td>s2337</td>\n",
       "      <td>Movie</td>\n",
       "      <td>Thackeray (Hindi)</td>\n",
       "      <td>Abhijit Panse</td>\n",
       "      <td>Nawazuddin Siddiqui, Amrita Rao, Rajeev Panday...</td>\n",
       "      <td>India</td>\n",
       "      <td>June 26, 2020</td>\n",
       "      <td>2019</td>\n",
       "      <td>TV-14</td>\n",
       "      <td>135 min</td>\n",
       "      <td>Dramas, International Movies</td>\n",
       "      <td>From controversial cartoonist to powerful Mumb...</td>\n",
       "    </tr>\n",
       "    <tr>\n",
       "      <th>7559</th>\n",
       "      <td>s7560</td>\n",
       "      <td>Movie</td>\n",
       "      <td>Naruto Shippuden : Blood Prison</td>\n",
       "      <td>Masahiko Murata</td>\n",
       "      <td>Junko Takeuchi, Chie Nakamura, Rikiya Koyama, ...</td>\n",
       "      <td>Japan</td>\n",
       "      <td>September 1, 2017</td>\n",
       "      <td>2011</td>\n",
       "      <td>TV-14</td>\n",
       "      <td>102 min</td>\n",
       "      <td>Action &amp; Adventure, Anime Features, Internatio...</td>\n",
       "      <td>Mistakenly accused of an attack on the Fourth ...</td>\n",
       "    </tr>\n",
       "    <tr>\n",
       "      <th>56</th>\n",
       "      <td>s57</td>\n",
       "      <td>Movie</td>\n",
       "      <td>Naruto Shippuden the Movie: Blood Prison</td>\n",
       "      <td>Masahiko Murata</td>\n",
       "      <td>Junko Takeuchi, Chie Nakamura, Rikiya Koyama, ...</td>\n",
       "      <td>Japan</td>\n",
       "      <td>September 15, 2021</td>\n",
       "      <td>2011</td>\n",
       "      <td>TV-14</td>\n",
       "      <td>102 min</td>\n",
       "      <td>Action &amp; Adventure, Anime Features, Internatio...</td>\n",
       "      <td>Mistakenly accused of an attack on the Fourth ...</td>\n",
       "    </tr>\n",
       "    <tr>\n",
       "      <th>2335</th>\n",
       "      <td>s2336</td>\n",
       "      <td>Movie</td>\n",
       "      <td>Seven (Telugu)</td>\n",
       "      <td>NaN</td>\n",
       "      <td>NaN</td>\n",
       "      <td>NaN</td>\n",
       "      <td>June 26, 2020</td>\n",
       "      <td>2019</td>\n",
       "      <td>TV-14</td>\n",
       "      <td>116 min</td>\n",
       "      <td>Dramas, International Movies, Romantic Movies</td>\n",
       "      <td>Multiple women report their husbands as missin...</td>\n",
       "    </tr>\n",
       "    <tr>\n",
       "      <th>2334</th>\n",
       "      <td>s2335</td>\n",
       "      <td>Movie</td>\n",
       "      <td>Seven (Tamil)</td>\n",
       "      <td>NaN</td>\n",
       "      <td>NaN</td>\n",
       "      <td>India</td>\n",
       "      <td>June 26, 2020</td>\n",
       "      <td>2019</td>\n",
       "      <td>TV-MA</td>\n",
       "      <td>111 min</td>\n",
       "      <td>Dramas, International Movies, Romantic Movies</td>\n",
       "      <td>Multiple women report their husbands as missin...</td>\n",
       "    </tr>\n",
       "    <tr>\n",
       "      <th>6024</th>\n",
       "      <td>s6025</td>\n",
       "      <td>TV Show</td>\n",
       "      <td>7 (Seven)</td>\n",
       "      <td>Nizar Shafi</td>\n",
       "      <td>Rahman, Havish, Regina Cassandra, Nandita Swet...</td>\n",
       "      <td>India</td>\n",
       "      <td>July 30, 2019</td>\n",
       "      <td>2019</td>\n",
       "      <td>TV-14</td>\n",
       "      <td>1 Season</td>\n",
       "      <td>TV Shows</td>\n",
       "      <td>Multiple women report their husbands as missin...</td>\n",
       "    </tr>\n",
       "    <tr>\n",
       "      <th>5966</th>\n",
       "      <td>s5967</td>\n",
       "      <td>Movie</td>\n",
       "      <td>15-Aug</td>\n",
       "      <td>Swapnaneel Jayakar</td>\n",
       "      <td>Rahul Pethe, Mrunmayee Deshpande, Adinath Koth...</td>\n",
       "      <td>India</td>\n",
       "      <td>March 29, 2019</td>\n",
       "      <td>2019</td>\n",
       "      <td>TV-14</td>\n",
       "      <td>124 min</td>\n",
       "      <td>Comedies, Dramas, Independent Movies</td>\n",
       "      <td>On India's Independence Day, a zany mishap in ...</td>\n",
       "    </tr>\n",
       "    <tr>\n",
       "      <th>3962</th>\n",
       "      <td>s3963</td>\n",
       "      <td>Movie</td>\n",
       "      <td>15 August</td>\n",
       "      <td>Swapnaneel Jayakar</td>\n",
       "      <td>Rahul Pethe, Mrunmayee Deshpande, Adinath Koth...</td>\n",
       "      <td>India</td>\n",
       "      <td>March 29, 2019</td>\n",
       "      <td>2019</td>\n",
       "      <td>TV-14</td>\n",
       "      <td>124 min</td>\n",
       "      <td>Comedies, Dramas, Independent Movies</td>\n",
       "      <td>On India's Independence Day, a zany mishap in ...</td>\n",
       "    </tr>\n",
       "    <tr>\n",
       "      <th>236</th>\n",
       "      <td>s237</td>\n",
       "      <td>Movie</td>\n",
       "      <td>Boomika</td>\n",
       "      <td>Rathindran R Prasad</td>\n",
       "      <td>Aishwarya Rajesh, Vidhu, Surya Ganapathy, Madh...</td>\n",
       "      <td>NaN</td>\n",
       "      <td>August 23, 2021</td>\n",
       "      <td>2021</td>\n",
       "      <td>TV-14</td>\n",
       "      <td>122 min</td>\n",
       "      <td>Horror Movies, International Movies, Thrillers</td>\n",
       "      <td>Paranormal activity at a lush, abandoned prope...</td>\n",
       "    </tr>\n",
       "    <tr>\n",
       "      <th>239</th>\n",
       "      <td>s240</td>\n",
       "      <td>Movie</td>\n",
       "      <td>Boomika (Telugu)</td>\n",
       "      <td>Rathindran R Prasad</td>\n",
       "      <td>Aishwarya Rajesh, Vidhu, Surya Ganapathy, Madh...</td>\n",
       "      <td>NaN</td>\n",
       "      <td>August 23, 2021</td>\n",
       "      <td>2021</td>\n",
       "      <td>TV-14</td>\n",
       "      <td>122 min</td>\n",
       "      <td>Horror Movies, International Movies, Thrillers</td>\n",
       "      <td>Paranormal activity at a lush, abandoned prope...</td>\n",
       "    </tr>\n",
       "    <tr>\n",
       "      <th>238</th>\n",
       "      <td>s239</td>\n",
       "      <td>Movie</td>\n",
       "      <td>Boomika (Malayalam)</td>\n",
       "      <td>Rathindran R Prasad</td>\n",
       "      <td>Aishwarya Rajesh, Vidhu, Surya Ganapathy, Madh...</td>\n",
       "      <td>NaN</td>\n",
       "      <td>August 23, 2021</td>\n",
       "      <td>2021</td>\n",
       "      <td>TV-14</td>\n",
       "      <td>122 min</td>\n",
       "      <td>Horror Movies, International Movies, Thrillers</td>\n",
       "      <td>Paranormal activity at a lush, abandoned prope...</td>\n",
       "    </tr>\n",
       "    <tr>\n",
       "      <th>237</th>\n",
       "      <td>s238</td>\n",
       "      <td>Movie</td>\n",
       "      <td>Boomika (Hindi)</td>\n",
       "      <td>Rathindran R Prasad</td>\n",
       "      <td>Aishwarya Rajesh, Vidhu, Surya Ganapathy, Madh...</td>\n",
       "      <td>NaN</td>\n",
       "      <td>August 23, 2021</td>\n",
       "      <td>2021</td>\n",
       "      <td>TV-14</td>\n",
       "      <td>122 min</td>\n",
       "      <td>Horror Movies, International Movies, Thrillers</td>\n",
       "      <td>Paranormal activity at a lush, abandoned prope...</td>\n",
       "    </tr>\n",
       "    <tr>\n",
       "      <th>6529</th>\n",
       "      <td>s6530</td>\n",
       "      <td>Movie</td>\n",
       "      <td>Consequences</td>\n",
       "      <td>Ozan Açıktan</td>\n",
       "      <td>Nehir Erdoğan, Tardu Flordun, İlker Kaleli, Se...</td>\n",
       "      <td>Turkey</td>\n",
       "      <td>October 25, 2019</td>\n",
       "      <td>2014</td>\n",
       "      <td>TV-MA</td>\n",
       "      <td>106 min</td>\n",
       "      <td>Dramas, International Movies, Thrillers</td>\n",
       "      <td>Secrets bubble to the surface after a sensual ...</td>\n",
       "    </tr>\n",
       "    <tr>\n",
       "      <th>3371</th>\n",
       "      <td>s3372</td>\n",
       "      <td>Movie</td>\n",
       "      <td>Consequences</td>\n",
       "      <td>Ozan Açıktan</td>\n",
       "      <td>Nehir Erdoğan, Tardu Flordun, İlker Kaleli, Se...</td>\n",
       "      <td>Turkey</td>\n",
       "      <td>October 25, 2019</td>\n",
       "      <td>2014</td>\n",
       "      <td>TV-MA</td>\n",
       "      <td>106 min</td>\n",
       "      <td>Dramas, International Movies, Thrillers</td>\n",
       "      <td>Secrets bubble to the surface after a sensual ...</td>\n",
       "    </tr>\n",
       "    <tr>\n",
       "      <th>52</th>\n",
       "      <td>s53</td>\n",
       "      <td>Movie</td>\n",
       "      <td>InuYasha the Movie 3: Swords of an Honorable R...</td>\n",
       "      <td>Toshiya Shinohara</td>\n",
       "      <td>Kappei Yamaguchi, Satsuki Yukino, Koji Tsujita...</td>\n",
       "      <td>Japan</td>\n",
       "      <td>September 15, 2021</td>\n",
       "      <td>2003</td>\n",
       "      <td>TV-14</td>\n",
       "      <td>99 min</td>\n",
       "      <td>Action &amp; Adventure, Anime Features, Internatio...</td>\n",
       "      <td>The Great Dog Demon beaqueathed one of the Thr...</td>\n",
       "    </tr>\n",
       "    <tr>\n",
       "      <th>7089</th>\n",
       "      <td>s7090</td>\n",
       "      <td>Movie</td>\n",
       "      <td>Inuyasha the Movie - La spada del dominatore d...</td>\n",
       "      <td>Toshiya Shinohara</td>\n",
       "      <td>Kappei Yamaguchi, Satsuki Yukino, Koji Tsujita...</td>\n",
       "      <td>Japan</td>\n",
       "      <td>September 1, 2017</td>\n",
       "      <td>2003</td>\n",
       "      <td>TV-14</td>\n",
       "      <td>99 min</td>\n",
       "      <td>Action &amp; Adventure, Anime Features, Internatio...</td>\n",
       "      <td>The Great Dog Demon beaqueathed one of the Thr...</td>\n",
       "    </tr>\n",
       "    <tr>\n",
       "      <th>2664</th>\n",
       "      <td>s2665</td>\n",
       "      <td>TV Show</td>\n",
       "      <td>ChuChu TV Nursery Rhymes &amp; Kids Songs (Hindi)</td>\n",
       "      <td>NaN</td>\n",
       "      <td>NaN</td>\n",
       "      <td>India</td>\n",
       "      <td>April 18, 2020</td>\n",
       "      <td>2019</td>\n",
       "      <td>TV-Y</td>\n",
       "      <td>1 Season</td>\n",
       "      <td>Kids' TV</td>\n",
       "      <td>This educational series for tiny tots features...</td>\n",
       "    </tr>\n",
       "    <tr>\n",
       "      <th>3393</th>\n",
       "      <td>s3394</td>\n",
       "      <td>TV Show</td>\n",
       "      <td>ChuChu TV Kids Songs, Learning Videos &amp; Bedtim...</td>\n",
       "      <td>NaN</td>\n",
       "      <td>NaN</td>\n",
       "      <td>NaN</td>\n",
       "      <td>October 18, 2019</td>\n",
       "      <td>2019</td>\n",
       "      <td>TV-Y</td>\n",
       "      <td>1 Season</td>\n",
       "      <td>Kids' TV</td>\n",
       "      <td>This educational series for tiny tots features...</td>\n",
       "    </tr>\n",
       "    <tr>\n",
       "      <th>7649</th>\n",
       "      <td>s7650</td>\n",
       "      <td>TV Show</td>\n",
       "      <td>Ollie &amp; Moon</td>\n",
       "      <td>NaN</td>\n",
       "      <td>Mattea Conforti, Kobi Frumer</td>\n",
       "      <td>France</td>\n",
       "      <td>March 28, 2018</td>\n",
       "      <td>2018</td>\n",
       "      <td>TV-Y</td>\n",
       "      <td>1 Season</td>\n",
       "      <td>Kids' TV</td>\n",
       "      <td>Two quirky cats, Ollie and Moon, and their fri...</td>\n",
       "    </tr>\n",
       "    <tr>\n",
       "      <th>3028</th>\n",
       "      <td>s3029</td>\n",
       "      <td>TV Show</td>\n",
       "      <td>The Ollie &amp; Moon Show</td>\n",
       "      <td>NaN</td>\n",
       "      <td>Mattea Conforti, Kobi Frumer</td>\n",
       "      <td>France</td>\n",
       "      <td>January 14, 2020</td>\n",
       "      <td>2018</td>\n",
       "      <td>TV-Y</td>\n",
       "      <td>1 Season</td>\n",
       "      <td>Kids' TV</td>\n",
       "      <td>Two quirky cats, Ollie and Moon, and their fri...</td>\n",
       "    </tr>\n",
       "    <tr>\n",
       "      <th>8360</th>\n",
       "      <td>s8361</td>\n",
       "      <td>Movie</td>\n",
       "      <td>The Incredibles 2</td>\n",
       "      <td>Brad Bird</td>\n",
       "      <td>Craig T. Nelson, Holly Hunter, Samuel L. Jacks...</td>\n",
       "      <td>United States</td>\n",
       "      <td>January 30, 2019</td>\n",
       "      <td>2018</td>\n",
       "      <td>PG</td>\n",
       "      <td>118 min</td>\n",
       "      <td>Children &amp; Family Movies, Comedies</td>\n",
       "      <td>When Elastigirl gets recruited for a high-prof...</td>\n",
       "    </tr>\n",
       "    <tr>\n",
       "      <th>7067</th>\n",
       "      <td>s7068</td>\n",
       "      <td>Movie</td>\n",
       "      <td>Incredibles 2 (Spanish Version)</td>\n",
       "      <td>Brad Bird</td>\n",
       "      <td>Víctor Trujillo, Consuelo Duval, Darío T. Pie,...</td>\n",
       "      <td>United States</td>\n",
       "      <td>February 8, 2019</td>\n",
       "      <td>2018</td>\n",
       "      <td>PG</td>\n",
       "      <td>118 min</td>\n",
       "      <td>Children &amp; Family Movies, Comedies</td>\n",
       "      <td>When Elastigirl gets recruited for a high-prof...</td>\n",
       "    </tr>\n",
       "    <tr>\n",
       "      <th>6449</th>\n",
       "      <td>s6450</td>\n",
       "      <td>Movie</td>\n",
       "      <td>Chashme Buddoor</td>\n",
       "      <td>David Dhawan</td>\n",
       "      <td>Ali Zafar, Siddharth, Divyendu Sharma, Tapsee ...</td>\n",
       "      <td>India</td>\n",
       "      <td>May 1, 2017</td>\n",
       "      <td>2013</td>\n",
       "      <td>TV-PG</td>\n",
       "      <td>121 min</td>\n",
       "      <td>Comedies, International Movies, Music &amp; Musicals</td>\n",
       "      <td>When pretty new neighbor Seema falls for their...</td>\n",
       "    </tr>\n",
       "    <tr>\n",
       "      <th>2270</th>\n",
       "      <td>s2271</td>\n",
       "      <td>Movie</td>\n",
       "      <td>Chashme Baddoor</td>\n",
       "      <td>David Dhawan</td>\n",
       "      <td>Rishi Kapoor, Ali Zafar, Taapsee Pannu, Siddha...</td>\n",
       "      <td>India</td>\n",
       "      <td>July 5, 2020</td>\n",
       "      <td>2013</td>\n",
       "      <td>TV-14</td>\n",
       "      <td>121 min</td>\n",
       "      <td>Comedies, International Movies, Music &amp; Musicals</td>\n",
       "      <td>When pretty new neighbor Seema falls for their...</td>\n",
       "    </tr>\n",
       "    <tr>\n",
       "      <th>7090</th>\n",
       "      <td>s7091</td>\n",
       "      <td>Movie</td>\n",
       "      <td>InuYasha: The Movie 2: The Castle Beyond the L...</td>\n",
       "      <td>Toshiya Shinohara</td>\n",
       "      <td>Kappei Yamaguchi, Satsuki Yukino, Koji Tsujita...</td>\n",
       "      <td>Japan</td>\n",
       "      <td>September 1, 2017</td>\n",
       "      <td>2002</td>\n",
       "      <td>TV-14</td>\n",
       "      <td>99 min</td>\n",
       "      <td>Action &amp; Adventure, Anime Features, Internatio...</td>\n",
       "      <td>With their biggest foe seemingly defeated, Inu...</td>\n",
       "    </tr>\n",
       "    <tr>\n",
       "      <th>51</th>\n",
       "      <td>s52</td>\n",
       "      <td>Movie</td>\n",
       "      <td>InuYasha the Movie 2: The Castle Beyond the Lo...</td>\n",
       "      <td>Toshiya Shinohara</td>\n",
       "      <td>Kappei Yamaguchi, Satsuki Yukino, Mieko Harada...</td>\n",
       "      <td>Japan</td>\n",
       "      <td>September 15, 2021</td>\n",
       "      <td>2002</td>\n",
       "      <td>TV-14</td>\n",
       "      <td>99 min</td>\n",
       "      <td>Action &amp; Adventure, Anime Features, Internatio...</td>\n",
       "      <td>With their biggest foe seemingly defeated, Inu...</td>\n",
       "    </tr>\n",
       "  </tbody>\n",
       "</table>\n",
       "</div>"
      ],
      "text/plain": [
       "     show_id     type                                              title  \\\n",
       "78       s79    Movie                                     Tughlaq Durbar   \n",
       "79       s80    Movie                            Tughlaq Durbar (Telugu)   \n",
       "7022   s7023    Movie                               Hum Saath-Saath Hain   \n",
       "2969   s2970    Movie                              Together For Eternity   \n",
       "3492   s3493    Movie                               Oh! Baby (Malayalam)   \n",
       "3516   s3517    Movie                                           Oh! Baby   \n",
       "3493   s3494    Movie                                   Oh! Baby (Tamil)   \n",
       "8051   s8052    Movie                            Solo: A Star Wars Story   \n",
       "8052   s8053    Movie          Solo: A Star Wars Story (Spanish Version)   \n",
       "5965   s5966    Movie                                             22-Jul   \n",
       "4522   s4523    Movie                                            22 July   \n",
       "2840   s2841    Movie                   Angu Vaikuntapurathu (Malayalam)   \n",
       "2873   s2874    Movie                            Ala Vaikunthapurramuloo   \n",
       "3933   s3934    Movie                             Petta (Telugu Version)   \n",
       "3939   s3940    Movie                                              Petta   \n",
       "3932   s3933    Movie               Sarvam Thaala Mayam (Telugu Version)   \n",
       "4061   s4062    Movie                Sarvam Thaala Mayam (Tamil Version)   \n",
       "1652   s1653    Movie                                       Andhaghaaram   \n",
       "1653   s1654    Movie                                        Andhakaaram   \n",
       "3996   s3997  TV Show                                         February 9   \n",
       "5964   s5965  TV Show                                             Feb-09   \n",
       "3569   s3570    Movie                          Game Over (Tamil Version)   \n",
       "3568   s3569    Movie                          Game Over (Hindi Version)   \n",
       "1986   s1987    Movie                                   Nee Enge En Anbe   \n",
       "1982   s1983    Movie                                           Anaamika   \n",
       "1270   s1271  TV Show                           Sin senos sí hay paraíso   \n",
       "8022   s8023  TV Show                           Sin Senos sí Hay Paraíso   \n",
       "852     s853    Movie                                  99 Songs (Telugu)   \n",
       "851     s852    Movie                                   99 Songs (Tamil)   \n",
       "850     s851    Movie                                           99 Songs   \n",
       "303     s304    Movie                               Esperando la carroza   \n",
       "6705   s6706    Movie                               Esperando La Carroza   \n",
       "8173   s8174  TV Show                                          Thackeray   \n",
       "2336   s2337    Movie                                  Thackeray (Hindi)   \n",
       "7559   s7560    Movie                    Naruto Shippuden : Blood Prison   \n",
       "56       s57    Movie           Naruto Shippuden the Movie: Blood Prison   \n",
       "2335   s2336    Movie                                     Seven (Telugu)   \n",
       "2334   s2335    Movie                                      Seven (Tamil)   \n",
       "6024   s6025  TV Show                                          7 (Seven)   \n",
       "5966   s5967    Movie                                             15-Aug   \n",
       "3962   s3963    Movie                                          15 August   \n",
       "236     s237    Movie                                            Boomika   \n",
       "239     s240    Movie                                   Boomika (Telugu)   \n",
       "238     s239    Movie                                Boomika (Malayalam)   \n",
       "237     s238    Movie                                    Boomika (Hindi)   \n",
       "6529   s6530    Movie                                      Consequences    \n",
       "3371   s3372    Movie                                       Consequences   \n",
       "52       s53    Movie  InuYasha the Movie 3: Swords of an Honorable R...   \n",
       "7089   s7090    Movie  Inuyasha the Movie - La spada del dominatore d...   \n",
       "2664   s2665  TV Show      ChuChu TV Nursery Rhymes & Kids Songs (Hindi)   \n",
       "3393   s3394  TV Show  ChuChu TV Kids Songs, Learning Videos & Bedtim...   \n",
       "7649   s7650  TV Show                                       Ollie & Moon   \n",
       "3028   s3029  TV Show                              The Ollie & Moon Show   \n",
       "8360   s8361    Movie                                  The Incredibles 2   \n",
       "7067   s7068    Movie                    Incredibles 2 (Spanish Version)   \n",
       "6449   s6450    Movie                                    Chashme Buddoor   \n",
       "2270   s2271    Movie                                    Chashme Baddoor   \n",
       "7090   s7091    Movie  InuYasha: The Movie 2: The Castle Beyond the L...   \n",
       "51       s52    Movie  InuYasha the Movie 2: The Castle Beyond the Lo...   \n",
       "\n",
       "                      director  \\\n",
       "78    Delhiprasad Deenadayalan   \n",
       "79    Delhiprasad Deenadayalan   \n",
       "7022        Sooraj R. Barjatya   \n",
       "2969        Sooraj R. Barjatya   \n",
       "3492       B. V. Nandini Reddy   \n",
       "3516       B. V. Nandini Reddy   \n",
       "3493       B. V. Nandini Reddy   \n",
       "8051                Ron Howard   \n",
       "8052                Ron Howard   \n",
       "5965           Paul Greengrass   \n",
       "4522           Paul Greengrass   \n",
       "2840        Trivikram Srinivas   \n",
       "2873        Trivikram Srinivas   \n",
       "3933          Karthik Subbaraj   \n",
       "3939          Karthik Subbaraj   \n",
       "3932               Rajiv Menon   \n",
       "4061               Rajiv Menon   \n",
       "1652              V Vignarajan   \n",
       "1653              V Vignarajan   \n",
       "3996                       NaN   \n",
       "5964                       NaN   \n",
       "3569          Ashwin Saravanan   \n",
       "3568          Ashwin Saravanan   \n",
       "1986            Sekhar Kammula   \n",
       "1982            Sekhar Kammula   \n",
       "1270                       NaN   \n",
       "8022                       NaN   \n",
       "852                        NaN   \n",
       "851                        NaN   \n",
       "850    Vishwesh Krishnamoorthy   \n",
       "303            Alejandro Doria   \n",
       "6705           Alejandro Doria   \n",
       "8173                       NaN   \n",
       "2336             Abhijit Panse   \n",
       "7559           Masahiko Murata   \n",
       "56             Masahiko Murata   \n",
       "2335                       NaN   \n",
       "2334                       NaN   \n",
       "6024               Nizar Shafi   \n",
       "5966        Swapnaneel Jayakar   \n",
       "3962        Swapnaneel Jayakar   \n",
       "236        Rathindran R Prasad   \n",
       "239        Rathindran R Prasad   \n",
       "238        Rathindran R Prasad   \n",
       "237        Rathindran R Prasad   \n",
       "6529              Ozan Açıktan   \n",
       "3371              Ozan Açıktan   \n",
       "52           Toshiya Shinohara   \n",
       "7089         Toshiya Shinohara   \n",
       "2664                       NaN   \n",
       "3393                       NaN   \n",
       "7649                       NaN   \n",
       "3028                       NaN   \n",
       "8360                 Brad Bird   \n",
       "7067                 Brad Bird   \n",
       "6449              David Dhawan   \n",
       "2270              David Dhawan   \n",
       "7090         Toshiya Shinohara   \n",
       "51           Toshiya Shinohara   \n",
       "\n",
       "                                                   cast  \\\n",
       "78           Vijay Sethupathi, Parthiban, Raashi Khanna   \n",
       "79           Vijay Sethupathi, Parthiban, Raashi Khanna   \n",
       "7022  Salman Khan, Karisma Kapoor, Saif Ali Khan, Ta...   \n",
       "2969  Salman Khan, Karisma Kapoor, Saif Ali Khan, Ta...   \n",
       "3492  Samantha Ruth Prabhu, Lakshmi, Rajendraprasad,...   \n",
       "3516  Samantha Ruth Prabhu, Lakshmi, Rajendraprasad,...   \n",
       "3493  Samantha Ruth Prabhu, Lakshmi, Rajendraprasad,...   \n",
       "8051  Alden Ehrenreich, Woody Harrelson, Emilia Clar...   \n",
       "8052  Alden Ehrenreich, Woody Harrelson, Emilia Clar...   \n",
       "5965  Anders Danielsen Lie, Jon Øigarden, Jonas Stra...   \n",
       "4522  Anders Danielsen Lie, Jon Øigarden, Jonas Stra...   \n",
       "2840  Allu Arjun, Pooja Hegde, Tabu, Sushanth, Nivet...   \n",
       "2873  Allu Arjun, Pooja Hegde, Tabu, Sushanth, Nivet...   \n",
       "3933  Rajnikanth, Vijay Sethupathi, M. Sasikumar, Na...   \n",
       "3939  Rajnikanth, Vijay Sethupathi, M. Sasikumar, Na...   \n",
       "3932  G.V. Prakash Kumar, Nedumudi Venu, Aparna Bala...   \n",
       "4061  G.V. Prakash Kumar, Nedumudi Venu, Aparna Bala...   \n",
       "1652  Vinoth Kishan, Arjun Das, Pooja Ramachandran, ...   \n",
       "1653  Vinoth Kishan, Arjun Das, Pooja Ramachandran, ...   \n",
       "3996  Shahd El Yaseen, Shaila Sabt, Hala, Hanadi Al-...   \n",
       "5964  Shahd El Yaseen, Shaila Sabt, Hala, Hanadi Al-...   \n",
       "3569  Taapsee Pannu, Vinodhini, Parvathi T, Ramya Su...   \n",
       "3568  Taapsee Pannu, Vinodhini, Parvathi T, Ramya Su...   \n",
       "1986  Nayantara, Vaibhav Reddy, Pasupathy, Harshvard...   \n",
       "1982  Nayantara, Vaibhav Reddy, Pasupathy, Harshvard...   \n",
       "1270  Catherine Siachoque, Fabián Ríos, Carolina Gai...   \n",
       "8022  Majida Issa, Fabián Ríos, Catherine Siachoque,...   \n",
       "852                                                 NaN   \n",
       "851                                                 NaN   \n",
       "850   Ehan Bhat, Edilsy Vargas, Manisha Koirala, Lis...   \n",
       "303   Luis Brandoni, China Zorrilla, Antonio Gasalla...   \n",
       "6705  Luis Brandoni, China Zorrilla, Antonio Gasalla...   \n",
       "8173                                                NaN   \n",
       "2336  Nawazuddin Siddiqui, Amrita Rao, Rajeev Panday...   \n",
       "7559  Junko Takeuchi, Chie Nakamura, Rikiya Koyama, ...   \n",
       "56    Junko Takeuchi, Chie Nakamura, Rikiya Koyama, ...   \n",
       "2335                                                NaN   \n",
       "2334                                                NaN   \n",
       "6024  Rahman, Havish, Regina Cassandra, Nandita Swet...   \n",
       "5966  Rahul Pethe, Mrunmayee Deshpande, Adinath Koth...   \n",
       "3962  Rahul Pethe, Mrunmayee Deshpande, Adinath Koth...   \n",
       "236   Aishwarya Rajesh, Vidhu, Surya Ganapathy, Madh...   \n",
       "239   Aishwarya Rajesh, Vidhu, Surya Ganapathy, Madh...   \n",
       "238   Aishwarya Rajesh, Vidhu, Surya Ganapathy, Madh...   \n",
       "237   Aishwarya Rajesh, Vidhu, Surya Ganapathy, Madh...   \n",
       "6529  Nehir Erdoğan, Tardu Flordun, İlker Kaleli, Se...   \n",
       "3371  Nehir Erdoğan, Tardu Flordun, İlker Kaleli, Se...   \n",
       "52    Kappei Yamaguchi, Satsuki Yukino, Koji Tsujita...   \n",
       "7089  Kappei Yamaguchi, Satsuki Yukino, Koji Tsujita...   \n",
       "2664                                                NaN   \n",
       "3393                                                NaN   \n",
       "7649                       Mattea Conforti, Kobi Frumer   \n",
       "3028                       Mattea Conforti, Kobi Frumer   \n",
       "8360  Craig T. Nelson, Holly Hunter, Samuel L. Jacks...   \n",
       "7067  Víctor Trujillo, Consuelo Duval, Darío T. Pie,...   \n",
       "6449  Ali Zafar, Siddharth, Divyendu Sharma, Tapsee ...   \n",
       "2270  Rishi Kapoor, Ali Zafar, Taapsee Pannu, Siddha...   \n",
       "7090  Kappei Yamaguchi, Satsuki Yukino, Koji Tsujita...   \n",
       "51    Kappei Yamaguchi, Satsuki Yukino, Mieko Harada...   \n",
       "\n",
       "                             country          date_added  release_year rating  \\\n",
       "78                               NaN  September 11, 2021          2020  TV-14   \n",
       "79                               NaN  September 11, 2021          2021  TV-14   \n",
       "7022                           India     January 1, 2018          1999   TV-G   \n",
       "2969                           India    February 1, 2020          1999   TV-G   \n",
       "3492                             NaN  September 25, 2019          2019  TV-14   \n",
       "3516                           India  September 14, 2019          2019  TV-14   \n",
       "3493                             NaN  September 25, 2019          2019  TV-14   \n",
       "8051                   United States     January 9, 2019          2018  PG-13   \n",
       "8052                   United States     January 9, 2019          2018  PG-13   \n",
       "5965  Norway, Iceland, United States    October 10, 2018          2018      R   \n",
       "4522  Norway, Iceland, United States    October 10, 2018          2018      R   \n",
       "2840                             NaN       March 5, 2020          2020  TV-14   \n",
       "2873                           India   February 27, 2020          2020  TV-14   \n",
       "3933                             NaN       April 7, 2019          2019  TV-14   \n",
       "3939                           India       April 5, 2019          2019  TV-14   \n",
       "3932                           India       April 8, 2019          2018  TV-14   \n",
       "4061                             NaN       March 1, 2019          2018  TV-14   \n",
       "1652                             NaN   November 24, 2020          2020  TV-14   \n",
       "1653                           India   November 24, 2020          2020  TV-14   \n",
       "3996                             NaN      March 20, 2019          2018  TV-14   \n",
       "5964                             NaN      March 20, 2019          2018  TV-14   \n",
       "3569                   India, Turkey     August 21, 2019          2019  TV-MA   \n",
       "3568                             NaN     August 21, 2019          2019  TV-MA   \n",
       "1986                             NaN  September 17, 2020          2014  TV-14   \n",
       "1982                           India  September 17, 2020          2014  TV-14   \n",
       "1270         United States, Colombia   February 25, 2021          2018  TV-MA   \n",
       "8022         United States, Colombia    January 11, 2019          2018  TV-MA   \n",
       "852                              NaN        May 21, 2021          2021  TV-14   \n",
       "851                              NaN        May 21, 2021          2021  TV-14   \n",
       "850                            India        May 21, 2021          2021  TV-14   \n",
       "303                        Argentina      August 5, 2021          1985  TV-MA   \n",
       "6705                       Argentina       July 15, 2018          1985     NR   \n",
       "8173                           India        May 25, 2019          2019  TV-MA   \n",
       "2336                           India       June 26, 2020          2019  TV-14   \n",
       "7559                           Japan   September 1, 2017          2011  TV-14   \n",
       "56                             Japan  September 15, 2021          2011  TV-14   \n",
       "2335                             NaN       June 26, 2020          2019  TV-14   \n",
       "2334                           India       June 26, 2020          2019  TV-MA   \n",
       "6024                           India       July 30, 2019          2019  TV-14   \n",
       "5966                           India      March 29, 2019          2019  TV-14   \n",
       "3962                           India      March 29, 2019          2019  TV-14   \n",
       "236                              NaN     August 23, 2021          2021  TV-14   \n",
       "239                              NaN     August 23, 2021          2021  TV-14   \n",
       "238                              NaN     August 23, 2021          2021  TV-14   \n",
       "237                              NaN     August 23, 2021          2021  TV-14   \n",
       "6529                          Turkey    October 25, 2019          2014  TV-MA   \n",
       "3371                          Turkey    October 25, 2019          2014  TV-MA   \n",
       "52                             Japan  September 15, 2021          2003  TV-14   \n",
       "7089                           Japan   September 1, 2017          2003  TV-14   \n",
       "2664                           India      April 18, 2020          2019   TV-Y   \n",
       "3393                             NaN    October 18, 2019          2019   TV-Y   \n",
       "7649                          France      March 28, 2018          2018   TV-Y   \n",
       "3028                          France    January 14, 2020          2018   TV-Y   \n",
       "8360                   United States    January 30, 2019          2018     PG   \n",
       "7067                   United States    February 8, 2019          2018     PG   \n",
       "6449                           India         May 1, 2017          2013  TV-PG   \n",
       "2270                           India        July 5, 2020          2013  TV-14   \n",
       "7090                           Japan   September 1, 2017          2002  TV-14   \n",
       "51                             Japan  September 15, 2021          2002  TV-14   \n",
       "\n",
       "       duration                                          listed_in  \\\n",
       "78      145 min             Comedies, Dramas, International Movies   \n",
       "79      145 min             Comedies, Dramas, International Movies   \n",
       "7022    176 min     Dramas, International Movies, Music & Musicals   \n",
       "2969    176 min     Dramas, International Movies, Music & Musicals   \n",
       "3492    146 min   Comedies, International Movies, Music & Musicals   \n",
       "3516    157 min   Comedies, International Movies, Music & Musicals   \n",
       "3493    146 min   Comedies, International Movies, Music & Musicals   \n",
       "8051    135 min  Action & Adventure, Children & Family Movies, ...   \n",
       "8052    135 min  Action & Adventure, Children & Family Movies, ...   \n",
       "5965    144 min                                  Dramas, Thrillers   \n",
       "4522    144 min                                  Dramas, Thrillers   \n",
       "2840    162 min               Action & Adventure, Comedies, Dramas   \n",
       "2873    162 min               Action & Adventure, Comedies, Dramas   \n",
       "3933    170 min               Action & Adventure, Comedies, Dramas   \n",
       "3939    170 min               Action & Adventure, Comedies, Dramas   \n",
       "3932    131 min     Dramas, International Movies, Music & Musicals   \n",
       "4061    131 min     Dramas, International Movies, Music & Musicals   \n",
       "1652    171 min     Horror Movies, International Movies, Thrillers   \n",
       "1653    171 min     Horror Movies, International Movies, Thrillers   \n",
       "3996   1 Season                  International TV Shows, TV Dramas   \n",
       "5964   1 Season                  International TV Shows, TV Dramas   \n",
       "3569     98 min     Horror Movies, International Movies, Thrillers   \n",
       "3568     98 min     Horror Movies, International Movies, Thrillers   \n",
       "1986    137 min                    International Movies, Thrillers   \n",
       "1982    130 min                    International Movies, Thrillers   \n",
       "1270  3 Seasons  International TV Shows, Spanish-Language TV Sh...   \n",
       "8022  3 Seasons  International TV Shows, Spanish-Language TV Sh...   \n",
       "852     131 min     Dramas, International Movies, Music & Musicals   \n",
       "851     131 min     Dramas, International Movies, Music & Musicals   \n",
       "850     131 min     Dramas, International Movies, Music & Musicals   \n",
       "303      95 min        Comedies, Cult Movies, International Movies   \n",
       "6705     95 min        Comedies, Cult Movies, International Movies   \n",
       "8173   1 Season                                           TV Shows   \n",
       "2336    135 min                       Dramas, International Movies   \n",
       "7559    102 min  Action & Adventure, Anime Features, Internatio...   \n",
       "56      102 min  Action & Adventure, Anime Features, Internatio...   \n",
       "2335    116 min      Dramas, International Movies, Romantic Movies   \n",
       "2334    111 min      Dramas, International Movies, Romantic Movies   \n",
       "6024   1 Season                                           TV Shows   \n",
       "5966    124 min               Comedies, Dramas, Independent Movies   \n",
       "3962    124 min               Comedies, Dramas, Independent Movies   \n",
       "236     122 min     Horror Movies, International Movies, Thrillers   \n",
       "239     122 min     Horror Movies, International Movies, Thrillers   \n",
       "238     122 min     Horror Movies, International Movies, Thrillers   \n",
       "237     122 min     Horror Movies, International Movies, Thrillers   \n",
       "6529    106 min            Dramas, International Movies, Thrillers   \n",
       "3371    106 min            Dramas, International Movies, Thrillers   \n",
       "52       99 min  Action & Adventure, Anime Features, Internatio...   \n",
       "7089     99 min  Action & Adventure, Anime Features, Internatio...   \n",
       "2664   1 Season                                           Kids' TV   \n",
       "3393   1 Season                                           Kids' TV   \n",
       "7649   1 Season                                           Kids' TV   \n",
       "3028   1 Season                                           Kids' TV   \n",
       "8360    118 min                 Children & Family Movies, Comedies   \n",
       "7067    118 min                 Children & Family Movies, Comedies   \n",
       "6449    121 min   Comedies, International Movies, Music & Musicals   \n",
       "2270    121 min   Comedies, International Movies, Music & Musicals   \n",
       "7090     99 min  Action & Adventure, Anime Features, Internatio...   \n",
       "51       99 min  Action & Adventure, Anime Features, Internatio...   \n",
       "\n",
       "                                            description  \n",
       "78    A budding politician has devious plans to rise...  \n",
       "79    A budding politician has devious plans to rise...  \n",
       "7022  A scheming matriarch plots to cut off her disa...  \n",
       "2969  A scheming matriarch plots to cut off her disa...  \n",
       "3492  A surly septuagenarian gets another chance at ...  \n",
       "3516  A surly septuagenarian gets another chance at ...  \n",
       "3493  A surly septuagenarian gets another chance at ...  \n",
       "8051  A young Han Solo tries to settle an old score ...  \n",
       "8052  A young Han Solo tries to settle an old score ...  \n",
       "5965  After devastating terror attacks in Norway, a ...  \n",
       "4522  After devastating terror attacks in Norway, a ...  \n",
       "2840  After growing up enduring criticism from his f...  \n",
       "2873  After growing up enduring criticism from his f...  \n",
       "3933  An affable, newly appointed college warden pro...  \n",
       "3939  An affable, newly appointed college warden pro...  \n",
       "3932  An aspiring musician battles age-old caste div...  \n",
       "4061  An aspiring musician battles age-old caste div...  \n",
       "1652  As a blind librarian, dispirited cricketer and...  \n",
       "1653  As a blind librarian, dispirited cricketer and...  \n",
       "3996  As a psychology professor faces Alzheimer's, h...  \n",
       "5964  As a psychology professor faces Alzheimer's, h...  \n",
       "3569  As a series of murders hit close to home, a vi...  \n",
       "3568  As a series of murders hit close to home, a vi...  \n",
       "1986  As a woman scours Hyderabad for her missing hu...  \n",
       "1982  As a woman scours Hyderabad for her missing hu...  \n",
       "1270  Born into a small town controlled by the mafia...  \n",
       "8022  Born into a small town controlled by the mafia...  \n",
       "852   Challenged to compose 100 songs before he can ...  \n",
       "851   Challenged to compose 100 songs before he can ...  \n",
       "850   Challenged to compose 100 songs before he can ...  \n",
       "303   Cora has three sons and a daughter and she´s a...  \n",
       "6705  Cora has three sons and a daughter and she´s a...  \n",
       "8173  From controversial cartoonist to powerful Mumb...  \n",
       "2336  From controversial cartoonist to powerful Mumb...  \n",
       "7559  Mistakenly accused of an attack on the Fourth ...  \n",
       "56    Mistakenly accused of an attack on the Fourth ...  \n",
       "2335  Multiple women report their husbands as missin...  \n",
       "2334  Multiple women report their husbands as missin...  \n",
       "6024  Multiple women report their husbands as missin...  \n",
       "5966  On India's Independence Day, a zany mishap in ...  \n",
       "3962  On India's Independence Day, a zany mishap in ...  \n",
       "236   Paranormal activity at a lush, abandoned prope...  \n",
       "239   Paranormal activity at a lush, abandoned prope...  \n",
       "238   Paranormal activity at a lush, abandoned prope...  \n",
       "237   Paranormal activity at a lush, abandoned prope...  \n",
       "6529  Secrets bubble to the surface after a sensual ...  \n",
       "3371  Secrets bubble to the surface after a sensual ...  \n",
       "52    The Great Dog Demon beaqueathed one of the Thr...  \n",
       "7089  The Great Dog Demon beaqueathed one of the Thr...  \n",
       "2664  This educational series for tiny tots features...  \n",
       "3393  This educational series for tiny tots features...  \n",
       "7649  Two quirky cats, Ollie and Moon, and their fri...  \n",
       "3028  Two quirky cats, Ollie and Moon, and their fri...  \n",
       "8360  When Elastigirl gets recruited for a high-prof...  \n",
       "7067  When Elastigirl gets recruited for a high-prof...  \n",
       "6449  When pretty new neighbor Seema falls for their...  \n",
       "2270  When pretty new neighbor Seema falls for their...  \n",
       "7090  With their biggest foe seemingly defeated, Inu...  \n",
       "51    With their biggest foe seemingly defeated, Inu...  "
      ]
     },
     "execution_count": 10,
     "metadata": {},
     "output_type": "execute_result"
    }
   ],
   "source": [
    "df.loc[df.duplicated('description',keep = False)].sort_values('description')"
   ]
  },
  {
   "cell_type": "markdown",
   "id": "16988f71",
   "metadata": {
    "id": "16988f71"
   },
   "source": [
    "Description column helped to find the repeated Movies/TV Shows or the Movies/TV Shows that were released  in other languages"
   ]
  },
  {
   "cell_type": "markdown",
   "id": "8207ede7",
   "metadata": {
    "id": "4dd799a1"
   },
   "source": [
    "## Unnesting the Columns"
   ]
  },
  {
   "cell_type": "code",
   "execution_count": 11,
   "id": "59e1beca",
   "metadata": {},
   "outputs": [],
   "source": [
    "final_df = df.copy()"
   ]
  },
  {
   "cell_type": "code",
   "execution_count": 12,
   "id": "6a8a5c1b",
   "metadata": {
    "id": "1b5e6519"
   },
   "outputs": [],
   "source": [
    "def remove_spaces(x):\n",
    "    if x != x:\n",
    "        return np.nan\n",
    "    return x.strip()\n",
    "\n",
    "def unnesting (new_df,col):\n",
    "\n",
    "    dataframe =new_df.copy()\n",
    "    dataframe[col] = dataframe[col].str.split(',')\n",
    "    dataframe = dataframe.explode(col)\n",
    "    dataframe[col] = dataframe[col].apply(remove_spaces)\n",
    "    return dataframe"
   ]
  },
  {
   "cell_type": "code",
   "execution_count": 13,
   "id": "0e789532",
   "metadata": {
    "colab": {
     "base_uri": "https://localhost:8080/",
     "height": 0
    },
    "id": "5e23c1a4",
    "outputId": "2bd63d48-2de8-4510-a1e8-a0ea03a8b3b6"
   },
   "outputs": [
    {
     "name": "stdout",
     "output_type": "stream",
     "text": [
      "After splitting cast into muliple rows (64951, 12)\n",
      "After splitting country into muliple rows (81741, 12)\n",
      "After splitting listed_in into muliple rows (186399, 12)\n",
      "After splitting listed_in into muliple rows (202065, 12)\n",
      "CPU times: total: 688 ms\n",
      "Wall time: 880 ms\n"
     ]
    }
   ],
   "source": [
    "%%time\n",
    "final_df = unnesting(df,'cast')\n",
    "print('After splitting cast into muliple rows', final_df.shape)\n",
    "final_df = unnesting(final_df,'country')\n",
    "print('After splitting country into muliple rows', final_df.shape)\n",
    "final_df = unnesting(final_df,'listed_in')\n",
    "print('After splitting listed_in into muliple rows', final_df.shape)\n",
    "final_df = unnesting(final_df,'director')\n",
    "print('After splitting listed_in into muliple rows', final_df.shape)\n",
    "\n",
    "\n",
    "final_df = final_df.reset_index(drop = True)"
   ]
  },
  {
   "cell_type": "markdown",
   "id": "d8d1174d",
   "metadata": {
    "id": "d8d1174d"
   },
   "source": [
    "## Handling Missing Data"
   ]
  },
  {
   "cell_type": "code",
   "execution_count": 14,
   "id": "11f4a3f5",
   "metadata": {
    "colab": {
     "base_uri": "https://localhost:8080/",
     "height": 0
    },
    "id": "11f4a3f5",
    "outputId": "26602050-c913-4a69-de51-11c1bc3194df"
   },
   "outputs": [
    {
     "data": {
      "text/html": [
       "<div>\n",
       "<style scoped>\n",
       "    .dataframe tbody tr th:only-of-type {\n",
       "        vertical-align: middle;\n",
       "    }\n",
       "\n",
       "    .dataframe tbody tr th {\n",
       "        vertical-align: top;\n",
       "    }\n",
       "\n",
       "    .dataframe thead th {\n",
       "        text-align: right;\n",
       "    }\n",
       "</style>\n",
       "<table border=\"1\" class=\"dataframe\">\n",
       "  <thead>\n",
       "    <tr style=\"text-align: right;\">\n",
       "      <th></th>\n",
       "      <th>0</th>\n",
       "      <th>1</th>\n",
       "    </tr>\n",
       "  </thead>\n",
       "  <tbody>\n",
       "    <tr>\n",
       "      <th>show_id</th>\n",
       "      <td>0</td>\n",
       "      <td>0.000000</td>\n",
       "    </tr>\n",
       "    <tr>\n",
       "      <th>type</th>\n",
       "      <td>0</td>\n",
       "      <td>0.000000</td>\n",
       "    </tr>\n",
       "    <tr>\n",
       "      <th>title</th>\n",
       "      <td>0</td>\n",
       "      <td>0.000000</td>\n",
       "    </tr>\n",
       "    <tr>\n",
       "      <th>director</th>\n",
       "      <td>50643</td>\n",
       "      <td>25.062727</td>\n",
       "    </tr>\n",
       "    <tr>\n",
       "      <th>cast</th>\n",
       "      <td>2149</td>\n",
       "      <td>1.063519</td>\n",
       "    </tr>\n",
       "    <tr>\n",
       "      <th>country</th>\n",
       "      <td>11897</td>\n",
       "      <td>5.887709</td>\n",
       "    </tr>\n",
       "    <tr>\n",
       "      <th>date_added</th>\n",
       "      <td>158</td>\n",
       "      <td>0.078193</td>\n",
       "    </tr>\n",
       "    <tr>\n",
       "      <th>release_year</th>\n",
       "      <td>0</td>\n",
       "      <td>0.000000</td>\n",
       "    </tr>\n",
       "    <tr>\n",
       "      <th>rating</th>\n",
       "      <td>67</td>\n",
       "      <td>0.033158</td>\n",
       "    </tr>\n",
       "    <tr>\n",
       "      <th>duration</th>\n",
       "      <td>3</td>\n",
       "      <td>0.001485</td>\n",
       "    </tr>\n",
       "    <tr>\n",
       "      <th>listed_in</th>\n",
       "      <td>0</td>\n",
       "      <td>0.000000</td>\n",
       "    </tr>\n",
       "    <tr>\n",
       "      <th>description</th>\n",
       "      <td>0</td>\n",
       "      <td>0.000000</td>\n",
       "    </tr>\n",
       "  </tbody>\n",
       "</table>\n",
       "</div>"
      ],
      "text/plain": [
       "                  0          1\n",
       "show_id           0   0.000000\n",
       "type              0   0.000000\n",
       "title             0   0.000000\n",
       "director      50643  25.062727\n",
       "cast           2149   1.063519\n",
       "country       11897   5.887709\n",
       "date_added      158   0.078193\n",
       "release_year      0   0.000000\n",
       "rating           67   0.033158\n",
       "duration          3   0.001485\n",
       "listed_in         0   0.000000\n",
       "description       0   0.000000"
      ]
     },
     "execution_count": 14,
     "metadata": {},
     "output_type": "execute_result"
    }
   ],
   "source": [
    "pd.concat([final_df.isna().sum(),(final_df.isna().sum()/len(final_df))*100], axis = 1)"
   ]
  },
  {
   "cell_type": "code",
   "execution_count": 15,
   "id": "e5b24ef9",
   "metadata": {},
   "outputs": [],
   "source": [
    "#Smart Imputations is done here\n",
    "# mode of country grouped by director is imputed for missing values in country\n",
    "# director_country = (final_df.groupby('director')['country'].\\\n",
    "#                     agg(lambda x: x.mode()[0] if len(x.mode()) > 1 else x.mode())).to_dict()\n",
    "\n",
    "# # final_df['country1'] = final_df.apply(lambda x: director_country.get(x['director']) if x['country'] != x['country'] else x['country'] ,axis =1  )\n",
    "# final_df['country'] = final_df['country'].fillna(final_df['director'].map(director_country))"
   ]
  },
  {
   "cell_type": "code",
   "execution_count": 16,
   "id": "5252e244",
   "metadata": {},
   "outputs": [
    {
     "name": "stdout",
     "output_type": "stream",
     "text": [
      "<class 'pandas.core.frame.DataFrame'>\n",
      "RangeIndex: 202065 entries, 0 to 202064\n",
      "Data columns (total 12 columns):\n",
      " #   Column        Non-Null Count   Dtype \n",
      "---  ------        --------------   ----- \n",
      " 0   show_id       202065 non-null  object\n",
      " 1   type          202065 non-null  object\n",
      " 2   title         202065 non-null  object\n",
      " 3   director      151422 non-null  object\n",
      " 4   cast          199916 non-null  object\n",
      " 5   country       190168 non-null  object\n",
      " 6   date_added    201907 non-null  object\n",
      " 7   release_year  202065 non-null  int64 \n",
      " 8   rating        201998 non-null  object\n",
      " 9   duration      202062 non-null  object\n",
      " 10  listed_in     202065 non-null  object\n",
      " 11  description   202065 non-null  object\n",
      "dtypes: int64(1), object(11)\n",
      "memory usage: 18.5+ MB\n"
     ]
    }
   ],
   "source": [
    "final_df.info()"
   ]
  },
  {
   "cell_type": "code",
   "execution_count": 17,
   "id": "29ff120a",
   "metadata": {
    "id": "29ff120a"
   },
   "outputs": [],
   "source": [
    "final_df['country']=final_df['country'].fillna('Unknown Country')\n",
    "final_df['cast']=final_df['cast'].fillna('Unknown Actor')\n",
    "final_df['director'] = final_df['director'].fillna('Unknown Director')\n",
    "final_df['listed_in']  = final_df['listed_in'].fillna('Unknown Genre')\n",
    "final_df['rating'] = final_df['rating'].fillna('Unknown Rating')\n",
    "final_df['duration'] = final_df['duration'].fillna(0)"
   ]
  },
  {
   "cell_type": "markdown",
   "id": "c501b1fd",
   "metadata": {
    "id": "c501b1fd"
   },
   "source": [
    "## Feature Engineering"
   ]
  },
  {
   "cell_type": "markdown",
   "id": "56b04a7d",
   "metadata": {
    "id": "56b04a7d"
   },
   "source": [
    "### Converted Date added to DateTime column and extracted dayname, day, month, year and week of the year  "
   ]
  },
  {
   "cell_type": "code",
   "execution_count": 18,
   "id": "a71a0148",
   "metadata": {
    "id": "a71a0148"
   },
   "outputs": [],
   "source": [
    "final_df['date_added'] = pd.to_datetime(final_df['date_added'].apply(lambda x: str(x).strip()))\n",
    "final_df['dayname'] = final_df['date_added'].dt.day_name()\n",
    "final_df['day'] = final_df['date_added'].dt.day\n",
    "final_df['month'] = final_df['date_added'].dt.month_name()\n",
    "final_df['year'] = final_df['date_added'].dt.year\n",
    "final_df['week'] = final_df['date_added'].dt.isocalendar().week\n",
    "final_df['year_diff'] = final_df['year'] - final_df['release_year']\n",
    "final_df.drop(columns=['date_added'],inplace = True)"
   ]
  },
  {
   "cell_type": "code",
   "execution_count": 19,
   "id": "ba24467f",
   "metadata": {},
   "outputs": [
    {
     "data": {
      "text/plain": [
       "Index(['show_id', 'type', 'title', 'director', 'cast', 'country',\n",
       "       'release_year', 'rating', 'duration', 'listed_in', 'description',\n",
       "       'dayname', 'day', 'month', 'year', 'week', 'year_diff'],\n",
       "      dtype='object')"
      ]
     },
     "execution_count": 19,
     "metadata": {},
     "output_type": "execute_result"
    }
   ],
   "source": [
    "final_df.columns"
   ]
  },
  {
   "cell_type": "code",
   "execution_count": 20,
   "id": "a86ad308",
   "metadata": {},
   "outputs": [],
   "source": [
    "def release_year_bins(x):\n",
    "    if x <= 1960:\n",
    "        return '<1960'\n",
    "    elif x>1960 and x <= 1970:\n",
    "        return '60s'\n",
    "    elif x>1970 and x <= 1980:\n",
    "        return '70s'\n",
    "    elif x>1980 and x <= 1990:\n",
    "        return '80s'\n",
    "    else:\n",
    "        return x\n",
    "\n",
    "def days_bins(x):\n",
    "    if x>=1 and x<=7:\n",
    "        return '1st week'\n",
    "    elif x>7 and x<=14:\n",
    "        return '2nd week'\n",
    "    elif x>14 and x<= 21:\n",
    "        return '3rd week'\n",
    "    else:\n",
    "        return '4th week'\n",
    "    "
   ]
  },
  {
   "cell_type": "code",
   "execution_count": null,
   "id": "bf82761d",
   "metadata": {},
   "outputs": [],
   "source": [
    "final_df['release_year_bins'] = final_df['release_year'].apply(release_year_bins)\n",
    "final_df['days_bins'] = final_df['day'].apply(days_bins)"
   ]
  },
  {
   "cell_type": "markdown",
   "id": "414c47de",
   "metadata": {
    "id": "414c47de"
   },
   "source": [
    "### Converted Duration column from object to numerical column"
   ]
  },
  {
   "cell_type": "code",
   "execution_count": null,
   "id": "f87daa13",
   "metadata": {
    "id": "f87daa13"
   },
   "outputs": [],
   "source": [
    "#converting the duration from object type to float\n",
    "final_df['duration'] = final_df['duration'].str.split(' ',expand = True)[0].astype('float')"
   ]
  },
  {
   "cell_type": "markdown",
   "id": "0e89bd13",
   "metadata": {
    "id": "0e89bd13"
   },
   "source": [
    "### Statistical Summary in unnested data:"
   ]
  },
  {
   "cell_type": "code",
   "execution_count": null,
   "id": "dd45b5ac",
   "metadata": {
    "colab": {
     "base_uri": "https://localhost:8080/",
     "height": 300
    },
    "id": "dd45b5ac",
    "outputId": "353c9a47-0228-4b9c-d710-0b4955afd58b"
   },
   "outputs": [],
   "source": [
    "final_df.describe()"
   ]
  },
  {
   "cell_type": "code",
   "execution_count": null,
   "id": "3f2c15c8",
   "metadata": {
    "colab": {
     "base_uri": "https://localhost:8080/",
     "height": 175
    },
    "id": "3f2c15c8",
    "outputId": "fa2a644c-22e0-425f-8e3c-830a18ac8504"
   },
   "outputs": [],
   "source": [
    "final_df.describe(include = 'object')"
   ]
  },
  {
   "cell_type": "markdown",
   "id": "abd7eb7f",
   "metadata": {
    "id": "abd7eb7f"
   },
   "source": [
    "### Here we cannot derive much inferences as due to nesting many records are duplicated"
   ]
  },
  {
   "cell_type": "markdown",
   "id": "65d71860",
   "metadata": {
    "id": "65d71860"
   },
   "source": [
    "## Non-Graphical Analysis: Value counts and unique attributes  "
   ]
  },
  {
   "cell_type": "code",
   "execution_count": null,
   "id": "2509d357",
   "metadata": {
    "id": "2509d357"
   },
   "outputs": [],
   "source": [
    "# this function is to bold python output\n",
    "def bold_text(text):\n",
    "    bold_start = '\\033[1m'\n",
    "    bold_end = '\\033[0m'\n",
    "    return bold_start + text + bold_end"
   ]
  },
  {
   "cell_type": "code",
   "execution_count": null,
   "id": "e2605959",
   "metadata": {
    "id": "e2605959"
   },
   "outputs": [],
   "source": [
    "cols_list = ['type','director','cast','country','release_year','rating','duration','listed_in']"
   ]
  },
  {
   "cell_type": "markdown",
   "id": "d25adc06",
   "metadata": {
    "id": "d25adc06"
   },
   "source": [
    "### Value counts and unique attributes in original data"
   ]
  },
  {
   "cell_type": "code",
   "execution_count": null,
   "id": "747b60a2",
   "metadata": {
    "colab": {
     "base_uri": "https://localhost:8080/",
     "height": 0
    },
    "id": "747b60a2",
    "outputId": "2d6b1fba-ed2c-421a-9214-dcefd1365dc8",
    "scrolled": true
   },
   "outputs": [],
   "source": [
    "for i in cols_list:\n",
    "    print(bold_text(i.upper()+':'))\n",
    "    print(f'Number of unique elements in {i} is:\\n {df[i].nunique()}\\n')\n",
    "    print(f'Unique elements present in {i} column is:\\n {df[i].unique()}\\n')\n",
    "    print(f'Value Counts of {i} columns is:\\n{df[i].value_counts()}\\n\\n\\n')"
   ]
  },
  {
   "cell_type": "markdown",
   "id": "e7ffd095",
   "metadata": {
    "id": "e7ffd095"
   },
   "source": [
    "### Value counts and unique attributes in unnested data  "
   ]
  },
  {
   "cell_type": "code",
   "execution_count": null,
   "id": "ccb17fed",
   "metadata": {
    "id": "ccb17fed"
   },
   "outputs": [],
   "source": [
    "cols_list = ['type','rating','director','cast','country','listed_in','release_year_bins','year','week','month','days_bins','dayname']"
   ]
  },
  {
   "cell_type": "code",
   "execution_count": null,
   "id": "677a7169",
   "metadata": {
    "colab": {
     "base_uri": "https://localhost:8080/",
     "height": 0
    },
    "id": "677a7169",
    "outputId": "d8dc76ea-3f50-4c47-a31c-27cc7c392d39",
    "scrolled": true
   },
   "outputs": [],
   "source": [
    "for i in cols_list:\n",
    "    print(bold_text(i.upper()+':'))\n",
    "    print(f'Number of unique elements in {i} is:\\n {final_df[i].nunique()}\\n')\n",
    "    print(f'Unique elements present in {i} column is:\\n {final_df[i].unique()}\\n')\n",
    "    print(f'Value Counts of {i} columns is:\\n{final_df[i].value_counts()}\\n\\n\\n')"
   ]
  },
  {
   "cell_type": "markdown",
   "id": "adec3c56",
   "metadata": {},
   "source": [
    "### Replacing values in Listed in"
   ]
  },
  {
   "cell_type": "code",
   "execution_count": null,
   "id": "cd96dfba",
   "metadata": {},
   "outputs": [],
   "source": [
    "values = {\n",
    "    'Dramas':'Drama','Comedies':'Comedy','TV Dramas':'Drama','TV Comedies':'Comedy',\n",
    "    'Romantic Movies':'Romantic','Romantic TV Shows':'Romantic',\n",
    "    'Crime TV Shows':'Crime','Horror Movies':'Horror',\"Kids' TV\":'Kids','Children & Family Movies':'Kids',\n",
    "    'International Movies':'International','International TV Shows':'International',\n",
    "    'Independent Movies':'Movies',\n",
    "    'Music & Musicals':'Music','Anime Series':'Anime','TV Action & Adventure':'Action & Adventure',\n",
    "    'Spanish-Language TV Shows':'Spanish','British TV Shows':'British','Sports Movies':'Sports','Classic Movies':'Classic',\n",
    "    'TV Mysteries':'Mystery','Korean TV Shows':'Korean','Cult Movies':'Cult','TV Sci-Fi & Fantasy':'Sci-Fi & Fantasy',\n",
    "    'Anime Features':'Anime','TV Horror':'Horror','Docuseries':'Documentaries','TV Thrillers':'Thrillers','Teen TV Shows':'Teen',\n",
    "    'Reality TV':'Reality','Stand-Up Comedy':'Comedy','Stand-Up Comedy & Talk Shows':'Comedy',\n",
    "    \n",
    "}\n",
    "final_df['listed_in'] = final_df['listed_in'].replace(values)"
   ]
  },
  {
   "cell_type": "code",
   "execution_count": null,
   "id": "1f29a763",
   "metadata": {},
   "outputs": [],
   "source": [
    "final_df['listed_in'].nunique()"
   ]
  },
  {
   "cell_type": "markdown",
   "id": "e2f0fcf2",
   "metadata": {
    "id": "d238b632"
   },
   "source": [
    "### Dividing the dataset into two categories Movies and Shows"
   ]
  },
  {
   "cell_type": "code",
   "execution_count": null,
   "id": "a1f6ab37",
   "metadata": {
    "id": "33691963"
   },
   "outputs": [],
   "source": [
    "movies = final_df[final_df['type'] =='Movie']\n",
    "shows = final_df[final_df['type'] == 'TV Show']"
   ]
  },
  {
   "cell_type": "code",
   "execution_count": null,
   "id": "ffbdeda7",
   "metadata": {
    "id": "ffbdeda7"
   },
   "outputs": [],
   "source": [
    "cols_list = ['type','rating','director','cast','country','listed_in','release_year_bins','year','week','month','days_bins','dayname','duration']"
   ]
  },
  {
   "cell_type": "code",
   "execution_count": null,
   "id": "d31db5ca",
   "metadata": {
    "colab": {
     "base_uri": "https://localhost:8080/",
     "height": 0
    },
    "id": "d31db5ca",
    "outputId": "13388dfb-d43c-4110-a2f1-99d2de8404b8",
    "scrolled": true
   },
   "outputs": [],
   "source": [
    "for i in cols_list:\n",
    "    print(bold_text(i.upper()+':'))\n",
    "    print(f'Number of unique elements in {i} is:\\n {movies[i].nunique()}\\n')\n",
    "    print(f'Unique elements present in {i} column is:\\n {movies[i].unique()}\\n')\n",
    "    print(f'Value Counts of {i} columns is:\\n{movies[i].value_counts()}\\n\\n\\n')"
   ]
  },
  {
   "cell_type": "code",
   "execution_count": null,
   "id": "c1f0c0e4",
   "metadata": {
    "colab": {
     "base_uri": "https://localhost:8080/",
     "height": 0
    },
    "id": "c1f0c0e4",
    "outputId": "b435bc5f-1b9b-44e2-96c7-4143b75823e1",
    "scrolled": true
   },
   "outputs": [],
   "source": [
    "for i in cols_list:\n",
    "    print(bold_text(i.upper()+':'))\n",
    "    print(f'Number of unique elements in {i} is:\\n {shows[i].nunique()}\\n')\n",
    "    print(f'Unique elements present in {i} column is:\\n {shows[i].unique()}\\n')\n",
    "    print(f'Value Counts of {i} columns is:\\n{shows[i].value_counts()}\\n\\n\\n')"
   ]
  },
  {
   "cell_type": "code",
   "execution_count": null,
   "id": "31d3ea5e",
   "metadata": {},
   "outputs": [],
   "source": [
    "print(\"Number of directors that directed both movies and shows are:\",\\\n",
    "len(set(movies['director'].unique()).intersection(shows['director'].unique())) )"
   ]
  },
  {
   "cell_type": "code",
   "execution_count": null,
   "id": "4db70ee1",
   "metadata": {
    "colab": {
     "base_uri": "https://localhost:8080/",
     "height": 0
    },
    "id": "4db70ee1",
    "outputId": "96d81bd5-3a36-4bf6-ad02-89e23d93fc85"
   },
   "outputs": [],
   "source": [
    "print(\"Number of cast members that worked in both movies and shows are:\",\\\n",
    "      len(set(movies['cast'].unique()).intersection(shows['cast'].unique())) )"
   ]
  },
  {
   "cell_type": "markdown",
   "id": "60ddf44f",
   "metadata": {
    "id": "60ddf44f"
   },
   "source": [
    "### Insights from Non Graphical Analysis:\n",
    "\n",
    "\n",
    "<br><br><span style=\"font-size:16px;line-height:20px;font-family:Calibri (Body);\">\n",
    "    <strong><span style=\"font-size:16px;\">\n",
    "        &emsp;&emsp;Type:<br></strong></span>\n",
    "&emsp;&emsp;&emsp;&emsp;There are Only Two types of Show -> Movies and TV Shows<Br>\n",
    "&emsp;&emsp;&emsp;&emsp;b. Out of 8807 shows 6131 shows are Movies and 2676 shows are TV Shows\n",
    "<br><br>\n",
    "<strong><span style=\"font-size:16px;\">&emsp;&emsp;Rating:<br> </strong></span>\n",
    "\t&emsp;&emsp;&emsp;&emsp;a. There were a total of 17 ratings present for movies. Only  9 of which  are ratings used in TV Shows<br>\n",
    "<br><br>\n",
    "<strong><span style=\"font-size:16px;\">&emsp;&emsp;Director:<br> </strong></span>\n",
    "\t&emsp;&emsp;&emsp;&emsp;a. There were a total of 4528 directors in original dataset<br>\n",
    "\t&emsp;&emsp;&emsp;&emsp;b. There are a total of 4993 directors in the unnested dataset. Out of which 4777 directors worked in movies and only 299 directors worked in TV shows. Also, 84 directors directed both in Movies and TV Shows.\n",
    "<br><br>\n",
    "<strong><span style=\"font-size:16px;\">&emsp;&emsp;Cast:<br> </strong></span>\n",
    "\t&emsp;&emsp;&emsp;&emsp;a. There were a total of 7692 actors in original dataset<br>\n",
    "\t&emsp;&emsp;&emsp;&emsp;b. There are a total of 36439 casted actors/actress present in the unnested dataset. Out of which 25951 worked in movies and 14863 worked in TV Shows. Only 4376 worked both in Movies and TV Shows.\n",
    "<br><br>\n",
    "<strong><span style=\"font-size:16px;\">&emsp;&emsp;Country:<br> </strong></span>\n",
    "\t&emsp;&emsp;&emsp;&emsp;a. There were a total of 748 different values of clubbe country in original dataset<br>\n",
    "\t&emsp;&emsp;&emsp;&emsp;b. There are a total of 123 countries where these shows were available. Movies were accessible in 118 different countries and only 66 countries for TV Shows\n",
    "<br><br>\n",
    "<strong><span style=\"font-size:16px;\">&emsp;&emsp;Genre/Listed_in:<br> </strong></span>\n",
    "\t&emsp;&emsp;&emsp;&emsp;a. There are a total of 28 genres  values of present in the dataset. Out of which 18 belong to Movies and 21 belong the TV shows<br>\n",
    "\t&emsp;&emsp;&emsp;&emsp;b. There are a total of 123 countries where these shows were available<br>\n",
    "\t&emsp;&emsp;&emsp;&emsp;c. Drama and International Genres have the highest number of movies and TV Shows.\n",
    "<br><br>\n",
    "<strong><span style=\"font-size:16px;\">&emsp;&emsp;Years:<br> </strong></span>\n",
    "\t&emsp;&emsp;&emsp;&emsp;a. These movies/TV Shows were released in 74 different years starting from 1925. First TV Shows that was realeased in the dataset was in year 1925 and Movie was in year 1942.<br>\n",
    "\t&emsp;&emsp;&emsp;&emsp;b. 75% of movies were released in the last decade and 75% of Shows were released in last 7 years.<br>\n",
    "\t<br>\n",
    "\t&emsp;&emsp;&emsp;&emsp;c. Only from 2008 these tv shows/movies were added in the company. Most of the tv shows/movies were added in July following by December<br>\n",
    "\t&emsp;&emsp;&emsp;&emsp; Most of the tv shows/movies were released in Friday followed by Thursday\n",
    "<br><br>\n",
    "</span>"
   ]
  },
  {
   "cell_type": "markdown",
   "id": "87cb5e5c",
   "metadata": {
    "id": "87cb5e5c"
   },
   "source": [
    "## Visual Analysis - Univariate, Bivariate after pre-processing of the data"
   ]
  },
  {
   "cell_type": "code",
   "execution_count": null,
   "id": "3b4e0eb9",
   "metadata": {
    "colab": {
     "base_uri": "https://localhost:8080/",
     "height": 701
    },
    "id": "3b4e0eb9",
    "outputId": "35aa7a0a-4a9c-4375-9ec8-71a7ad5c3b7d"
   },
   "outputs": [],
   "source": [
    "plt.figure(figsize =(15,5))\n",
    "\n",
    "plt.subplot(1,2,1)\n",
    "movies[['show_id','rating']].drop_duplicates(keep = 'first')['rating'].value_counts().plot(kind = 'bar')\n",
    "plt.title('Frequency of Rating in movies')\n",
    "plt.grid()\n",
    "\n",
    "\n",
    "plt.subplot(1,2,2)\n",
    "shows[['show_id','rating']].drop_duplicates(keep = 'first')['rating'].value_counts().plot(kind = 'bar')\n",
    "plt.title('Frequency of Rating in TV Shows')\n",
    "plt.grid()\n",
    "\n",
    "plt.show()"
   ]
  },
  {
   "cell_type": "code",
   "execution_count": null,
   "id": "5bfad288",
   "metadata": {},
   "outputs": [],
   "source": [
    "mrating_others = ['NR', 'G', 'TV-Y7-FV', 'NC-17', 'UR', 'Unknown Rating',\n",
    "       '74 min', '84 min', '66 min']\n",
    "srating_others = ['NR', 'R','TV-G',\n",
    "       'Unknown Rating', 'TV-Y7-FV']\n",
    "\n",
    "movies['rating_new'] = movies.rating.apply(lambda x: 'others' if x in mrating_others else x)\n",
    "shows['rating_new'] = shows.rating.apply(lambda x: 'others' if x in srating_others else x)"
   ]
  },
  {
   "cell_type": "code",
   "execution_count": null,
   "id": "57e090e8",
   "metadata": {},
   "outputs": [],
   "source": [
    "shows[['show_id','rating_new']].drop_duplicates(keep = 'first')['rating_new'].value_counts().index"
   ]
  },
  {
   "cell_type": "code",
   "execution_count": null,
   "id": "8a8446e9",
   "metadata": {
    "colab": {
     "base_uri": "https://localhost:8080/",
     "height": 660
    },
    "id": "8a8446e9",
    "outputId": "3e43ede5-6c7d-4e25-8ad2-e506dbd7b48b"
   },
   "outputs": [],
   "source": [
    "plt.figure(figsize =(20,10))\n",
    "\n",
    "plt.subplot(1,2,1)\n",
    "mpie = movies[['show_id','rating_new']].drop_duplicates(keep = 'first')['rating_new'].value_counts()\n",
    "plt.pie(mpie, labels= mpie.index, autopct='%.0f%%')\n",
    "plt.title('Frequency of Rating in movies')\n",
    "\n",
    "\n",
    "plt.subplot(1,2,2)\n",
    "tpie = shows[['show_id','rating_new']].drop_duplicates(keep = 'first')['rating_new'].value_counts()\n",
    "plt.pie(tpie, labels= tpie.index, autopct='%.0f%%')\n",
    "plt.title('Frequency of Rating in TV Shows')\n",
    "\n",
    "plt.show()"
   ]
  },
  {
   "cell_type": "markdown",
   "id": "9573a3f6",
   "metadata": {
    "id": "9573a3f6"
   },
   "source": [
    "### Inferences from Rating:\n",
    "<span style=\"font-size:16px;line-height:20px;font-family:Calibri (Body);\">\n",
    "&emsp;&emsp;&emsp;&emsp;a. Netlix caters to a lot of Mature audience, 34% of movies and 48% of tv shows that are avaiable content is for mature<br>\n",
    "&emsp;&emsp;&emsp;&emsp;b. 23% and 27% movies and tv shows rated respectively as TV-14 i.e. children under age of 14 are not suitable to watch, target audience been mid and late teens<br>\n",
    "&emsp;&emsp;&emsp;&emsp;c. There are around 13% R Rated movies.<br>\n",
    "&emsp;&emsp;&emsp;&emsp;d.There are only 4% movies and 14% of TV Shows available for kids(TV-Y and TV-Y7)\n",
    "    \n",
    "<span>"
   ]
  },
  {
   "cell_type": "code",
   "execution_count": null,
   "id": "a3805987",
   "metadata": {
    "colab": {
     "base_uri": "https://localhost:8080/",
     "height": 0
    },
    "id": "a3805987",
    "outputId": "5eed9607-8b49-4416-ccf1-e1093107c8ae"
   },
   "outputs": [],
   "source": [
    "label = ['less than 1hr', 'between 1hr and 2hr','between 2hr and 3hr','greater than 3hr']\n",
    "movies_duration = movies.drop_duplicates(subset=['show_id','duration'], keep='first')['duration']\n",
    "(pd.cut(movies.drop_duplicates(subset=['show_id','duration'], keep='first')['duration'],\n",
    "               bins=[1,60,120,180,1000],\n",
    "               labels = label\n",
    ").value_counts()/len(movies_duration))*100"
   ]
  },
  {
   "cell_type": "code",
   "execution_count": null,
   "id": "f2f072f9",
   "metadata": {
    "colab": {
     "base_uri": "https://localhost:8080/",
     "height": 0
    },
    "id": "f2f072f9",
    "outputId": "37969251-b7ed-4d7f-9947-623cd9904600"
   },
   "outputs": [],
   "source": [
    "shows_duration = shows[['show_id','duration']].drop_duplicates(keep = 'first')['duration']\n",
    "shows_duration.value_counts()#/len(shows_duration)*100\n"
   ]
  },
  {
   "cell_type": "code",
   "execution_count": null,
   "id": "ca2788e1",
   "metadata": {
    "colab": {
     "base_uri": "https://localhost:8080/",
     "height": 699
    },
    "id": "ca2788e1",
    "outputId": "c9b4254c-7860-43e9-d849-a0e6eedaf66b",
    "scrolled": false
   },
   "outputs": [],
   "source": [
    "#binning duration of movies\n",
    "label = ['less than 1hr', 'between 1hr and 2hr','between 2hr and 3hr','greater than 3hr']\n",
    "movies_duration = movies.drop_duplicates(subset=['show_id','duration'], keep='first')['duration']\n",
    "(pd.cut(movies.drop_duplicates(subset=['show_id','duration'], keep='first')['duration'],\n",
    "               bins=[1,60,120,180,1000],\n",
    "               labels = label\n",
    ").value_counts()/len(movies_duration))*100\n",
    "\n",
    "plt.figure(figsize =(10,5))\n",
    "plt.subplot(1,2,1)\n",
    "label = ['less than 1hr', 'between 1hr and 2hr','between 2hr and 3hr','greater than 3hr']\n",
    "plt.title('Frequency of Duration of movies')\n",
    "pd.cut(movies.drop_duplicates(subset=['show_id','duration'], keep='first')['duration'],\n",
    "               bins=[1,60,120,180,1000],\n",
    "               labels = label\n",
    ").value_counts(ascending = True).plot(kind = 'barh')\n",
    "plt.grid()\n",
    "\n",
    "plt.subplot(1,2,2)\n",
    "shows[['show_id','duration']].drop_duplicates(keep = 'first')['duration'].value_counts(ascending = True).plot(kind = 'barh')\n",
    "plt.title('Frequency of Seasons of TV Shows')\n",
    "plt.grid()\n",
    "\n",
    "plt.show()"
   ]
  },
  {
   "cell_type": "markdown",
   "id": "03883fcc",
   "metadata": {
    "id": "03883fcc"
   },
   "source": [
    "### Inferences for Duration:\n",
    "<span style=\"font-size:16px;line-height:20px;font-family:Calibri (Body);\">\n",
    "&emsp;&emsp;&emsp;&emsp;a. 4499(~73%) movies are between 1hr and 2hr. 1095 Movies are between 2hr and 3hr.<br>\n",
    "&emsp;&emsp;&emsp;&emsp;b. 487 movies are less than 1hr. Only 47 movies are greater than 3hr.<br>\n",
    "&emsp;&emsp;&emsp;&emsp;c. TV Shows are mostly of only one season around 65%. There's one such TV Show which has 17 seasons.<br>\n",
    "&emsp;&emsp;&emsp;&emsp;d. There are only 26 such TV shows which have more than 8 seasons\n",
    "    \n",
    "<span>"
   ]
  },
  {
   "cell_type": "code",
   "execution_count": null,
   "id": "133075a7",
   "metadata": {
    "colab": {
     "base_uri": "https://localhost:8080/",
     "height": 530
    },
    "id": "133075a7",
    "outputId": "3bd866b9-522e-465e-9aba-6f5763e173bf"
   },
   "outputs": [],
   "source": [
    "plt.figure(figsize = (20,7))\n",
    "\n",
    "plt.subplot(1,2,1)\n",
    "mask = movies['director'] == 'Unknown Director'\n",
    "movies_director= movies.loc[~mask,['show_id','director']].drop_duplicates(keep = 'first')['director'].value_counts().head(10)\n",
    "sns.barplot(x = movies_director, y = movies_director.index )\n",
    "plt.title('Directors that produce highest number of movies')\n",
    "plt.ylabel('')\n",
    "plt.xlabel('')\n",
    "\n",
    "\n",
    "\n",
    "plt.subplot(1,2,2)\n",
    "mask = shows['director'] == 'Unknown Director'\n",
    "shows_director= shows.loc[~mask,['show_id','director']].drop_duplicates(keep = 'first')['director'].value_counts().head(10)\n",
    "sns.barplot(x = shows_director, y = shows_director.index )\n",
    "plt.title('Directors that produce highest number of shows')\n",
    "plt.ylabel('')\n",
    "plt.xlabel('')\n",
    "\n",
    "plt.show()"
   ]
  },
  {
   "cell_type": "markdown",
   "id": "e048633e",
   "metadata": {
    "id": "e048633e"
   },
   "source": [
    "### Inferences for Directors:\n",
    "<span style=\"font-size:16px;line-height:20px;font-family:Calibri (Body);\">\n",
    "    &emsp;&emsp;&emsp;&emsp;a. Rajiv Chilaka directed highest number of movies.<br>\n",
    "    &emsp;&emsp;&emsp;&emsp;b. Alaistar Fothergill directed highest number of TV Shows.<br>\n",
    "<span>"
   ]
  },
  {
   "cell_type": "code",
   "execution_count": null,
   "id": "3d9c5a70",
   "metadata": {
    "colab": {
     "base_uri": "https://localhost:8080/",
     "height": 718
    },
    "id": "3d9c5a70",
    "outputId": "669262f7-664d-4fd1-c84d-8e685b88409c"
   },
   "outputs": [],
   "source": [
    "plt.figure(figsize =(20,8))\n",
    "\n",
    "plt.subplot(1,2,1)\n",
    "mask = movies['cast'] == 'Unknown Actor'\n",
    "casts = movies.loc[~mask,['show_id','cast']].drop_duplicates(keep = 'first')['cast'].value_counts().head(10)\n",
    "sns.barplot(x=casts,y = casts.index)\n",
    "plt.title('Actors who have worked in most movies')\n",
    "plt.ylabel('')\n",
    "plt.xlabel('')\n",
    "\n",
    "plt.subplot(1,2,2)\n",
    "mask = shows['cast'] == 'Unknown Actor'\n",
    "casts = shows.loc[~mask,['show_id','cast']].drop_duplicates(keep = 'first')['cast'].value_counts().head(10)\n",
    "sns.barplot(x=casts,y = casts.index)\n",
    "plt.title('Actors who have worked in most TV shows')\n",
    "plt.ylabel('')\n",
    "plt.xlabel('')\n",
    "\n",
    "plt.show()"
   ]
  },
  {
   "cell_type": "markdown",
   "id": "e42c2e2a",
   "metadata": {
    "id": "e42c2e2a"
   },
   "source": [
    "### Inferences from Cast:\n",
    "<span style=\"font-size:16px;line-height:20px;font-family:Calibri (Body);\">\n",
    "    &emsp;&emsp;&emsp;&emsp;a. Anupam Kher has appeared in most of movies.<br>\n",
    "    &emsp;&emsp;&emsp;&emsp;b. Takahiko Sakurai has apperead in most of TV Shows.<br>\n",
    "    \n",
    "<span>"
   ]
  },
  {
   "cell_type": "code",
   "execution_count": null,
   "id": "2d70a712",
   "metadata": {
    "colab": {
     "base_uri": "https://localhost:8080/",
     "height": 565
    },
    "id": "2d70a712",
    "outputId": "6ce30d2b-2495-4722-a097-49e71b6426c8"
   },
   "outputs": [],
   "source": [
    "plt.figure(figsize=(15,5))\n",
    "\n",
    "plt.subplot(1,2,1)\n",
    "mask = movies['country'] == 'Unknown Country'\n",
    "movies.loc[~mask,['show_id','country']].drop_duplicates(keep = 'first')['country'].value_counts().head(10).plot(kind = 'bar')\n",
    "plt.title('Highest Number of movies released')\n",
    "\n",
    "\n",
    "plt.subplot(1,2,2)\n",
    "mask = shows['country'] == 'Unknown Country'\n",
    "shows.loc[~mask,['show_id','country']].drop_duplicates(keep = 'first')['country'].value_counts().head(10).plot(kind = 'bar')\n",
    "plt.title('Highest Number of shows released')\n",
    "\n",
    "plt.show()"
   ]
  },
  {
   "cell_type": "markdown",
   "id": "6e388b3a",
   "metadata": {
    "id": "6e388b3a"
   },
   "source": [
    "### Inferences from Country:\n",
    "<span style=\"font-size:16px;line-height:20px;font-family:Calibri (Body);\">\n",
    "    &emsp;&emsp;&emsp;&emsp;a. Highest number of movies were released in United States Followed by India and Uk. <br>\n",
    "    &emsp;&emsp;&emsp;&emsp;b. Highest number of TV Shows were released in United States followed by UK and Japan.\n",
    "    \n",
    "    \n",
    "<span>"
   ]
  },
  {
   "cell_type": "code",
   "execution_count": null,
   "id": "ec46bf1a",
   "metadata": {
    "colab": {
     "base_uri": "https://localhost:8080/",
     "height": 628
    },
    "id": "ec46bf1a",
    "outputId": "dc80c367-08ab-49af-e919-389503a56c0a",
    "scrolled": false
   },
   "outputs": [],
   "source": [
    "plt.figure(figsize =(15,5))\n",
    "plt.subplot(1,2,1)\n",
    "movies[['show_id','listed_in']].drop_duplicates(keep = 'first')['listed_in'].value_counts().head(10).plot(kind = 'bar')\n",
    "plt.title('Highest Number of movies released per Genre')\n",
    "plt.ylabel('')\n",
    "plt.xlabel('')\n",
    "\n",
    "\n",
    "plt.subplot(1,2,2)\n",
    "shows[['show_id','listed_in']].drop_duplicates(keep = 'first')['listed_in'].value_counts().head(10).plot(kind = 'bar')\n",
    "plt.title('Highest Number of shows released per Genre')\n",
    "plt.ylabel('')\n",
    "plt.xlabel('')\n",
    "\n",
    "plt.show()"
   ]
  },
  {
   "cell_type": "markdown",
   "id": "a133a096",
   "metadata": {
    "id": "a133a096"
   },
   "source": [
    "### Observations from Genres:\n",
    "<span style=\"font-size:16px;line-height:20px;font-family:Calibri (Body);\">\n",
    "    &emsp;&emsp;&emsp;&emsp;a. Highest Number of Movies/TV Shows are from International Movies, Dramas and Comedy Shows.\n",
    "    \n",
    "    \n",
    "<span>"
   ]
  },
  {
   "cell_type": "code",
   "execution_count": null,
   "id": "235ba40d",
   "metadata": {
    "colab": {
     "base_uri": "https://localhost:8080/",
     "height": 587
    },
    "id": "235ba40d",
    "outputId": "3bd9629b-0a44-4f0b-e06a-0eb09fd48990"
   },
   "outputs": [],
   "source": [
    "plt.figure(figsize =(10,5))\n",
    "\n",
    "plt.subplot(1,2,1)\n",
    "day_name = movies[['show_id','dayname']].drop_duplicates(keep = 'first')['dayname'].value_counts(ascending = True)\n",
    "plt.pie(day_name, labels= day_name.index, autopct='%.0f%%')\n",
    "plt.title('Shows released frequencies across the week')\n",
    "\n",
    "plt.subplot(1,2,2)\n",
    "day_name = shows[['show_id','dayname']].drop_duplicates(keep = 'first')['dayname'].value_counts(ascending = True)\n",
    "plt.pie(day_name, labels= day_name.index, autopct='%.0f%%')\n",
    "plt.title('Shows released frequencines across the week')\n",
    "plt.show()"
   ]
  },
  {
   "cell_type": "code",
   "execution_count": null,
   "id": "f3db2258",
   "metadata": {
    "colab": {
     "base_uri": "https://localhost:8080/",
     "height": 587
    },
    "id": "f3db2258",
    "outputId": "339c811d-79aa-4732-f528-5ac156772c34"
   },
   "outputs": [],
   "source": [
    "plt.figure(figsize =(10,5))\n",
    "\n",
    "plt.subplot(1,2,1)\n",
    "month_name = shows[['show_id','month']].drop_duplicates(keep = 'first')['month'].value_counts(ascending = True)\n",
    "plt.pie(month_name, labels= month_name.index, autopct='%.0f%%')\n",
    "plt.title('Shows released frequencies across the month of Year')\n",
    "\n",
    "plt.subplot(1,2,2)\n",
    "month_name = shows[['show_id','month']].drop_duplicates(keep = 'first')['month'].value_counts(ascending = True)\n",
    "plt.pie(month_name, labels= month_name.index, autopct='%.0f%%')\n",
    "plt.title('Shows released frequencies across the month of Year')\n",
    "\n",
    "plt.show()"
   ]
  },
  {
   "cell_type": "markdown",
   "id": "ada02970",
   "metadata": {
    "id": "ada02970"
   },
   "source": [
    "### Observations:\n",
    "<span style=\"font-size:16px;line-height:20px;font-family:Calibri (Body);\">\n",
    "    &emsp;&emsp;&emsp;&emsp;a. Most of the TV Shows/Movies are added in December or July\n",
    "    \n",
    "<span>"
   ]
  },
  {
   "cell_type": "code",
   "execution_count": null,
   "id": "05d55da9",
   "metadata": {
    "colab": {
     "base_uri": "https://localhost:8080/",
     "height": 487
    },
    "id": "05d55da9",
    "outputId": "7f8f8b95-5fbf-46a4-c7f1-6399924165aa"
   },
   "outputs": [],
   "source": [
    "plt.figure(figsize =(10,5))\n",
    "\n",
    "plt.subplot(1,2,1)\n",
    "days = movies[['show_id','day']].drop_duplicates(keep = 'first')['day']\n",
    "sns.histplot(days,bins = 8)\n",
    "plt.title('Movie Frequencies Across the Days of the Month')\n",
    "plt.ylabel('')\n",
    "\n",
    "plt.subplot(1,2,2)\n",
    "days = shows[['show_id','day']].drop_duplicates(keep = 'first')['day']\n",
    "sns.histplot(days,bins = 8)\n",
    "plt.title('Movie Releases Across the Day of the Month')\n",
    "plt.ylabel('')\n",
    "plt.show()"
   ]
  },
  {
   "cell_type": "code",
   "execution_count": null,
   "id": "984841de",
   "metadata": {
    "scrolled": false
   },
   "outputs": [],
   "source": [
    "plt.figure(figsize =(10,5))\n",
    "\n",
    "plt.subplot(1,2,1)\n",
    "days = movies[['show_id','days_bins']].drop_duplicates(keep = 'first')['days_bins']\n",
    "sns.histplot(days,bins = 8)\n",
    "plt.title('Movie Frequencies Across the Days of the Month')\n",
    "plt.ylabel('')\n",
    "\n",
    "plt.subplot(1,2,2)\n",
    "days = shows[['show_id','days_bins']].drop_duplicates(keep = 'first')['days_bins']\n",
    "sns.histplot(days,bins = 8)\n",
    "plt.title('Movie Releases Across the Day of the Month')\n",
    "plt.ylabel('')\n",
    "plt.show()"
   ]
  },
  {
   "cell_type": "markdown",
   "id": "097309b5",
   "metadata": {
    "id": "097309b5"
   },
   "source": [
    "### Observations:\n",
    "<span style=\"font-size:16px;line-height:20px;font-family:Calibri (Body);\">\n",
    "    &emsp;&emsp;&emsp;&emsp;a. Most of the TV Shows/Movies are added in the first week\n",
    "    \n",
    "<span>"
   ]
  },
  {
   "cell_type": "code",
   "execution_count": null,
   "id": "4d0df25e",
   "metadata": {},
   "outputs": [],
   "source": [
    "movies[['listed_in','director']].drop_duplicates(keep = 'first').groupby('listed_in').agg(lambda x: x.mode()[:2])"
   ]
  },
  {
   "cell_type": "code",
   "execution_count": null,
   "id": "574f8abd",
   "metadata": {
    "colab": {
     "base_uri": "https://localhost:8080/",
     "height": 465
    },
    "id": "574f8abd",
    "outputId": "42e6015e-b912-4e83-f97f-a4782b257419"
   },
   "outputs": [],
   "source": [
    "mon_list = np.array(['December','July'])\n",
    "mon_movies = movies.loc[movies['month'].isin(mon_list),['show_id','day','month']].drop_duplicates(keep = 'first')\n",
    "plt.figure(figsize = (15,5))\n",
    "sns.countplot(data = mon_movies,x = 'day',hue = 'month')\n",
    "plt.legend(loc='center')\n",
    "plt.show()"
   ]
  },
  {
   "cell_type": "code",
   "execution_count": null,
   "id": "e2ee27cc",
   "metadata": {
    "colab": {
     "base_uri": "https://localhost:8080/",
     "height": 610
    },
    "id": "e2ee27cc",
    "outputId": "18222562-3631-49d2-d150-a44ee86e1d0b"
   },
   "outputs": [],
   "source": [
    "plt.figure(figsize =(10,5))\n",
    "\n",
    "mon_list = np.array(['December','July'])\n",
    "mon_movies = movies.loc[movies['month'].isin(mon_list),['show_id','listed_in','month']].drop_duplicates(keep = 'first')[['month','listed_in']]\n",
    "sns.countplot(data = mon_movies,y = 'listed_in',hue = 'month')\n",
    "plt.xticks(rotation  = 90)\n",
    "plt.show()"
   ]
  },
  {
   "cell_type": "code",
   "execution_count": null,
   "id": "L1iTHsIGxB8t",
   "metadata": {
    "colab": {
     "base_uri": "https://localhost:8080/",
     "height": 487
    },
    "id": "L1iTHsIGxB8t",
    "outputId": "bdc7e070-e44a-47f3-ecbb-c4c4dc8b90f6"
   },
   "outputs": [],
   "source": [
    "plt.figure(figsize =(10,3))\n",
    "\n",
    "plt.subplot(1,2,1)\n",
    "days = movies[['show_id','year']].drop_duplicates(keep = 'first')['year']\n",
    "sns.histplot(days,bins = 30)\n",
    "plt.title('Movie Added Frequencies Across the Years')\n",
    "plt.ylabel('')\n",
    "\n",
    "plt.subplot(1,2,2)\n",
    "days = shows[['show_id','year']].drop_duplicates(keep = 'first')['year']\n",
    "sns.histplot(days,bins = 30)\n",
    "plt.title('TV Shows Added Frequencies Across the Years')\n",
    "plt.ylabel('')\n",
    "plt.show()"
   ]
  },
  {
   "cell_type": "markdown",
   "id": "2ee0c026",
   "metadata": {
    "id": "2ee0c026"
   },
   "source": [
    "### Inferences from Date Added :\n",
    "<span style=\"font-size:16px;line-height:20px;font-family:Calibri (Body);\">\n",
    "    &emsp;&emsp;&emsp;&emsp;a. Most of the TV Shows/Movies are added in December or July<br>\n",
    "    &emsp;&emsp;&emsp;&emsp;b. Most of the TV Shows/Movies are added in the first week<br>\n",
    "    &emsp;&emsp;&emsp;&emsp;c. Most of the movies are added in Month of December or July in the first week or last week<br>\n",
    "    &emsp;&emsp;&emsp;&emsp;d. Most of the movies are added in Month of December or July have genres Dramas International Movies and Comedies<br>\n",
    "    &emsp;&emsp;&emsp;&emsp;e. Most of the TV Shows are added in Month of December or July in the first week or last week<br>\n",
    "    &emsp;&emsp;&emsp;&emsp;f. Most of the TV Shows are added in Month of December or July have genres Dramas International Movies and Comedies<br>\n",
    "    &emsp;&emsp;&emsp;&emsp;g. Range of Year Added in 13 years<br>\n",
    "    \n",
    "<span>"
   ]
  },
  {
   "cell_type": "code",
   "execution_count": null,
   "id": "947b2294",
   "metadata": {
    "colab": {
     "base_uri": "https://localhost:8080/",
     "height": 770
    },
    "id": "947b2294",
    "outputId": "7b98fe3a-02cd-4603-dbf6-8a8308bafd6b"
   },
   "outputs": [],
   "source": [
    "plt.figure(figsize = (20,7))\n",
    "plt.subplot(2,1,1)\n",
    "sns.boxplot(data = movies,x= 'release_year')\n",
    "plt.title('Release Year Distribution in Movies')\n",
    "plt.xlabel('')\n",
    "\n",
    "plt.subplot(2,1,2)\n",
    "sns.boxplot(data = shows,x = 'release_year')\n",
    "plt.title('Release Year Distribution in Shows')\n",
    "plt.xlabel('')\n",
    "\n",
    "plt.show()\n"
   ]
  },
  {
   "cell_type": "code",
   "execution_count": null,
   "id": "68406fb3",
   "metadata": {
    "colab": {
     "base_uri": "https://localhost:8080/",
     "height": 300
    },
    "id": "68406fb3",
    "outputId": "0be791ec-1f76-4367-cc6c-ee902e60aaa3"
   },
   "outputs": [],
   "source": [
    "df[df['type'] == 'Movie'].describe()"
   ]
  },
  {
   "cell_type": "code",
   "execution_count": null,
   "id": "b5ccde78",
   "metadata": {
    "colab": {
     "base_uri": "https://localhost:8080/",
     "height": 300
    },
    "id": "b5ccde78",
    "outputId": "2cd30ab8-82fa-4ed0-a7f6-1e8a23dbf9f6"
   },
   "outputs": [],
   "source": [
    "df[df['type'] == 'TV Show'].describe()"
   ]
  },
  {
   "cell_type": "markdown",
   "id": "62564b68",
   "metadata": {
    "id": "62564b68"
   },
   "source": [
    "### Inferences from Release Year:\n",
    "<span style=\"font-size:16px;line-height:20px;font-family:Calibri (Body);\">\n",
    "    &emsp;&emsp;&emsp;&emsp;a. Very few movies were released before 2000 that are present in this dataset<br>\n",
    "    &emsp;&emsp;&emsp;&emsp;b. Very few TV Shows were released before 2010 that are present in this dataset<br>\n",
    "    &emsp;&emsp;&emsp;&emsp;c. Most of the movies were released between 2012 to 2018 that are present in this dataset<br>\n",
    "    &emsp;&emsp;&emsp;&emsp;d. Very few TV Shows were released between 2016 to 2020 that are present in this dataset<br>\n",
    "    &emsp;&emsp;&emsp;&emsp;e. Range of Release Year for Movies is equal to 79 years, for TV Shows it is equal to 96 years\n",
    "    \n",
    "<span>"
   ]
  },
  {
   "cell_type": "code",
   "execution_count": null,
   "id": "7c391d82",
   "metadata": {
    "colab": {
     "base_uri": "https://localhost:8080/",
     "height": 727
    },
    "id": "7c391d82",
    "outputId": "7e41a1aa-9c9c-4d43-b231-4cb21d106b05"
   },
   "outputs": [],
   "source": [
    "plt.figure(figsize = (20,5))\n",
    "box = final_df[['show_id','type','year_diff']].drop_duplicates()\n",
    "sns.boxplot(data = box,x='year_diff',y  = 'type')\n",
    "plt.show()"
   ]
  },
  {
   "cell_type": "code",
   "execution_count": null,
   "id": "735d842b",
   "metadata": {
    "colab": {
     "base_uri": "https://localhost:8080/",
     "height": 740
    },
    "id": "735d842b",
    "outputId": "a91957ca-9487-4a17-a945-d1de229e1890"
   },
   "outputs": [],
   "source": [
    "plt.figure(figsize = (7,3))\n",
    "box = final_df[['show_id','type','year_diff']].drop_duplicates()\n",
    "sns.kdeplot(data = box,x='year_diff',hue= 'type')\n",
    "plt.show()\n"
   ]
  },
  {
   "cell_type": "code",
   "execution_count": null,
   "id": "d708a98b",
   "metadata": {
    "colab": {
     "base_uri": "https://localhost:8080/",
     "height": 0
    },
    "id": "d708a98b",
    "outputId": "d5dc87bd-5ac5-424b-cdf6-3322a22cda63"
   },
   "outputs": [],
   "source": [
    "box[box['type'] == 'Movie'].max()"
   ]
  },
  {
   "cell_type": "code",
   "execution_count": null,
   "id": "10450c99",
   "metadata": {
    "colab": {
     "base_uri": "https://localhost:8080/",
     "height": 0
    },
    "id": "10450c99",
    "outputId": "01076bca-55ef-4166-81f6-fa11c3d3e57b"
   },
   "outputs": [],
   "source": [
    "box[box['type'] == 'TV Show'].max()"
   ]
  },
  {
   "cell_type": "markdown",
   "id": "e29830ea",
   "metadata": {
    "id": "e29830ea"
   },
   "source": [
    "### Inferences from difference between year added and year released:\n",
    "<span style=\"font-size:16px;line-height:20px;font-family:Calibri (Body);\">\n",
    "    &emsp;&emsp;&emsp;&emsp;a. Most of the movies/tv shows were added in the same year as it was released<br>\n",
    "    &emsp;&emsp;&emsp;&emsp;b. Highest year difference between when it was released and when it was added is 75 and 93 for movies and TV Shows respectively<br>    \n",
    "<span>"
   ]
  },
  {
   "cell_type": "code",
   "execution_count": null,
   "id": "fb5f2dc0",
   "metadata": {
    "colab": {
     "base_uri": "https://localhost:8080/",
     "height": 641
    },
    "id": "fb5f2dc0",
    "outputId": "a99db3c7-d0fb-497f-b042-194718e21696"
   },
   "outputs": [],
   "source": [
    "plt.figure(figsize = (7,3))\n",
    "\n",
    "movies_released_per_year = df.loc[df['type']=='Movie','release_year'].value_counts().sort_index()\n",
    "sns.lineplot(x = movies_released_per_year.index,y = movies_released_per_year,label = 'Movies')\n",
    "\n",
    "shows_released_per_year = df.loc[df['type']=='TV Show','release_year'].value_counts().sort_index()\n",
    "sns.lineplot(x =shows_released_per_year.index,y = shows_released_per_year,label = 'TV Shows')\n",
    "\n",
    "plt.xlabel('Release Year')\n",
    "plt.ylabel('')\n",
    "plt.title('Comparison of Number of Movies and TV Shows released over the years')\n",
    "plt.legend(loc = 'center')\n",
    "\n",
    "plt.show()"
   ]
  },
  {
   "cell_type": "code",
   "execution_count": null,
   "id": "f9ea8257",
   "metadata": {
    "colab": {
     "base_uri": "https://localhost:8080/",
     "height": 641
    },
    "id": "f9ea8257",
    "outputId": "85b10daa-8bb6-4b43-9a7c-c37f3be1f397"
   },
   "outputs": [],
   "source": [
    "plt.figure(figsize = (7,3))\n",
    "\n",
    "movies_added_per_year = movies.groupby('year')['show_id'].nunique()\n",
    "sns.lineplot(x = movies_added_per_year.index,y = movies_added_per_year,label = 'Movies')\n",
    "\n",
    "shows_added_per_year = shows.groupby('year')['show_id'].nunique()\n",
    "sns.lineplot(x =shows_added_per_year.index,y = shows_added_per_year,label = 'TV Shows')\n",
    "\n",
    "plt.xlabel('Added Year')\n",
    "plt.ylabel('')\n",
    "plt.title('Comparison of Number of Movies and TV Shows added over the years')\n",
    "plt.legend(loc = 'center')\n",
    "\n",
    "plt.show()"
   ]
  },
  {
   "cell_type": "markdown",
   "id": "9aa00b6d",
   "metadata": {
    "id": "9aa00b6d"
   },
   "source": [
    "### Number of Shows Released Across the Years :\n",
    "<span style=\"font-size:16px;line-height:20px;font-family:Calibri (Body);\">\n",
    "    &emsp;&emsp;&emsp;&emsp;a. In the recent years we can there has been a drop in release as well as drop in addition of Movies and Tv Shows. This maybe due to lack of data. As we donot have data we cannot conclude the above statement as true<br>\n",
    "<span>"
   ]
  },
  {
   "cell_type": "code",
   "execution_count": null,
   "id": "83689221",
   "metadata": {
    "colab": {
     "base_uri": "https://localhost:8080/",
     "height": 641
    },
    "id": "83689221",
    "outputId": "a47005f2-7e0f-4bb5-e027-695be8356882"
   },
   "outputs": [],
   "source": [
    "plt.figure(figsize = (7,3))\n",
    "\n",
    "movies_added_per_year = movies.groupby('year')['show_id'].nunique()\n",
    "sns.lineplot(x = movies_added_per_year.index,y = movies_added_per_year,label = 'Movies')\n",
    "\n",
    "shows_added_per_year = shows.groupby('year')['show_id'].nunique()\n",
    "sns.lineplot(x =shows_added_per_year.index,y = shows_added_per_year,label = 'TV Shows')\n",
    "\n",
    "plt.xlabel('Added Year')\n",
    "plt.ylabel('')\n",
    "plt.title('Comparison of Number of Movies and TV Shows added over the years')\n",
    "plt.legend(loc = 'center')\n",
    "plt.xlim(2008,2015)\n",
    "plt.ylim(0,60)\n",
    "\n",
    "plt.show()"
   ]
  },
  {
   "cell_type": "markdown",
   "id": "28668d1c",
   "metadata": {
    "id": "28668d1c"
   },
   "source": [
    "### Number of Shows Added across the years:\n",
    "<span style=\"font-size:16px;line-height:20px;font-family:Calibri (Body);\">\n",
    "    &emsp;&emsp;&emsp;&emsp;a. There has been spike in addtion of Movies and spike in addtion of TV Shows from 2013 and 2014 respectively.<span>"
   ]
  },
  {
   "cell_type": "code",
   "execution_count": null,
   "id": "4aeb9505",
   "metadata": {
    "colab": {
     "base_uri": "https://localhost:8080/",
     "height": 1000
    },
    "id": "4aeb9505",
    "outputId": "f1351baf-443c-4203-eb1b-fce06554d755"
   },
   "outputs": [],
   "source": [
    "sns.pairplot(data = movies)\n",
    "plt.show()"
   ]
  },
  {
   "cell_type": "code",
   "execution_count": null,
   "id": "5e3a5f51",
   "metadata": {
    "colab": {
     "base_uri": "https://localhost:8080/",
     "height": 1000
    },
    "id": "5e3a5f51",
    "outputId": "1171f86e-b524-4000-c0b3-bdd45d9d2dea"
   },
   "outputs": [],
   "source": [
    "sns.pairplot(data = shows)\n",
    "plt.show()"
   ]
  },
  {
   "cell_type": "code",
   "execution_count": null,
   "id": "34fa7363",
   "metadata": {
    "colab": {
     "base_uri": "https://localhost:8080/",
     "height": 548
    },
    "id": "34fa7363",
    "outputId": "a79a669c-fd2e-4d97-c67d-0eaacdb0bf2b"
   },
   "outputs": [],
   "source": [
    "plt.figure(figsize=(15,7))\n",
    "plt.subplot(1,2,1)\n",
    "sns.heatmap(movies[['release_year','duration','day','year','week','year_diff']].corr(),annot = True)\n",
    "\n",
    "\n",
    "\n",
    "plt.subplot(1,2,2)\n",
    "sns.heatmap(shows[['release_year','duration','day','year','week','year_diff']].corr(),annot = True)\n",
    "plt.show()"
   ]
  },
  {
   "cell_type": "code",
   "execution_count": null,
   "id": "839cce02",
   "metadata": {
    "colab": {
     "base_uri": "https://localhost:8080/",
     "height": 555
    },
    "id": "839cce02",
    "outputId": "74e8431e-962f-4a4a-f906-625ac1167a59"
   },
   "outputs": [],
   "source": [
    "plt.figure(figsize=(10,3))\n",
    "\n",
    "plt.subplot(1,2,1)\n",
    "corr_mov_data = movies[['release_year','duration','year']].drop_duplicates()\n",
    "sns.heatmap(corr_mov_data.corr(),annot = True)\n",
    "\n",
    "\n",
    "\n",
    "plt.subplot(1,2,2)\n",
    "corr_shows_data = shows[['release_year','duration','year']].drop_duplicates()\n",
    "sns.heatmap(corr_shows_data.corr(),annot = True)\n",
    "plt.show()"
   ]
  },
  {
   "cell_type": "markdown",
   "id": "d864f860",
   "metadata": {
    "id": "d864f860"
   },
   "source": [
    "### Observations:\n",
    "<span style=\"font-size:16px;line-height:20px;font-family:Calibri (Body);\">\n",
    "    &emsp;&emsp;&emsp;&emsp;a.  Except for release_year and year_diff, any clear correlation between any other columns cannot been seen.<span>"
   ]
  },
  {
   "cell_type": "code",
   "execution_count": null,
   "id": "a4e89e42",
   "metadata": {
    "colab": {
     "base_uri": "https://localhost:8080/",
     "height": 2232
    },
    "id": "a4e89e42",
    "outputId": "f6746ef0-8d66-44af-d475-eb562bf7f73f"
   },
   "outputs": [],
   "source": [
    "mask = movies['country'] == 'Unknown Country'\n",
    "mov_country_list = movies.loc[~mask,['show_id','country']].drop_duplicates(keep = 'first')['country'].value_counts().head(5).index.tolist()\n",
    "\n",
    "mask = shows['country'] == 'Unknown Country'\n",
    "show_country_list = shows.loc[~mask,['show_id','country']].drop_duplicates(keep = 'first')['country'].value_counts().head(5).index.tolist()\n",
    "\n",
    "\n",
    "mov_cg = movies[movies['country'].isin(mov_country_list)]\n",
    "show_cg = shows[shows['country'].isin(show_country_list)]\n",
    "\n",
    "mov_order = movies[['show_id','listed_in']].drop_duplicates(keep = 'first')['listed_in'].value_counts().index.tolist()\n",
    "show_order = shows[['show_id','listed_in']].drop_duplicates(keep = 'first')['listed_in'].value_counts().index.tolist()\n",
    "\n",
    "plt.figure(figsize = (15,20))\n",
    "\n",
    "plt.subplot(2,1,1)\n",
    "sns.countplot(data = mov_cg,x = 'listed_in',hue = 'country',order = mov_order,hue_order=mov_country_list)\n",
    "plt.ylabel('Genres')\n",
    "plt.xlabel('')\n",
    "plt.xticks(rotation = 90)\n",
    "\n",
    "plt.subplot(2,1,2)\n",
    "sns.countplot(data = show_cg,x = 'listed_in',hue = 'country',order = show_order,hue_order=show_country_list)\n",
    "plt.ylabel('Genres')\n",
    "plt.xlabel('')\n",
    "plt.xticks(rotation = 90)\n",
    "plt.show()"
   ]
  },
  {
   "cell_type": "markdown",
   "id": "9a665b8b",
   "metadata": {
    "id": "9a665b8b"
   },
   "source": [
    "### Inferneces from Top 5 Countries and Genres:\n",
    "<span style=\"font-size:16px;line-height:20px;font-family:Calibri (Body);\">\n",
    "    &emsp;&emsp;&emsp;&emsp;a. Most TV shows in United States are of Dramas, Comedy and Kids Genre.<Br>\n",
    "    &emsp;&emsp;&emsp;&emsp;b. Most TV Shows in United Kingdom are of British TV shows, International Shows and Dramas.<br>\n",
    "    &emsp;&emsp;&emsp;&emsp;c. Most TV shows in Japan are of International Shows and Anime Series.<Br>\n",
    "    &emsp;&emsp;&emsp;&emsp;d. Most TV Shows in South Korea are of International Shows, Korean and Romantic TV Shows.<br><br>\n",
    "    &emsp;&emsp;&emsp;&emsp;e. Most Movies in United States are of Dramas and Comedy.<Br>\n",
    "    &emsp;&emsp;&emsp;&emsp;f. Most Movies in United Kingdom are of International Movies, Dramas and Comedy Genre.<br>\n",
    "    &emsp;&emsp;&emsp;&emsp;g. Most Movies in India are of International Movies, Dramas and Comedy Genre.<Br>\n",
    "    &emsp;&emsp;&emsp;&emsp;h. Most Movies in France are of International Movies and Dramas.<br>\n",
    "\n",
    "    "
   ]
  },
  {
   "cell_type": "markdown",
   "id": "1Avi55UFzcxM",
   "metadata": {
    "id": "1Avi55UFzcxM"
   },
   "source": [
    "## Buisness Insights\n",
    "<br><br><span style=\"font-size:16px;line-height:20px;font-family:Calibri (Body);\">\n",
    "    <strong><span style=\"font-size:16px;\">\n",
    "        &emsp;&emsp;Type:<br></strong></span>\n",
    "    &emsp;&emsp;&emsp;&emsp;a. There are Only Two types of Show -> Movies and TV Shows<Br>\n",
    "    &emsp;&emsp;&emsp;&emsp;b. Out of 8807 shows 6131 shows are Movies and 2676 shows are TV Shows\n",
    "<br><br>\n",
    "\n",
    "<strong><span style=\"font-size:16px;\">&emsp;&emsp;Rating:<br> </strong></span>\n",
    "\t&emsp;&emsp;&emsp;&emsp;a. There were a total of 17 ratings present for movies. Only  9 of which  are ratings used in TV Shows<br>\n",
    "  &emsp;&emsp;&emsp;&emsp;b. Netlix caters to a lot of Mature audience, 34% of movies and 48% of tv shows that are avaiable content is for mature<br>\n",
    "  &emsp;&emsp;&emsp;&emsp;c. 23% and 27% movies and tv shows rated respectively as TV-14 i.e. children under age of 14 are not suitable to watch, target audience been mid and late teens<br>\n",
    "  &emsp;&emsp;&emsp;&emsp;d. There are around 13% R Rated movies.<br>\n",
    "  &emsp;&emsp;&emsp;&emsp;e.There are only 4% movies and 14% of TV Shows available for kids(TV-Y and TV-Y7)<br><br>\n",
    "\n",
    "<strong><span style=\"font-size:16px;\">&emsp;&emsp;Duration:<br> </strong></span>\n",
    "  &emsp;&emsp;&emsp;&emsp;a. 4499(~73%) movies are between 1hr and 2hr. 1095 Movies are between 2hr and 3hr.<br>\n",
    "  &emsp;&emsp;&emsp;&emsp;b. 487 movies are less than 1hr. Only 47 movies are greater than 3hr.<br>\n",
    "  &emsp;&emsp;&emsp;&emsp;c. TV Shows are mostly of only one season around 65%. There's one such TV Show which has 17 seasons.<br>\n",
    "  &emsp;&emsp;&emsp;&emsp;d. There are only 26 such TV shows which have more than 8 seasons\n",
    "<br><br>\n",
    "\n",
    "<strong><span style=\"font-size:16px;\">&emsp;&emsp;Director:<br> </strong></span>\n",
    "\t  &emsp;&emsp;&emsp;&emsp;a. There were a total of 4528 directors in original dataset<br>\n",
    "\t  &emsp;&emsp;&emsp;&emsp;b. There are a total of 4993 directors in the unnested dataset. Out of which 4777 directors worked in movies and only 299 directors worked in TV shows. Only 84 directors worked both in Movies and TV Shows<Br>\n",
    "    &emsp;&emsp;&emsp;&emsp;c. Rajiv Chilaka directed highest number of movies.<br>\n",
    "    &emsp;&emsp;&emsp;&emsp;d. Alaistar Fothergill directed highest number of TV Shows.\n",
    "<br><br>\n",
    "\n",
    "<strong><span style=\"font-size:16px;\">&emsp;&emsp;Cast:<br> </strong></span>\n",
    "\t&emsp;&emsp;&emsp;&emsp;a. There were a total of 7692 actors in original dataset<br>\n",
    "\t&emsp;&emsp;&emsp;&emsp;b. There are a total of 36439 casted actors/actress present in the unnested dataset. Out of which 25951 worked in movies and 14863 worked in TV Shows. Only 4376 worked both in Movies and TV Shows<br>\n",
    "   &emsp;&emsp;&emsp;&emsp;c. Anupam Kher has appeared in most of movies.<br>\n",
    "    &emsp;&emsp;&emsp;&emsp;d. Takahiko Sakurai has apperead in most of TV Shows.\n",
    "<br><br>\n",
    "\n",
    "\n",
    "<strong><span style=\"font-size:16px;\">&emsp;&emsp;Country:<br> </strong></span>\n",
    "\t&emsp;&emsp;&emsp;&emsp;a. There were a total of 748 different values of clubbed country in original dataset<br>\n",
    "\t&emsp;&emsp;&emsp;&emsp;b. There are a total of 123 countries where these shows were available. Movies were accessible in 118 different countries and 66 countries for TV Shows<br>\n",
    "  &emsp;&emsp;&emsp;&emsp;c. Highest number of movies were released in United States Followed by India and UK. <br>\n",
    "    &emsp;&emsp;&emsp;&emsp;d. Highest number of TV Shows were released in United States followed by UK and Japan.\n",
    "<br><br>\n",
    "\n",
    "<strong><span style=\"font-size:16px;\">&emsp;&emsp;Genre/Listed_in:<br> </strong></span>\n",
    "\t&emsp;&emsp;&emsp;&emsp;a. There are a total of 28 genres  values of present in the dataset. Out of which 18 belong to Movies and 21 belong the TV shows<br>\n",
    "\t&emsp;&emsp;&emsp;&emsp;b. There are a total of 123 countries where these shows were available<br>\n",
    "\t&emsp;&emsp;&emsp;&emsp;c. Drama and International Genres have the highest number of movies and TV Shows.\n",
    "<br><br>\n",
    "\n",
    "<strong><span style=\"font-size:16px;\">&emsp;&emsp;Years:<br> </strong></span>\n",
    "\t&emsp;&emsp;&emsp;&emsp;a. These movies/TV Shows were released in 74 different years starting from 1925. First TV Shows that was realeased in the dataset was in year 1925 and Movie was in year 1942.<br>\n",
    "\t&emsp;&emsp;&emsp;&emsp;b. 75% of movies were released in the last decade and 75% of Shows were released in last 7 years.<br>\n",
    "\t&emsp;&emsp;&emsp;&emsp;c. Only from 2008 these tv shows/movies were added. Most of the tv shows/movies were added in July following by December<br>\n",
    "\t&emsp;&emsp;&emsp;&emsp;d. Most of the tv shows/movies were released in Friday followed by Thursday<br>\n",
    "  &emsp;&emsp;&emsp;&emsp;e. Most of the TV Shows/Movies are added in December or July<br>\n",
    "    &emsp;&emsp;&emsp;&emsp;f. Most of the TV Shows/Movies are added in the first week<br>\n",
    "    &emsp;&emsp;&emsp;&emsp;g. Most of the movies are added in Month of December or July in the first week or last week<br>\n",
    "    &emsp;&emsp;&emsp;&emsp;h. Most of the movies are added in Month of December or July have genres Dramas International Movies and Comedies<br>\n",
    "    &emsp;&emsp;&emsp;&emsp;i. Most of the TV Shows are added in Month of December or July in the first week or last week<br>\n",
    "    &emsp;&emsp;&emsp;&emsp;j. Most of the TV Shows are added in Month of December or July have genres Dramas International Movies and Comedies<br>\n",
    "    &emsp;&emsp;&emsp;&emsp;k. Range of Year Added in 13 years<br>\n",
    "      &emsp;&emsp;&emsp;&emsp;l. Very few movies were released before 2000 that are present in this dataset<br>\n",
    "    &emsp;&emsp;&emsp;&emsp;m. Very few TV Shows were released before 2010 that are present in this dataset<br>\n",
    "    &emsp;&emsp;&emsp;&emsp;n. Most of the movies were released between 2012 to 2018 that are present in this dataset<br>\n",
    "    &emsp;&emsp;&emsp;&emsp;o. Very few TV Shows were released between 2016 to 2020 that are present in this dataset<br>\n",
    "    &emsp;&emsp;&emsp;&emsp;p. Range of Release Year for Movies is equal to 79 years, for TV Shows it is equal to 96 years\n",
    "<br><br>\n",
    "&emsp;&emsp;&emsp;&emsp;a. Most TV shows in United States are of Dramas, Comedy and Kids Genre.<Br>\n",
    "    &emsp;&emsp;&emsp;&emsp;b. Most TV Shows in United Kingdom are of British TV shows, International Shows and Dramas.<br>\n",
    "    &emsp;&emsp;&emsp;&emsp;c. Most TV shows in Japan are of International Shows and Anime Series.<Br>\n",
    "    &emsp;&emsp;&emsp;&emsp;d. Most TV Shows in South Korea are of International Shows, Korean TV shows and Romantic TV Shows.<br><br>\n",
    "    &emsp;&emsp;&emsp;&emsp;e. Most Movies in United States are of Dramas, Comedy and Children & Family Genre.<Br>\n",
    "    &emsp;&emsp;&emsp;&emsp;f. Most Movies in United Kingdom are of International Movies, Dramas and Comedy Genre.<br>\n",
    "    &emsp;&emsp;&emsp;&emsp;g. Most Movies in India are of International Movies, Dramas and Comedy Genre.<Br>\n",
    "    &emsp;&emsp;&emsp;&emsp;h. Most Movies in France are of International Movies and Dramas.<br><br>\n",
    "\n",
    "<strong><span style=\"font-size:16px;\">&emsp;&emsp;Inferences from Top 5 Countries and Genres:<br> </strong></span>\n",
    "<span style=\"font-size:16px;line-height:20px;font-family:Calibri (Body);\">\n",
    "    &emsp;&emsp;&emsp;&emsp;a. Most TV shows in United States are of Dramas, Comedy and Kids Genre.<Br>\n",
    "    &emsp;&emsp;&emsp;&emsp;b. Most TV Shows in United Kingdom are of British TV shows, International Shows and Dramas.<br>\n",
    "    &emsp;&emsp;&emsp;&emsp;c. Most TV shows in Japan are of International Shows and Anime Series.<Br>\n",
    "    &emsp;&emsp;&emsp;&emsp;d. Most TV Shows in South Korea are of International Shows, Korean TV shows and Romantic TV Shows.<br><br>\n",
    "    &emsp;&emsp;&emsp;&emsp;e. Most Movies in United States are of Dramas, Comedy and Children & Family Genre.<Br>\n",
    "    &emsp;&emsp;&emsp;&emsp;f. Most Movies in United Kingdom are of International Movies, Dramas and Comedy Genre.<br>\n",
    "    &emsp;&emsp;&emsp;&emsp;g. Most Movies in India are of International Movies, Dramas and Comedy Genre.<Br>\n",
    "    &emsp;&emsp;&emsp;&emsp;h. Most Movies in France are of International Movies and Dramas.<br><br>\n",
    "\n",
    "<strong><span style=\"font-size:16px;\">&emsp;&emsp;Other Inferences:<br> </strong></span>\n",
    "  &emsp;&emsp;&emsp;&emsp;a. Most of the movies/tv shows were added in the same year as it was released<br>\n",
    "    &emsp;&emsp;&emsp;&emsp;b. Highest year difference between when it was released and when it was added is 75 and 93 for movies and TV Shows respectively<br>\n",
    "     &emsp;&emsp;&emsp;&emsp;c. In the recent years we can there has been a drop in release as well as drop in addition of Movies and Tv Shows.<br>\n",
    "      &emsp;&emsp;&emsp;&emsp;d. There has been spike in addtion of Movies and spike in addtion of TV Shows from 2013 and 2014 respectively<span>\n",
    "<br><br>\n",
    "</span>"
   ]
  },
  {
   "cell_type": "markdown",
   "id": "RnXLOOR83uO-",
   "metadata": {
    "id": "RnXLOOR83uO-"
   },
   "source": [
    "## Recommendations\n",
    "\n",
    "1. Most of the shows are catered to mature audiences. Diversifying content genres is also important to attract a broader range of viewers. A mix of genres, including drama, comedy, action, romance, and documentary, to cater to varied tastes.\n",
    "\n",
    "2. Given the popularity of TV-14 rated content, more shows and movies should be tailored for the late teens demographic.\n",
    "\n",
    "8. Can Experiment with other genres like Sci-Fi, Fantasy, Thriller, and Documentaries.\n",
    "\n",
    "3. Due to kids less attention span, shows of length 15-20 mins should be available more. Side by Side it is also very important to implement a robust parental control and ensure that the content is suitable for this age group\n",
    "\n",
    "\n",
    "4. Focus on producing movies that fall within the popular 1-hour to 2-hour duration range.\n",
    "\n",
    "5. A strategic approach is to develop TV shows spanning 3-5 seasons, with each season having a compelling cliffhanger.  This will captivate viewers interest and anticipation, making them to eagerly await for the next season.\n",
    "\n",
    "6. Additionally we can create brief glimpses of behind the screens or share entertaining bloopers, providing a relatable and authentic connection to our audience.\n",
    "\n",
    "7. Some of the most old movies that are not present can be added, that were released before 2010, which will help to cater the elderly audience, creating a feeling of nostalgia. It will work especially well in a country like Japan due its higher older demographic.\n",
    "\n",
    "\n",
    "9. The trend of adding most TV shows and movies in Friday and Thursday in the first and last week of Decemeber and July can be leveraged. The release of highly anticipated original content can be done during these months to attract maximum viewership.\n",
    "\n",
    "\n",
    "\n"
   ]
  },
  {
   "cell_type": "code",
   "execution_count": null,
   "id": "b69f55dc",
   "metadata": {
    "id": "b69f55dc"
   },
   "outputs": [],
   "source": []
  }
 ],
 "metadata": {
  "colab": {
   "provenance": []
  },
  "kernelspec": {
   "display_name": "Python 3 (ipykernel)",
   "language": "python",
   "name": "python3"
  },
  "language_info": {
   "codemirror_mode": {
    "name": "ipython",
    "version": 3
   },
   "file_extension": ".py",
   "mimetype": "text/x-python",
   "name": "python",
   "nbconvert_exporter": "python",
   "pygments_lexer": "ipython3",
   "version": "3.11.5"
  }
 },
 "nbformat": 4,
 "nbformat_minor": 5
}
